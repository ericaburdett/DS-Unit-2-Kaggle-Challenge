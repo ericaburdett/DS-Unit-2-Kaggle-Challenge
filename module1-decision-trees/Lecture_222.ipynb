{
  "nbformat": 4,
  "nbformat_minor": 0,
  "metadata": {
    "kernelspec": {
      "display_name": "Python 3",
      "language": "python",
      "name": "python3"
    },
    "language_info": {
      "codemirror_mode": {
        "name": "ipython",
        "version": 3
      },
      "file_extension": ".py",
      "mimetype": "text/x-python",
      "name": "python",
      "nbconvert_exporter": "python",
      "pygments_lexer": "ipython3",
      "version": "3.7.3"
    },
    "colab": {
      "name": "Lecture_222.ipynb",
      "provenance": [],
      "collapsed_sections": [],
      "include_colab_link": true
    },
    "widgets": {
      "application/vnd.jupyter.widget-state+json": {
        "ac3377426de540909a7746b165a8cf8c": {
          "model_module": "@jupyter-widgets/controls",
          "model_name": "VBoxModel",
          "state": {
            "_view_name": "VBoxView",
            "_dom_classes": [
              "widget-interact"
            ],
            "_model_name": "VBoxModel",
            "_view_module": "@jupyter-widgets/controls",
            "_model_module_version": "1.5.0",
            "_view_count": null,
            "_view_module_version": "1.5.0",
            "box_style": "",
            "layout": "IPY_MODEL_20ac7f9102aa4f66bfb8d3fd06df82b2",
            "_model_module": "@jupyter-widgets/controls",
            "children": [
              "IPY_MODEL_a13032f7934c41069d3b365b2754c1f3",
              "IPY_MODEL_d569dcfae6494c63ba06685eb68a0075",
              "IPY_MODEL_93be73d4a196409296cfac258462e93d"
            ]
          }
        },
        "20ac7f9102aa4f66bfb8d3fd06df82b2": {
          "model_module": "@jupyter-widgets/base",
          "model_name": "LayoutModel",
          "state": {
            "_view_name": "LayoutView",
            "grid_template_rows": null,
            "right": null,
            "justify_content": null,
            "_view_module": "@jupyter-widgets/base",
            "overflow": null,
            "_model_module_version": "1.2.0",
            "_view_count": null,
            "flex_flow": null,
            "width": null,
            "min_width": null,
            "border": null,
            "align_items": null,
            "bottom": null,
            "_model_module": "@jupyter-widgets/base",
            "top": null,
            "grid_column": null,
            "overflow_y": null,
            "overflow_x": null,
            "grid_auto_flow": null,
            "grid_area": null,
            "grid_template_columns": null,
            "flex": null,
            "_model_name": "LayoutModel",
            "justify_items": null,
            "grid_row": null,
            "max_height": null,
            "align_content": null,
            "visibility": null,
            "align_self": null,
            "height": null,
            "min_height": null,
            "padding": null,
            "grid_auto_rows": null,
            "grid_gap": null,
            "max_width": null,
            "order": null,
            "_view_module_version": "1.2.0",
            "grid_template_areas": null,
            "object_position": null,
            "object_fit": null,
            "grid_auto_columns": null,
            "margin": null,
            "display": null,
            "left": null
          }
        },
        "a13032f7934c41069d3b365b2754c1f3": {
          "model_module": "@jupyter-widgets/controls",
          "model_name": "IntSliderModel",
          "state": {
            "_view_name": "IntSliderView",
            "style": "IPY_MODEL_d85d839691cc42d8aa1a3e1b32d8acff",
            "_dom_classes": [],
            "description": "max_depth",
            "step": 1,
            "_model_name": "IntSliderModel",
            "orientation": "horizontal",
            "max": 6,
            "_view_module": "@jupyter-widgets/controls",
            "_model_module_version": "1.5.0",
            "value": 1,
            "_view_count": null,
            "disabled": false,
            "_view_module_version": "1.5.0",
            "min": 1,
            "continuous_update": true,
            "readout_format": "d",
            "description_tooltip": null,
            "readout": true,
            "_model_module": "@jupyter-widgets/controls",
            "layout": "IPY_MODEL_5f7b00131ade4adaaa1667f8450d36b6"
          }
        },
        "d569dcfae6494c63ba06685eb68a0075": {
          "model_module": "@jupyter-widgets/controls",
          "model_name": "IntSliderModel",
          "state": {
            "_view_name": "IntSliderView",
            "style": "IPY_MODEL_1d586aea5b654db49ba52771498d976e",
            "_dom_classes": [],
            "description": "n_estimators",
            "step": 10,
            "_model_name": "IntSliderModel",
            "orientation": "horizontal",
            "max": 40,
            "_view_module": "@jupyter-widgets/controls",
            "_model_module_version": "1.5.0",
            "value": 10,
            "_view_count": null,
            "disabled": false,
            "_view_module_version": "1.5.0",
            "min": 10,
            "continuous_update": true,
            "readout_format": "d",
            "description_tooltip": null,
            "readout": true,
            "_model_module": "@jupyter-widgets/controls",
            "layout": "IPY_MODEL_50be0abab5c84e7bb69c2e406f3ed991"
          }
        },
        "93be73d4a196409296cfac258462e93d": {
          "model_module": "@jupyter-widgets/output",
          "model_name": "OutputModel",
          "state": {
            "_view_name": "OutputView",
            "msg_id": "",
            "_dom_classes": [],
            "_model_name": "OutputModel",
            "outputs": [
              {
                "output_type": "display_data",
                "metadata": {
                  "tags": []
                },
                "image/png": "iVBORw0KGgoAAAANSUhEUgAAAYIAAAEWCAYAAABrDZDcAAAABHNCSVQICAgIfAhkiAAAAAlwSFlz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\nYBnD+cx4AAAAAElFTkSuQmCC\n",
                "text/plain": "<Figure size 432x288 with 1 Axes>"
              },
              {
                "output_type": "display_data",
                "metadata": {
                  "tags": []
                },
                "image/png": "iVBORw0KGgoAAAANSUhEUgAAAYIAAAEWCAYAAABrDZDcAAAABHNCSVQICAgIfAhkiAAAAAlwSFlz\nAAALEgAACxIB0t1+/AAAADh0RVh0U29mdHdhcmUAbWF0cGxvdGxpYiB2ZXJzaW9uMy4xLjIsIGh0\ndHA6Ly9tYXRwbG90bGliLm9yZy8li6FKAAAgAElEQVR4nO3de5xdZX3v8c93kyEZSTAhiRcySbl6\nQQ2RRqJGK603oJJwTlQu4g1eoD3ao0fbBGuLaNvXkXg5WgutSJWiVkBThSIKKipVEUkwGSWAxIBm\nYsAwJiYDyTBh/84f6xlZ2ZmZrMns28z6vl+v/cq67bV+e83O+u3nedZ6HkUEZmZWXpVWB2BmZq3l\nRGBmVnJOBGZmJedEYGZWck4EZmYl50RgZlZyTgTWdiSdJKmn1XGYlYUTgRUm6QFJuyT1SXpQ0pWS\nprY6rtGo+QyDr8ObePwjJIWkSbllb5H0eIplh6R1kl7TrJjMnAhstE6LiKnAAuD5wPtaHM+BOC0i\npuZevxnNm/MX8Tq6LZ3X6cBlwNWSptf7IA2KfTTHlyRfd9qM/yB2QCLiQeAmsoSApD+X9NP0i3aT\npIsHt839Cn6zpF9LeljS+3PrO1PpYpuk9cAL8seS9GxJ35O0XdJdkpbk1l0p6TJJ30i/qH8o6WmS\nPpH2d4+k5xf5TJKWpP1vT8d7dm7dA5JWSOoGHpE0SdLhklZJ2irpfkn/O7f9iZJWp/PxkKSPp1W3\npn+3p3hfVHNeq8DngUOAY3P7e6GkH6XY1kk6KbfuSEm3Stop6duSLpX0hZpzf56kXwO3FNjfWyRt\nTPu7X9Ib0vJjJH1f0u/T3/Ca3HteLOmOtO4OSS/OrfuepH+U9EPgUeCoIn8Pa6KI8MuvQi/gAeAV\naboL+BnwyTR/EvA8sh8X84GHgNPTuiOAAD4DdALHA/3As9P6DwP/DRwGzAV+DvSkdR3ABuBvgIOB\nPwN2As9M668EHgb+GJhCdqG7H3gTcBDwD8B3h/oMNZ/tGcAjwCvTMZen4x6ce9/aFF9n+pxrgItS\nXEcBG4FXp+1vA96YpqcCL6w5F5Nyx34L8IM0fRDwDuAx4Clp2RygFzg1HfeVaX527lgfTXG8BNgB\nfKHmeFeRJZfOkfaXttmRO79PB56Tpr8EvD+9ZwrwkrT8MGAb8EZgEnBWmp+Z1n8P+DXwnLS+o9Xf\nZb9qvv+tDsCv8fNKF8O+dCEO4DvA9GG2/QTw/9L04MWoK7f+J8CZaXojcHJu3QU8kQheCjwIVHLr\nvwRcnKavBD6TW/eXwN25+ecB24f4DNvT62tp+d8B1+a2qwCbgZNy7zs3t34R8Ouaz/w+4HNp+lbg\ng8Csmm0Gz0VtItiT4hkAdgGvz61fAXy+Zj83AW8G5qX3Pim37gvsmwiOKri/Q1Icy4DOmm2uAi7P\n/x3T8jcCP6lZdhvwljT9PeBDrf7++jX8y1VDNlqnR8Q0shLAs4BZAJIWSfpuqib5PfD2wXU5D+am\nHyX7pQxwOLApt+5XuenDgU2RVZnk18/JzT+Um941xHxtg/bpETE9vU7PHecPx03H21RznHyMfwQc\nnqpWtkvaTlZqeWpafx5ZKeOeVFWyv8bfH0fEdGAGcD1ZAswf63U1x3oJ2a/1w4HfRcSjw8Q5XOxD\n7i8iHgHOIPv7bZH0dUnPSu9bDgj4SapCOzct3+vcJbV/o6FisjbhRGAHJCK+T/Zr/KNp0X+QXcDm\nRsSTgX8lu2gUsYWsymXQvNz0b4C5NQ2M88h+rdfTb8gukEDWqJliyh8n31XvJuD+XEKZHhHTIuJU\ngIi4LyLOAp4CXAJ8RdIhNfvYR0T0AX8BvDHXtrGJ7Bd8/liHRMSHyc7dYZKelNvNXPZVG/tw+yMi\nboqIV5IlmnvIqvSIiAcj4vyIOBx4G3CZpGNqz11S+zdyN8dtzInAxuITwCslHQ9MI/tlulvSicDZ\no9jPtcD7JM2Q1EVWvTPodrLSw3JJHalR8zTg6rp8gr1j+HNJL5fUAbyXrB3jR8Ns/xNgZ2pA7pR0\nkKTnSnoBgKRzJM1OJYvt6T1VYGv6d9gG04j4HXAFWfsDZFU9p0l6dTrOFGXPWnRFxK+A1cDFkg5O\njc+n7eezDrs/SU+VtDQlrX6yarRq+kyvS38fyNoAIq27EXiGpLNTI/oZwHHADfuJw9qEE4EdsIjY\nSlZvfBHwv4APSdqZ5q8dxa4+SFaVcD9wM9ldM4PHeIzswnYKWaPwZcCbIuKeenyG3HHuBc4BPpWO\ncxrZbaaPDbP948BryO6auj+95wrgyWmTk4G7JPUBnyRrD9mVqnD+EfhhqpZ54TAhfQI4VdL8iNgE\nLCWretpK9ov+r3ni/+8bgBeRNfj+A3AN2UV8uM860v4qwHvIfuX/DngZWQkFsru5bk+f6XrgXRGx\nMSJ607l4b4phOfCaiHh4uBisvSjCJTaziSTd1nlPRHyg1bHY+OASgdk4J+kFko6WVJF0Mtmv/a+1\nOi4bP1r6lKGZ1cXTgP8EZgI9wF9ExE9bG5KNJ64aMjMrOVcNmZmV3LirGpo1a1YcccQRrQ7DzGxc\nWbNmzcMRMXuodeMuERxxxBGsXr261WGYmY0rkmqf/v4DVw2ZmZWcE4GZWck5EZiZlZwTgZlZyTkR\nmJmVnBOBmVnJORGYmZWcE4GZWcmVJhH09vWzbtN2evuG7abdzKyUxt2TxQfiurWbWbGqm45KhYFq\nlZXL5rNkwZz9v9HMrAQmfImgt6+fFau62T1QZWf/HnYPVFm+qtslAzOzZMIngp5tu+io7P0xOyoV\nerbtalFEZmbtZcIngq4ZnQxUq3stG6hW6ZrR2aKIzMzay4RPBDOnTmblsvlM6agwbfIkpnRUWLls\nPjOnTm51aGZmbaEUjcVLFsxh8TGz6Nm2i64ZnU4CZmY5pUgEkJUMnADMzPY14auGzMxsZE4EZmYl\n50RgZlZyTgRmZiXnRGBmVnJOBGZmJedEYGZWck4EZmYl50RgZlZyTgRmZiXnRGBmVnJOBGZmJedE\nYGZWck4EZmYl50RgZlZyTgRmZiXnRDAKvX39rNu0nd6+/laHYmZWN6UZoWysrlu7mRWruumoVBio\nVlm5bD5LFsxpdVhmZmPmEkEBvX39rFjVze6BKjv797B7oMryVd0uGZjZhOBEUEDPtl10VPY+VR2V\nCj3bdrUoIjOz+nEiKKBrRicD1epeywaqVbpmdLYoIjOz+nEiKGDm1MmsXDafKR0Vpk2exJSOCiuX\nzWfm1MmtDs3MbMzcWFzQkgVzWHzMLHq27aJrRqeTgJlNGE4EozBz6mQnADObcBpaNSTpZEn3Stog\n6cIh1s+T9F1JP5XULenURsZjZmb7algikHQQcClwCnAccJak42o2+1vg2oh4PnAmcFmj4jEzs6E1\nskRwIrAhIjZGxGPA1cDSmm0CODRNPxn4TQPjMTOzITQyEcwBNuXme9KyvIuBcyT1ADcCfznUjiRd\nIGm1pNVbt25tRKxmZqXV6ttHzwKujIgu4FTg85L2iSkiLo+IhRGxcPbs2U0P0sxsImtkItgMzM3N\nd6VleecB1wJExG3AFGBWA2MyM7MajUwEdwDHSjpS0sFkjcHX12zza+DlAJKeTZYIXPdjZtZEDUsE\nEbEHeCdwE3A32d1Bd0n6kKQlabP3AudLWgd8CXhLRESjYjIzs3019IGyiLiRrBE4v+yi3PR6YHEj\nYzAzs5G1urHYzMxazInAzKzknAjMzErOicDMrOScCMzMSs6JoMl6+/pZt2m7xzs2s7bh8Qia6Lq1\nm1mxqpuOSoWBapWVy+azZEFt90tmZs3lEkGT9Pb1s2JVN7sHquzs38PugSrLV3W7ZGBmLedE0CQ9\n23bRUdn7dHdUKvRs29WiiMzMMk4ETdI1o5OBanWvZQPVKl0zOlsUkZlZxomgSWZOnczKZfOZ0lFh\n2uRJTOmosHLZfI+BbGYt58biJlqyYA6Lj5lFz7ZddM3odBIws7bgRNBkM6dOdgIws7biqiEzs5Jz\nIjAzK7nSVA198L/uYv1vdrQ6jMKWLpjD2YvmtToMMysBlwja0PotO7hube3wzmZmjVGaEsEHTntO\nq0Mo7IxP39bqEMysRFwiMDMrOScCM7OScyIwMys5JwIzs5JzIjAzK7n9JgJJ75J0qDL/JulOSa9q\nRnBmZtZ4RUoE50bEDuBVwAzgjcCHGxqVmZk1TZFEoPTvqcDnI+Ku3DIzMxvniiSCNZJuJksEN0ma\nBlT38x4zMxsnijxZfB6wANgYEY9KOgx4a2PDsvVbdoz5CWP3V2RmRRRJBC8C1kbEI5LOAU4APtnY\nsMpt6YI5Y97H+i1ZB3tOBGa2P0USwb8Ax0s6HngvcAVwFfCyRgZWZmcvmjfmC7j7KzKzooq0EeyJ\niACWAv8cEZcC0xoblpmZNUuREsFOSe8ju230pZIqQEdjwzIzs2YpUiI4A+gne57gQaAL+EhDozIz\ns6bZbyJIF/9VwOCI6w8DX21kUGZm1jxFupg4H/gK8Om0aA7wtUYGZWZmzVOkaugdwGJgB0BE3Ac8\npZFBmZlZ8xRJBP0R8djgjKRJQDQuJDMza6YiieD7kv4G6JT0SuDLwH81NiwzM2uWIongQmAr8DPg\nbcCNwN82MigzM2ueIomgE/hsRLwuIl4LfDYt2y9JJ0u6V9IGSRcOs83rJa2XdJek/ygeupmZ1UOR\nRPAd9r7wdwLf3t+bJB0EXAqcAhwHnCXpuJptjgXeByyOiOcA7y4Yt5mZ1UmRRDAlIvoGZ9L0kwq8\n70RgQ0RsTI3NV5N1U5F3PnBpRGxL+/5tsbDNzKxeiiSCRySdMDgj6Y+BXQXeNwfYlJvvScvyngE8\nQ9IPJf1Y0slD7UjSBZJWS1q9devWAoee2Hr7+lm3aTu9ff2tDsXMJoAifQ29G/iypN+QjUz2NLJu\nJ+p1/GOBk8i6rrhV0vMiYnt+o4i4HLgcYOHChaW+dfW6tZtZsaqbjkqFgWqVlcvms2SYbqvHOqaB\nxzMwK4f9JoKIuEPSs4BnpkX3RsRAgX1vBubm5rvSsrwe4Pa0v/sl/YIsMdxRYP+l09vXz4pV3ewe\nqLI7DRK3fFU3i4+Zxcypk/fadqxjGng8A7Py2G8ikPQO4IsR8fM0P0PSWRFx2X7eegdwrKQjyRLA\nmcDZNdt8DTgL+JykWWRVRRtH+RlKo2fbLjoqlT8kAYCOSoWebbv2SQRjHdPA4xmYlUeRNoLz81U1\nqWH3/P29KSL2AO8EbgLuBq6NiLskfUjSkrTZTUCvpPXAd4G/joje0X6Isuia0clAde/hogeqVbpm\nFLqb18xsSEXaCA6SpDQ4zeBtoQcX2XlE3Ej2AFp+2UW56QDek162HzOnTmblsvksr2kjqC0NmJmN\nRpFE8E3gGkmDvY++LS2zFliyYA6Lj5lFz7ZddM3odBIwszErkghWkF38/yLNf4ts3GJrkZlTJzsB\nmFndFLlrqEo2gP2/ND4cMzNrtiJ3Dd3PEN1OR8RRDYnIzMyaqkjV0MLc9BTgdcBhjQnHmqW3r9/t\nDGYGFKsaqr2d8xOS1gAXDbW9tb/RPJ1sZhNfkaqhE3KzFbISQpGShLWh0TydbGblUOSC/rHc9B7g\nAeD1DYnGGm40TyebWTkUqRr602YEYs1Rz6eT3c5gNjHst4sJSe+SdKgyV0i6U9KrmhGc1d/g08lT\nOipMmzyJKR2VA3o6+bq1m1l8yS2cc8XtLL7kFq5fW9ufoJmNF0Wqhs6NiE9KejUwE3gj8Hng5oZG\nZg0z1qeT3c5gNrEUSQRK/54KXJU6jtNIb7D2N5ank93OYDaxFOl9dI2km8kSwU2SpgHV/bzHJjD3\ngmo2sRRJBOcBFwIviIhHyXoefWtDo7K2Vq92BjNrD0X7GrozN98LeMyAknMvqGYThx8MswPmXlDN\nJoZhq4bSEJNmZjbBjdRG8BUASd9pUixmZtYCI1UNVST9DfAMSfsMJRkRH29cWGZm1iwjlQjOBB4n\nSxbThniZmdkEMGyJICLuBS6R1B0R32hiTGZm1kRFniP4kaSPS1qdXh+T9OSGR2ZmZk1RJBF8FthJ\n1vX064EdwOcaGZSZmTVPkecIjo6IZbn5D0pa26iAzMysuYokgl2SXhIRPwCQtBjY1diwrB2s37KD\nMz59W0OPsefxKv17qkyeVGHSQUMXUJcumMPZi+Y1NA6zMiuSCN4OXJVrF9gGvLlxIVk7WNqEMYx7\n+/r55cOPUCHrxfDoWYfs86Ty+i07AJwIzBqoSF9D64DjJR2a5nc0PCprubMXzWvoxbe3r5/Fl9xC\nRHaPMkDP9l1c87YX7ZUMGl0iMbNijcVAlgCcBKxeBsc0yBsc08DMmqtwIjCrJ49pYNY+nAisJTym\ngVn72G8bgaQnAe8F5kXE+ZKOBZ4ZETc0PDqb0DymgVl7KHLX0OeANcCL0vxm4MuAE4GNmcc0MGu9\nIlVDR0fESmAAIA1X6cHrzcwmiCKJ4DFJnUAASDoa6G9oVGZm1jRFqoYuBr4JzJX0RWAxHrzezGzC\nKPJA2c2S1gAvJKsSeldEPNzwyMzMrCn2WzUk6TsR0RsRX4+IGyLiYQ9faWY2cQxbIpA0BXgSMEvS\nDJ5oID4UaHxHNGZm1hQjVQ29DXg3cDjZ7aODiWAH8M8NjsvMzJpk2KqhiPhkRBwJ/FVEHBURR6bX\n8RFRKBFIOlnSvZI2SLpwhO2WSQpJCw/gM5iZ2RgUaSz+lKTnAscBU3LLrxrpfZIOAi4FXgn0AHdI\nuj4i1tdsNw14F3D76MM3M7OxKtJY/AHgU+n1p8BKYEmBfZ8IbIiIjRHxGHA1sHSI7f4euATYXTRo\nMzOrnyIPlL0WeDnwYES8FTgeKDJ4/RxgU26+h5pGZkknAHMj4usj7UjSBZJWS1q9devWAoc2M7Oi\niiSCXRFRBfakwWl+C8wd64ElVYCPk3VoN6KIuDwiFkbEwtmzZ4/10GZmllPkyeLVkqYDnyG7e6gP\nKDJs1Gb2ThhdadmgacBzge9JAngacL2kJRGxusD+zcysDkZMBMqu0P83IrYD/yrpm8ChEdFdYN93\nAMdKOpIsAZwJnD24MiJ+D8zKHet7ZHcoOQmYmTXRiFVDERHAjbn5BwomASJiD/BO4CbgbuDaiLhL\n0ockFWlsNjOzJihSNXSnpBdExB2j3XlE3EgukaRlFw2z7Umj3b+ZmY1dkUSwCHiDpF8Bj5A9YRwR\nMb+hkZmZWVMUSQSvbngUZmbWMkWeLP5VMwIxM7PWKFIiMGup9Vt2cMani9yxPLylC+Zw9qJ5dYrI\nbGJxIrC2tnTB2Hs8X79lB4ATgdkwnAisrZ29aN6YL+BjLU2YTXRFupgwM7MJzInADOjt62fdpu30\n9vW3OhSzpnPVkJXedWs3s2JVNx2VCgPVKiuXzWdJHdomzMYLlwis1Hr7+lmxqpvdA1V29u9h90CV\n5au6XTKwUnEisFLr2baLjsre/w06KhV6tu1qUURmzedEYOPeWOr3u2Z0MlCt7rVsoFqla0Zn02Iw\nazW3Edi4Ntb6/ZlTJ7Ny2XyW1+xj5tTJTYvBrNWcCGzcytfv7yb7Vb98VTeLj5k1qgv5kgVzWHzM\nLHq27aJrRueo3luvGNpJb1//AZ0LG7+cCGzcGqzfH7wAwxP1+6O9gM2cOvmALnr1jKEduHRTTm4j\nsHGrXvX74z2GevEdVOXlRGDj1mD9/pSOCtMmT2JKR2XU9fsTIYZ68R1U5eWqIRvXxlK/P5FiqIeJ\nVLqx0XGJwMa9mVMnc/zc6S29ALdDDGM1kUo3NjouEZjZH0yU0o2NjhOBme3lQO+gsvHLVUNmZiXn\nRGBmVnJOBGZmJedEYGZWck4EZmYl50Rg1ibclbW1im8fNWsD7uzNWsklArMWc2dv1mpOBGYt5s7e\nrNWcCMxarJ6dvbmdwQ6E2wjMWqwew2WC2xnswCkiWh3DqCxcuDBWr17d6jBsHDnj07exfssOjnv6\noa0OZUR7Hq/Sv6fK5EkVJh00usL6nser3LlpO/n/zhKcMHf6qPdl7eu4ww/lA6c954DeK2lNRCwc\nap1LBDbhLR0nv4onHTT6BDCof0+VCvB4blklLXcisP1xIrAJ7+xF8zh70bxWh9FQvX39LL7kFh4f\nyI2dPKnCv597onsStf3yTwWzCcCDythYuERgNkF4UBk7UE4EZhOIB5WxA+GqITOzkmtoIpB0sqR7\nJW2QdOEQ698jab2kbknfkfRHjYzHzMz21bBEIOkg4FLgFOA44CxJx9Vs9lNgYUTMB74CrGxUPGZm\nNrRGlghOBDZExMaIeAy4Glia3yAivhsRj6bZHwNdDYzHzMyG0MhEMAfYlJvvScuGcx7wjQbGY2Zm\nQ2iLu4YknQMsBF42zPoLgAsA5s2b2A8GmZk1WyNLBJuBubn5rrRsL5JeAbwfWBIRQ3aZGBGXR8TC\niFg4e/bshgRrZlZWjUwEdwDHSjpS0sHAmcD1+Q0kPR/4NFkS+G0DYzEzs2E0LBFExB7gncBNwN3A\ntRFxl6QPSVqSNvsIMBX4sqS1kq4fZndmZi1RhjEeGtpGEBE3AjfWLLsoN/2KRh7fzFqjt69/QnR1\nUZYxHtqisdjMJo6JcvHMjyW9m6xX1+Wrull8zKxxndyG4i4mzKxu8hfPnf172D1QZfmq7pZVq4yl\nWqdMY0m7RGBmdTN48Rz8BQ1PXDyb/St6rCWTeo4lXQ+NrG5zicDM6qZdLp71KJm00xgP163dzOJL\nbuGcK25n8SW3cP3afe7EHxOXCMysbgYvnstrfok3++JZr5JJO4zx0Iy2CicCM6urdrh41rNk0uox\nHppR3eaqITOru5lTJ3P83Oktu4C2U7XOWDWjus0lAjNrS2NtHG2HksmgsXyWZlS3ORGYWdup17MI\nra7Wgfp8lkYnNVcNmVlbabdnEcainp+lkdVtTgRm1lYm0oNc4+WzOBGYWVtpl2cR6mG8fBYnAjNr\nKxPpjp/x8lkUEa2OYVQWLlwYq1evbnUYZtZgE6UHU2iPzyJpTUQsHGqd7xoys7bUDnf81Eu7fxZX\nDZmZlZwTgZlZyTkRmJmVnBOBmVnJORGYmZWcE4GZWck5EZiZlZwTgZlZyY27J4slbQV+1cBDzAIe\nbuD+68Vx1t94idVx1td4iRPGFusfRcTsoVaMu0TQaJJWD/cYdjtxnPU3XmJ1nPU1XuKExsXqqiEz\ns5JzIjAzKzkngn1d3uoACnKc9TdeYnWc9TVe4oQGxeo2AjOzknOJwMys5JwIzMxKrpSJQNJcSd+V\ntF7SXZLeNcQ2J0n6vaS16XVRi2J9QNLPUgz7DM2mzD9J2iCpW9IJLYjxmbnztFbSDknvrtmmZedT\n0mcl/VbSz3PLDpP0LUn3pX9nDPPeN6dt7pP05hbE+RFJ96S/7VclTR/mvSN+T5oQ58WSNuf+vqcO\n896TJd2bvq8XtiDOa3IxPiBp7TDvbeb5HPJ61NTvaESU7gU8HTghTU8DfgEcV7PNScANbRDrA8Cs\nEdafCnwDEPBC4PYWx3sQ8CDZwyttcT6BPwFOAH6eW7YSuDBNXwhcMsT7DgM2pn9npOkZTY7zVcCk\nNH3JUHEW+Z40Ic6Lgb8q8N34JXAUcDCwrvb/XaPjrFn/MeCiNjifQ16PmvkdLWWJICK2RMSdaXon\ncDcwp7VRHbClwFWR+TEwXdLTWxjPy4FfRkQjn/4elYi4FfhdzeKlwL+n6X8HTh/ira8GvhURv4uI\nbcC3gJObGWdE3BwRe9Lsj4GuRh2/qGHOZxEnAhsiYmNEPAZcTfZ3aIiR4pQk4PXAlxp1/KJGuB41\n7TtaykSQJ+kI4PnA7UOsfpGkdZK+Iek5TQ3sCQHcLGmNpAuGWD8H2JSb76G1Se1Mhv/P1Q7nc9BT\nI2JLmn4QeOoQ27TbuT2XrPQ3lP19T5rhnakK67PDVGO00/l8KfBQRNw3zPqWnM+a61HTvqOlTgSS\npgKrgHdHxI6a1XeSVW8cD3wK+Fqz40teEhEnAKcA75D0Jy2KY78kHQwsAb48xOp2OZ/7iKyM3db3\nUUt6P7AH+OIwm7T6e/IvwNHAAmALWbVLOzuLkUsDTT+fI12PGv0dLW0ikNRBdtK/GBH/Wbs+InZE\nRF+avhHokDSryWESEZvTv78FvkpWvM7bDMzNzXelZa1wCnBnRDxUu6JdzmfOQ4NVaOnf3w6xTVuc\nW0lvAV4DvCFdEPZR4HvSUBHxUEQ8HhFV4DPDHL9dzuck4H8C1wy3TbPP5zDXo6Z9R0uZCFL94L8B\nd0fEx4fZ5mlpOySdSHauepsXJUg6RNK0wWmyhsOf12x2PfCmdPfQC4Hf54qTzTbsr6x2OJ81rgcG\n77B4M3DdENvcBLxK0oxU1fGqtKxpJJ0MLAeWRMSjw2xT5HvSUDXtUv9jmOPfARwr6chUejyT7O/Q\nbK8A7omInqFWNvt8jnA9at53tBmt4u32Al5CVszqBtam16nA24G3p23eCdxFdmfDj4EXtyDOo9Lx\n16VY3p+W5+MUcCnZ3Rg/Axa26JweQnZhf3JuWVucT7LktAUYIKtDPQ+YCXwHuA/4NnBY2nYhcEXu\nvecCG9LrrS2IcwNZHfDg9/Rf07aHAzeO9D1pcpyfT9+/brIL2NNr40zzp5LdFfPLVsSZll85+L3M\nbdvK8znc9ahp31F3MWFmVnKlrBoyM7MnOBGYmZWcE4GZWck5EZiZlZwTgZlZyU1qdQBm7ULSxUAf\ncChwa0R8e5jtTgd+ERHrmxieWcO4RGBWIyIuGi4JJKeT9Q5pNiE4EVipSXq/pF9I+gHwzLTsSkmv\nTdMfTv3Ed0v6qKQXk/Wn9JHUV/3Rks6XdEfqUG+VpCfl9vNPkn4kaePgPtO6Fam/+3WSPpyWHS3p\nm6mjs/+W9KymnxArJVcNWWlJ+mOybg4WkP1fuBNYk1s/k6y7hGdFREiaHhHbJV1PNrbCV9J22yPi\nM2n6H8ietP1U2s3TyZ4cfRbZE7dfkXQKWRfDiyLiUUmHpW0vJ3vi9T5Ji4DLgD9r4CkwA5wIrNxe\nCnw1Uh8+6QKf93tgN/Bvkm4AbhhmP89NCWA6MJW9+3r5WmQdsa2XNNiN8CuAzw0eNyJ+l3qefDHw\n5dQlE8DkMX06s4KcCMyGEQkV+lUAAADsSURBVBF7Ugd5LwdeS9Zf0lC/0K8ETo+Idamn0JNy6/pz\n02J4FWB7RCwYS8xmB8JtBFZmtwKnS+pMvU2ell+ZfqU/ObJus/8PcHxatZNsSMFB04AtqSvhNxQ4\n7reAt+baEg6LrP/5+yW9Li2TpONH2olZvTgRWGlFNjzgNWS9TH6DrJvkvGnADZK6gR8A70nLrwb+\nWtJPJR0N/B3ZiFI/BO4pcNxvkrUXrFY2ePpfpVVvAM6TNNjrZcOGcTTLc++jZmYl5xKBmVnJORGY\nmZWcE4GZWck5EZiZlZwTgZlZyTkRmJmVnBOBmVnJ/X+/oqdwYndpuwAAAABJRU5ErkJggg==\n",
                "text/plain": "<Figure size 432x288 with 1 Axes>"
              }
            ],
            "_view_module": "@jupyter-widgets/output",
            "_model_module_version": "1.0.0",
            "_view_count": null,
            "_view_module_version": "1.0.0",
            "layout": "IPY_MODEL_ef87b7aa6ae14da198a64761db8f7217",
            "_model_module": "@jupyter-widgets/output"
          }
        },
        "d85d839691cc42d8aa1a3e1b32d8acff": {
          "model_module": "@jupyter-widgets/controls",
          "model_name": "SliderStyleModel",
          "state": {
            "_view_name": "StyleView",
            "handle_color": null,
            "_model_name": "SliderStyleModel",
            "description_width": "",
            "_view_module": "@jupyter-widgets/base",
            "_model_module_version": "1.5.0",
            "_view_count": null,
            "_view_module_version": "1.2.0",
            "_model_module": "@jupyter-widgets/controls"
          }
        },
        "5f7b00131ade4adaaa1667f8450d36b6": {
          "model_module": "@jupyter-widgets/base",
          "model_name": "LayoutModel",
          "state": {
            "_view_name": "LayoutView",
            "grid_template_rows": null,
            "right": null,
            "justify_content": null,
            "_view_module": "@jupyter-widgets/base",
            "overflow": null,
            "_model_module_version": "1.2.0",
            "_view_count": null,
            "flex_flow": null,
            "width": null,
            "min_width": null,
            "border": null,
            "align_items": null,
            "bottom": null,
            "_model_module": "@jupyter-widgets/base",
            "top": null,
            "grid_column": null,
            "overflow_y": null,
            "overflow_x": null,
            "grid_auto_flow": null,
            "grid_area": null,
            "grid_template_columns": null,
            "flex": null,
            "_model_name": "LayoutModel",
            "justify_items": null,
            "grid_row": null,
            "max_height": null,
            "align_content": null,
            "visibility": null,
            "align_self": null,
            "height": null,
            "min_height": null,
            "padding": null,
            "grid_auto_rows": null,
            "grid_gap": null,
            "max_width": null,
            "order": null,
            "_view_module_version": "1.2.0",
            "grid_template_areas": null,
            "object_position": null,
            "object_fit": null,
            "grid_auto_columns": null,
            "margin": null,
            "display": null,
            "left": null
          }
        },
        "1d586aea5b654db49ba52771498d976e": {
          "model_module": "@jupyter-widgets/controls",
          "model_name": "SliderStyleModel",
          "state": {
            "_view_name": "StyleView",
            "handle_color": null,
            "_model_name": "SliderStyleModel",
            "description_width": "",
            "_view_module": "@jupyter-widgets/base",
            "_model_module_version": "1.5.0",
            "_view_count": null,
            "_view_module_version": "1.2.0",
            "_model_module": "@jupyter-widgets/controls"
          }
        },
        "50be0abab5c84e7bb69c2e406f3ed991": {
          "model_module": "@jupyter-widgets/base",
          "model_name": "LayoutModel",
          "state": {
            "_view_name": "LayoutView",
            "grid_template_rows": null,
            "right": null,
            "justify_content": null,
            "_view_module": "@jupyter-widgets/base",
            "overflow": null,
            "_model_module_version": "1.2.0",
            "_view_count": null,
            "flex_flow": null,
            "width": null,
            "min_width": null,
            "border": null,
            "align_items": null,
            "bottom": null,
            "_model_module": "@jupyter-widgets/base",
            "top": null,
            "grid_column": null,
            "overflow_y": null,
            "overflow_x": null,
            "grid_auto_flow": null,
            "grid_area": null,
            "grid_template_columns": null,
            "flex": null,
            "_model_name": "LayoutModel",
            "justify_items": null,
            "grid_row": null,
            "max_height": null,
            "align_content": null,
            "visibility": null,
            "align_self": null,
            "height": null,
            "min_height": null,
            "padding": null,
            "grid_auto_rows": null,
            "grid_gap": null,
            "max_width": null,
            "order": null,
            "_view_module_version": "1.2.0",
            "grid_template_areas": null,
            "object_position": null,
            "object_fit": null,
            "grid_auto_columns": null,
            "margin": null,
            "display": null,
            "left": null
          }
        },
        "7f76ddf1784247f4bc51e7df5afbd7a0": {
          "model_module": "@jupyter-widgets/controls",
          "model_name": "VBoxModel",
          "state": {
            "_view_name": "VBoxView",
            "_dom_classes": [
              "widget-interact"
            ],
            "_model_name": "VBoxModel",
            "_view_module": "@jupyter-widgets/controls",
            "_model_module_version": "1.5.0",
            "_view_count": null,
            "_view_module_version": "1.5.0",
            "box_style": "",
            "layout": "IPY_MODEL_48b544cf2f734c24ac758c1b698b3bcf",
            "_model_module": "@jupyter-widgets/controls",
            "children": [
              "IPY_MODEL_32e8719e48f64737959459524916bd6c",
              "IPY_MODEL_f573e662e4d345c48b43ed5ae600eaf7",
              "IPY_MODEL_41dfdcadf04c441591559674c3945286"
            ]
          }
        },
        "48b544cf2f734c24ac758c1b698b3bcf": {
          "model_module": "@jupyter-widgets/base",
          "model_name": "LayoutModel",
          "state": {
            "_view_name": "LayoutView",
            "grid_template_rows": null,
            "right": null,
            "justify_content": null,
            "_view_module": "@jupyter-widgets/base",
            "overflow": null,
            "_model_module_version": "1.2.0",
            "_view_count": null,
            "flex_flow": null,
            "width": null,
            "min_width": null,
            "border": null,
            "align_items": null,
            "bottom": null,
            "_model_module": "@jupyter-widgets/base",
            "top": null,
            "grid_column": null,
            "overflow_y": null,
            "overflow_x": null,
            "grid_auto_flow": null,
            "grid_area": null,
            "grid_template_columns": null,
            "flex": null,
            "_model_name": "LayoutModel",
            "justify_items": null,
            "grid_row": null,
            "max_height": null,
            "align_content": null,
            "visibility": null,
            "align_self": null,
            "height": null,
            "min_height": null,
            "padding": null,
            "grid_auto_rows": null,
            "grid_gap": null,
            "max_width": null,
            "order": null,
            "_view_module_version": "1.2.0",
            "grid_template_areas": null,
            "object_position": null,
            "object_fit": null,
            "grid_auto_columns": null,
            "margin": null,
            "display": null,
            "left": null
          }
        },
        "32e8719e48f64737959459524916bd6c": {
          "model_module": "@jupyter-widgets/controls",
          "model_name": "IntSliderModel",
          "state": {
            "_view_name": "IntSliderView",
            "style": "IPY_MODEL_e59cc857a2824045a8484fe8d3786683",
            "_dom_classes": [],
            "description": "max_depth",
            "step": 1,
            "_model_name": "IntSliderModel",
            "orientation": "horizontal",
            "max": 6,
            "_view_module": "@jupyter-widgets/controls",
            "_model_module_version": "1.5.0",
            "value": 1,
            "_view_count": null,
            "disabled": false,
            "_view_module_version": "1.5.0",
            "min": 1,
            "continuous_update": true,
            "readout_format": "d",
            "description_tooltip": null,
            "readout": true,
            "_model_module": "@jupyter-widgets/controls",
            "layout": "IPY_MODEL_39c090fb181f4cbab1d2a238d2523f62"
          }
        },
        "f573e662e4d345c48b43ed5ae600eaf7": {
          "model_module": "@jupyter-widgets/controls",
          "model_name": "IntSliderModel",
          "state": {
            "_view_name": "IntSliderView",
            "style": "IPY_MODEL_465853d6e2884995966812dc013171ac",
            "_dom_classes": [],
            "description": "n_estimators",
            "step": 1,
            "_model_name": "IntSliderModel",
            "orientation": "horizontal",
            "max": 5,
            "_view_module": "@jupyter-widgets/controls",
            "_model_module_version": "1.5.0",
            "value": 2,
            "_view_count": null,
            "disabled": false,
            "_view_module_version": "1.5.0",
            "min": 2,
            "continuous_update": true,
            "readout_format": "d",
            "description_tooltip": null,
            "readout": true,
            "_model_module": "@jupyter-widgets/controls",
            "layout": "IPY_MODEL_3e4717ddf25e41feb128a106c5aaa8fb"
          }
        },
        "41dfdcadf04c441591559674c3945286": {
          "model_module": "@jupyter-widgets/output",
          "model_name": "OutputModel",
          "state": {
            "_view_name": "OutputView",
            "msg_id": "",
            "_dom_classes": [],
            "_model_name": "OutputModel",
            "outputs": [
              {
                "output_type": "display_data",
                "metadata": {
                  "tags": []
                },
                "image/png": "iVBORw0KGgoAAAANSUhEUgAAAYIAAAEWCAYAAABrDZDcAAAABHNCSVQICAgIfAhkiAAAAAlwSFlz\nAAALEgAACxIB0t1+/AAAADh0RVh0U29mdHdhcmUAbWF0cGxvdGxpYiB2ZXJzaW9uMy4xLjIsIGh0\ndHA6Ly9tYXRwbG90bGliLm9yZy8li6FKAAAa7ElEQVR4nO3df5yWdZ3v8dd7YAQKFBzIjIGFhOpo\nIrmzipGuncrUcwI79MNfS/mz9uR56FYrVrtknn2cU7T52GzdysxafLj5i03JxV+57TE38cFgMCpm\njKAyZIgjBKwwDjuf88d1jd6MM8M1Mtd13zPX+/l4zIP7+nFf92cubu433+/3ur63IgIzMyuvumoX\nYGZm1eUgMDMrOQeBmVnJOQjMzErOQWBmVnIOAjOzknMQmJmVnIPASk3SroqfLkm7K5bPKeD1L5W0\nWtIrkq7P+/XMejOy2gWYVVNEjO1+LOkZ4MKI+Hlf+0saGRF7B7GEzcBVwH/D/zGzKvEbz6wfkv5G\n0i2SfiJpJ3CupDpJX5b0tKQXJd0saULFc+ZKWilpu6Q1kk7q6/gRcXtE3Am8VMTvY9YbB4HZ/n0U\n+CfgEOAW4C9I/gd/EtAI7AKuAZA0BVgOfBU4FLgC+GdJDcWXbZaNg8Bs/x6KiJ9FRFdE7AY+C3w5\nIjZHxB7ga8DHJdUBC4HlEXFvuv89wFrg1OqVb9Y/jxGY7d+mHstTgZ9J6uqx/i3AHwFnSfpoxfp6\n4J4c6zM7IA4Cs/3rOUVvG3B2RDzSc0dJm4AfRcSfF1KZ2SBw15DZwH0P+D+SpgJIeoukeem2G4GP\nSvqQpBGSRkt6v6S39XYgSSMljQZGAN37jyjktzBLOQjMBu5qkq6eB9IriX4F/AlARDxDMrj818BW\n4DngC/T9b+1KYDfwReDT6eMv5Va5WS/kL6YxMys3twjMzErOQWBmVnIOAjOzknMQmJmV3JC7j2Di\nxIkxbdq0apdhZjakrF69+sWImNTbtiEXBNOmTaO5ubnaZZiZDSmSnu1rm7uGzMxKzkFgZlZyDgIz\ns5JzEJiZlZyDwMys5BwEZmYl5yAwMys5B4GZWcmVJgjad3WwdtN22nd1VLsUM7OaMuTuLH4j7lyz\nmUXLWqivq6Ozq4slC2Yxb/bkapdlZlYThn2LoH1XB4uWtbCns4udHXvZ09nF5cta3DIwM0sN+yBo\n27ab+rp9f836ujratu2uUkVmZrVl2AdB44QxdHZ17bOus6uLxgljqlSRmVltGfZB0DB2FEsWzGJ0\nfR3jRo1kdH0dSxbMomHsqGqXZmZWE0oxWDxv9mTmzphI27bdNE4Y4xAwM6tQiiCApGXgADAze71h\n3zVkZmb9cxCYmZWcg8DMrOQcBGZmJecgMDMrOQeBmVnJOQjMzErOQWBmVnIOAjOzknMQmJmVnIPA\nzKzkHARmZiXnIDAzKzkHgZlZyTkIzMxKzkFgZlZyDgIzs5JzEJiZlZyDwMys5BwEZmYl5yAwMys5\nB4GZWck5CMzMSs5BYGZWcrkGgaRTJT0lqVXSFb1snyrpF5J+LalF0ul51mNmZq+XWxBIGgFcC5wG\nHAmcJenIHrv9FXBrRLwHOBP4h7zqMTOz3uXZIjgOaI2IDRHxCnAzML/HPgEcnD4+BPhdjvWYmVkv\n8gyCycCmiuW2dF2lK4FzJbUBK4D/1duBJF0sqVlS89atW/Oo1cystKo9WHwW8OOIaAROB26U9Lqa\nIuK6iGiKiKZJkyYVXqSZ2XCWZxBsBqZULDem6ypdANwKEBEPA6OBiTnWZGZmPeQZBKuAmZKmSzqI\nZDB4eY99ngM+ACDpv5AEgft+zMwKlFsQRMRe4BLgXuBJkquDnpB0laR56W5fAC6StBb4CfDpiIi8\najIzs9cbmefBI2IFySBw5brFFY/XAXPzrMHMzPpX7cFiMzOrMgeBmVnJOQjMzErOQWBmVnIOAjOz\nknMQmJmVnIPAzKzkHARmZiXnIDAzKzkHgZlZyTkIzMxKzkFgZlZyDgIzs5JzEJiZlZyDwMys5BwE\nZmYl5yAwMys5B4GZWck5CMzMSs5BYGZWcg4CM7OScxCYmZWcg8DMrOT2GwSSLpV0sBI/lPSopFOK\nKM7MzPKXpUVwfkTsAE4BJgB/Bnw916rMzKwwWYJA6Z+nAzdGxBMV68zMbIjLEgSrJd1HEgT3ShoH\ndOVblpmZFWVkhn0uAGYDGyLiZUmHAuflW5aZmRUlS4vgBOCpiNgu6Vzgr4A/5FuWmZkVJUsQfBd4\nWdIxwBeAp4GluVZlZmaFyRIEeyMigPnA30fEtcC4fMsyM7OiZBkj2CnpSySXjZ4oqQ6oz7csMzMr\nSpYWwSeBDpL7CX4PNALfzLUqMzMrzH6DIP3wXwaMSle9CPw0z6LMzKw4WaaYuAi4Hfh+umoycEee\nRZmZWXGydA19DpgL7ACIiPXAW/IsyszMipMlCDoi4pXuBUkjgcivJDMzK1KWIPh/kr4MjJH0IeA2\n4Gf5lmVmZkXJEgRXAFuBx4DPACtI7i42M7NhIEsQjAFuiIiPR8THgBvSdfsl6VRJT0lqlXRFH/t8\nQtI6SU9I+qfspZuZ2WDIEgQPsO8H/xjg5/t7kqQRwLXAacCRwFmSjuyxz0zgS8DciDgKuCxj3WZm\nNkiyBMHoiNjVvZA+flOG5x0HtEbEhnSw+WaSaSoqXQRcGxHb0mO/kK1sMzMbLFmC4D8kHdu9IOmP\ngd0ZnjcZ2FSx3Jauq/QO4B2S/l3SSkmn9nYgSRdLapbUvHXr1gwvPby17+pg7abttO/qqHYpZjYM\nZJlr6DLgNkm/I/lmsreSTDsxWK8/EziZZOqKByUdHRHbK3eKiOuA6wCamppKfenqnWs2s2hZC/V1\ndXR2dbFkwSzmze6Zr2Zm2e03CCJilaR3Ae9MVz0VEZ0Zjr0ZmFKx3Jiuq9QGPJIeb6Ok35IEw6oM\nxy+d9l0dLFrWwp7OLvakXxJ3+bIW5s6YSMPYUft5tplZ77JMMfE54M0R8XhEPA6MlfQ/Mxx7FTBT\n0nRJBwFnAst77HMHSWsASRNJuoo2DKD+Umnbtpv6un3/yurr6mjblqWnzsysd1nGCC6q7KpJB3Yv\n2t+TImIvcAlwL/AkcGtEPCHpKknz0t3uBdolrQN+AfxlRLQP9Jcoi8YJY+js2vfroju7umickOlq\nXjOzXmUZIxghSemX03RfFnpQloNHxAqSG9Aq1y2ueBzA59Mf24+GsaNYsmAWl/cYI3C3kJkdiCxB\ncA9wi6Tu2Uc/k64bUr72sydY97sd1S5jUBx1+MF07O1i1Mg6bnrkOW565Llql1R182dP5uzjp1a7\nDLMhKUsQLCL58P/zdPl+4PrcKrL9GjmijpEjsvTqlcO655OAdxCYvTFZrhrqIvkC++/mX05+vvqR\no6pdguXkk99/uNolmA1p+w0CSRvpZdrpiHh7LhWZmVmhsnQNNVU8Hg18HDg0n3KsKK1bdrJm03Zm\nTxnPjMPGVbscM6uiLF1DPS/n/DtJq4HFve1vtW/xHY+xdOVrA8wLT5jKVfOPrmJFZlZNWbqGjq1Y\nrCNpIWRpSVgNat2yc58QAFj68HMsnDPNLQOzksrygf6tisd7gWeAT+RSjeVuzabtfa53EJiVU5au\nofcXUYgVY/aU8QNab2bDX5a5hi6VdLAS10t6VNIpRRRng2/GYeNYeMK+19svPGGqWwNmJZala+j8\niPi2pA8DDcCfATcC9+VameXmqvlHs3DONF81ZGZAtiBQ+ufpwNJ04jj19wSrfTMOG+cAMDMg2+yj\nqyXdRxIE90oaB3Tt5zlmZjZEZGkRXADMBjZExMuSGoDz8i3LzMyKknWuoUcrltsBf2eAmdkw4Sks\nzcxKrs8gkDS9yELMzKw6+msR3A4g6YGCajEzsyrob4ygTtKXgXdIet1XSUbE1fmVZWZmRemvRXAm\n8J8kYTGulx8zMxsG+mwRRMRTwDcktUTE3QXWZGZmBcpy1dCvJF0tqTn9+ZakQ3KvzMzMCpElCG4A\ndpJMPf0JYAfwozyLMjOz4mS5s/iIiFhQsfw1SWvyKsjMzIqVpUWwW9L7uhckzQV251eSlUnzxnau\nvu8pmjf6ZnWzasnSIvgssLRiXGAb8Kn8SrKyOPf6lTzUmgTANf/ayokzGrjxwjlVrsqsfLLMNbQW\nOEbSwenyjtyrsmGveWP7qyHQ7Zet7TRvbKdpekOVqjIrp8xzDUXEDoeADZYH1784oPVmlh9POmdV\ncdLMiQNab2b5cRBYVTRNb+DEGft2AZ04o8HdQmZVsN8xAklvAr4ATI2IiyTNBN4ZEXflXp0Nazde\nOIfmje08uP5FTpo50SFgViVZrhr6EbAaOCFd3gzcBjgI7IA1TXcrwKzasnQNHRERS4BOgIh4mde+\n0N7MzIa4LEHwiqQxQABIOgLoyLUqMzMrTJauoSuBe4Apkm4C5uIvrzczGzay3FB2n6TVwBySLqFL\nI8IXe5uZDRP77RqS9EBEtEfEv0TEXRHxor++0sxs+OizRSBpNPAmYKKkCbw2QHwwMLmA2szMrAD9\ndQ19BrgMeBvJ5aPdQbAD+Puc6zIzs4L02TUUEd+OiOnAFyPi7RExPf05JiIyBYGkUyU9JalV0hX9\n7LdAUkhqegO/g5mZHYAsg8XfkfRu4EhgdMX6pf09T9II4FrgQ0AbsErS8ohY12O/ccClwCMDL9/M\nzA5UlsHirwLfSX/eDywB5mU49nFAa0RsiIhXgJuB+b3s97+BbwB7shZtZmaDJ8sNZR8DPgD8PiLO\nA44Bsnx5/WRgU8VyGz0GmSUdC0yJiH/p70CSLpbULKl569atGV7azMyyyvRVlRHRBexNv5zmBWDK\ngb6wpDrgapIJ7foVEddFRFNENE2aNOlAX9rMzCpkubO4WdJ44AckVw/tAh7O8LzN7BsYjem6buOA\ndwP/JgngrcBySfMiojnD8c3MbBD0GwRKPqH/b0RsB74n6R7g4IhoyXDsVcBMSdNJAuBM4OzujRHx\nB+DVbyGR9G8kVyg5BMzMCtRv11BEBLCiYvmZjCFAROwFLgHuBZ4Ebo2IJyRdJSnLYLOZmRUgS9fQ\no5L+JCJWDfTgEbGCiiBJ1y3uY9+TB3p8MzM7cFmC4HjgHEnPAv9BcodxRMSsXCszM7NCZAmCD+de\nhZmZVU2WO4ufLaIQMzOrjiz3EZiZ2TDmIDAzKzkHgZlZyTkIzMxKzkFgBrTv6mDtpu207+qodilm\nhcty+ajZsHbnms0sWtZCfV0dnV1dLFkwi3mz/W2sVh5uEVipte/qYNGyFvZ0drGzYy97Oru4fFmL\nWwZWKg4CK7W2bbupr9v3n0F9XR1t23ZXqSKz4jkIrNQaJ4yhs6trn3WdXV00ThgzoON4jMGGMo8R\nWKk1jB3FkgWzuLzHGEHD2FGZj+ExBhvqHARWevNmT2bujIm0bdtN44QxAwqByjGGPSQti8uXtTB3\nxsQBHaeWtO/qeEPnwoYuB4EZScvgjXzodY8xdIcAvDbGMBQ/RN26KSePEZgdgMEaY6gFvoKqvBwE\nZgege4xhdH0d40aNZHR93YDHGGqFr6AqL3cNmR2gAxljqCXDqXVjA+MWgdkgaBg7imOmjB+yIQDD\nq3VjA+MWgZm9ari0bmxgHARmto83egWVDV3uGjIzKzkHgZlZyTkIzMxKzkFgZlZyDgIzs5JzEJiZ\nlZyDwMys5BwEZmYl5yAwMys5B4HZMNK8sZ2r73uK5o3t1S7FhhBPMWE2TJx7/Uoeak0C4Jp/beXE\nGQ3ceOGcKldlQ4FbBGbDQPPG9ldDoNsvW9vdMrBMHARmw8CD618c0HqzSg4Cs2HgpJkTB7TerJKD\nwGwYaJrewIkzGvZZd+KMBpqmN/TxDLPXeLDYbJi48cI5NG9s58H1L3LSzIkOAcvMQWDDwrrnd/DJ\n7z9c7TJqxiMbX6p2CZaDI992MF/9yFGDflwHgQ1582dPrnYJZkNarkEg6VTg28AI4PqI+HqP7Z8H\nLgT2AluB8yPi2TxrsuHn7OOncvbxU6tdhtmQldtgsaQRwLXAacCRwFmSjuyx26+BpoiYBdwOLMmr\nHjMz612eVw0dB7RGxIaIeAW4GZhfuUNE/CIiXk4XVwKNOdZjZma9yDMIJgObKpbb0nV9uQC4O8d6\nzMysFzUxWCzpXKAJ+NM+tl8MXAwwdar7gs3MBlOeLYLNwJSK5cZ03T4kfRD4CjAvIjp6O1BEXBcR\nTRHRNGnSpFyKNTMrqzyDYBUwU9J0SQcBZwLLK3eQ9B7g+yQh8EKOtZiZWR9yC4KI2AtcAtwLPAnc\nGhFPSLpK0rx0t28CY4HbJK2RtLyPw5mZWU5yHSOIiBXAih7rFlc8/mCer29m1dG+q4O2bbtpnDCG\nhrGjql2O7UdNDBab2fBx55rNLFrWQn1dHZ1dXSxZMIt5vvu7pnn2UTMbNO27Oli0rIU9nV3s7NjL\nns4uLl/WQvuuXq8DyV3rlp3c3ryJ1i07q/L6Q4VbBGY2aNq27aa+ro49dL26rr6ujrZtuwvvIlp8\nx2MsXfncq8sLT5jKVfOPLrSGwdS6ZSdrNm1n9pTxzDhs3KAe20FgZoOmccIYOru69lnX2dVF44Qx\nhdbRumXnPiEAsPTh51g4Z9qgf4gWIe9Qc9eQmQ2ahrGjWLJgFqPr6xg3aiSj6+tYsmBW4a2BNZu2\nD2h9Lesr1Aazu8stAjMbVPNmT2bujIlVvWpo9pTxA1pfy/oLtcFq3bhFYGaDrmHsKI6ZMr5ql47O\nOGwcC0/YdzqahSdMHZLdQkWEmlsEZlaTDvRehKvmH83COdNyG2AtSneoLX143zGCwfx9FBGDdrAi\nNDU1RXNzc7XLMLMc+V6E1zvQq4YkrY6Ipt62uUVgZjWl8l6E7stQL1/WwtwZE0t9l/KMw8bl1qrx\nGIGZ1ZTuexEqdd+LYPlwEJhZTamVexHKxEFgZjWlVu5FKBOPEZhZzamFexHKxEFgZjWpYewoB0BB\n3DVkZlZyDgIzs5JzEJiZlZyDwMys5BwEZmYl5yAwMys5B4GZWck5CMzMSm7ITUMtaSvwbI4vMRF4\nMcfjDxbXOfiGSq2uc3ANlTrhwGr9o4iY1NuGIRcEeZPU3Nec3bXEdQ6+oVKr6xxcQ6VOyK9Wdw2Z\nmZWcg8DMrOQcBK93XbULyMh1Dr6hUqvrHFxDpU7IqVaPEZiZlZxbBGZmJecgMDMruVIGgaQpkn4h\naZ2kJyRd2ss+J0v6g6Q16c/iKtX6jKTH0hqae9kuSddIapXUIunYKtT4zorztEbSDkmX9dinaudT\n0g2SXpD0eMW6QyXdL2l9+ueEPp77qXSf9ZI+VYU6vynpN+nf7U8lje/juf2+Twqo80pJmyv+fk/v\n47mnSnoqfb9eUYU6b6mo8RlJa/p4bpHns9fPo0LfoxFRuh/gcODY9PE44LfAkT32ORm4qwZqfQaY\n2M/204G7AQFzgEeqXO8I4PckN6/UxPkETgKOBR6vWLcEuCJ9fAXwjV6edyiwIf1zQvp4QsF1ngKM\nTB9/o7c6s7xPCqjzSuCLGd4bTwNvBw4C1vb8d5d3nT22fwtYXAPns9fPoyLfo6VsEUTE8xHxaPp4\nJ/AkMLm6Vb1h84GlkVgJjJd0eBXr+QDwdETkeff3gETEg8BLPVbPB/4xffyPwBm9PPXDwP0R8VJE\nbAPuB04tss6IuC8i9qaLK4HGvF4/qz7OZxbHAa0RsSEiXgFuJvl7yEV/dUoS8AngJ3m9flb9fB4V\n9h4tZRBUkjQNeA/wSC+bT5C0VtLdko4qtLDXBHCfpNWSLu5l+2RgU8VyG9UNtTPp+x9XLZzPbodF\nxPPp498Dh/WyT62d2/NJWn+92d/7pAiXpF1YN/TRjVFL5/NEYEtErO9je1XOZ4/Po8Leo6UOAklj\ngWXAZRGxo8fmR0m6N44BvgPcUXR9qfdFxLHAacDnJJ1UpTr2S9JBwDzgtl4218r5fJ1I2tg1fR21\npK8Ae4Gb+til2u+T7wJHALOB50m6XWrZWfTfGij8fPb3eZT3e7S0QSCpnuSk3xQR/9xze0TsiIhd\n6eMVQL2kiQWXSURsTv98AfgpSfO60mZgSsVyY7quGk4DHo2ILT031Mr5rLCluwst/fOFXvapiXMr\n6dPAfwfOST8QXifD+yRXEbElIv4zIrqAH/Tx+rVyPkcC/wO4pa99ij6ffXweFfYeLWUQpP2DPwSe\njIir+9jnrel+SDqO5Fy1F1clSHqzpHHdj0kGDh/vsdtyYGF69dAc4A8Vzcmi9fm/rFo4nz0sB7qv\nsPgUcGcv+9wLnCJpQtrVcUq6rjCSTgUuB+ZFxMt97JPlfZKrHuNSH+3j9VcBMyVNT1uPZ5L8PRTt\ng8BvIqKtt41Fn89+Po+Ke48WMSpeaz/A+0iaWS3AmvTndOCzwGfTfS4BniC5smEl8N4q1Pn29PXX\nprV8JV1fWaeAa0muxngMaKrSOX0zyQf7IRXrauJ8koTT80AnSR/qBUAD8ACwHvg5cGi6bxNwfcVz\nzwda05/zqlBnK0kfcPf79Hvpvm8DVvT3Pim4zhvT918LyQfY4T3rTJdPJ7kq5ulq1Jmu/3H3+7Ji\n32qez74+jwp7j3qKCTOzkitl15CZmb3GQWBmVnIOAjOzknMQmJmVnIPAzKzkRla7ALNaIelKYBdw\nMPBgRPy8j/3OAH4bEesKLM8sN24RmPUQEYv7CoHUGSSzQ5oNCw4CKzVJX5H0W0kPAe9M1/1Y0sfS\nx19P54lvkfS3kt5LMp/SN9O56o+QdJGkVemEesskvaniONdI+pWkDd3HTLctSue7Xyvp6+m6IyTd\nk0509ktJ7yr8hFgpuWvISkvSH5NMczCb5N/Co8Dqiu0NJNMlvCsiQtL4iNguaTnJdyvcnu63PSJ+\nkD7+G5I7bb+THuZwkjtH30Vyx+3tkk4jmWL4+Ih4WdKh6b7Xkdzxul7S8cA/AP81x1NgBjgIrNxO\nBH4a6Rw+6Qd8pT8Ae4AfSroLuKuP47w7DYDxwFj2nevljkgmYlsnqXsa4Q8CP+p+3Yh4KZ158r3A\nbemUTACjDui3M8vIQWDWh4jYm06Q9wHgYyTzJfX2P/QfA2dExNp0ptCTK7Z1VDwWfasDtkfE7AOp\n2eyN8BiBldmDwBmSxqSzTX6kcmP6v/RDIpk2+y+AY9JNO0m+UrDbOOD5dCrhczK87v3AeRVjCYdG\nMv/8RkkfT9dJ0jH9HcRssDgIrLQi+XrAW0hmmbybZJrkSuOAuyS1AA8Bn0/X3wz8paRfSzoC+GuS\nb5T6d+A3GV73HpLxgmYlX57+xXTTOcAFkrpnvcztaxzNKnn2UTOzknOLwMys5BwEZmYl5yAwMys5\nB4GZWck5CMzMSs5BYGZWcg4CM7OS+//1yGcj45IebQAAAABJRU5ErkJggg==\n",
                "text/plain": "<Figure size 432x288 with 1 Axes>"
              },
              {
                "output_type": "display_data",
                "metadata": {
                  "tags": []
                },
                "image/png": "iVBORw0KGgoAAAANSUhEUgAAAYIAAAEWCAYAAABrDZDcAAAABHNCSVQICAgIfAhkiAAAAAlwSFlz\nAAALEgAACxIB0t1+/AAAADh0RVh0U29mdHdhcmUAbWF0cGxvdGxpYiB2ZXJzaW9uMy4xLjIsIGh0\ndHA6Ly9tYXRwbG90bGliLm9yZy8li6FKAAAfIklEQVR4nO3df5yVZZ3/8dd7cPiRYCJMZPxIErIv\nFZI7+SPTbE1D28DCSsu1Hyq139g1qxX6sWZ82+8abe5Wy1bkaumjQpNNqSWxrL5um/ZgNMDA0Al/\nMKQ4ThBQgEPz+f5x32OH45mZe2Duc87M/X4+Hucx577u69z3Z24O5zPXdd3nuhQRmJlZcTXUOgAz\nM6stJwIzs4JzIjAzKzgnAjOzgnMiMDMrOCcCM7OCcyIwMys4JwIrNEm7Sx5dkvaUbL8r53OPlHS9\npMcl7ZJ0v6Q35nlOs0oOq3UAZrUUEaO7n0t6FLg0In7UU31Jh0XE/gE6/XDgUeA0YAvwZuBWSTMi\nYssAncOsT24RmPVC0mck3Szp25J2ARdJapD0cUm/kfS0pOWSxpa85lRJ90raIWmtpNMrHTsidkbE\n4oh4LCK6IuJ2koRwQpV+PTPAicAsi7cA3wKeD9wMXAG8CTgdmATsBr4IIGkysBL4FHAUsAj4T0nj\n+jqJpKOBY4GNA/8rmPXMicCsbz+LiO+lf7XvAT4AfDwitkbEXuDTwNskNQAXAysjYnVa/w5gHTC7\ntxNIGk6SbK6LiIfz/XXMDuQxArO+lffXTwG+J6mrrPwFwIuBCyW9paS8Ebijp4NLGgZ8k6Rlcfmh\nh2vWP04EZn0rn6K3DXhnRPyivKKkLcANEfE3WQ6ctiJuAMYCbxrAgWizzNw1ZNZ/XwH+r6QpAJJe\nIGlOuu8m4C2SzpI0LL1F9PWSXlR+EEkCvkoyLjA3IvZV6xcwK+VEYNZ/15J09dyV3kn0c+DVABHx\nKMng8j8A7cDjwEeo/H/tJcClJHcJbSv5/sI7cv8NzErIC9OYmRWbWwRmZgXnRGBmVnBOBGZmBedE\nYGZWcIPuewTjx4+PY445ptZhmJkNKvfdd9/TEdFUad+gSwTHHHMMLS0ttQ7DzGxQkfRYT/vcNWRm\nVnBOBGZmBedEYGZWcE4EZmYF50RgZlZwTgRmZgXnRGBmVnBOBGZmBVeYRNDySAfX3rmJlkc6ah2K\nmVldGXTfLD4YF113Lz9rTRLAF3/cymnTxnHTpSfXOCozs/ow5FsELY90PJsEuv13a4dbBmZmqSGf\nCO5++Ol+lZuZFc2QTwSnTx/fr3Izs6IZ8omgeeo4Tps27oCy06aNo3nquB5eYWZWLIUYLL7p0pNp\neaSDux9+mtOnj3cSMDMrkWsikDQb+AIwDLguIq4p2/9i4HqgCfgdcFFEtOURS/NUtwLMzCrJrWtI\n0jBgKXAOMAO4UNKMsmr/DNwYETOBxcA/5RWPmZlVlucYwYlAa0RsjohngOXA3LI6M4Afp89/UmG/\nmZnlLM9EMBHYUrLdlpaVWge8NX3+FmCMJPffmJlVUa3vGvoo8DpJvwReB2wF/lReSdJ8SS2SWtrb\n26sdo5nZkJZnItgKTC7ZnpSWPSsifhsRb42IVwGfSMt2lB8oIpZFRHNENDc1NeUYsplZ8eSZCNYA\n0yVNlTQcuABYWVpB0nhJ3TF8jOQOIjMzq6LcEkFE7AcWAKuBB4FbImKDpMWS5qTVzgA2SXoImAD8\nY17xmJlZZYqIWsfQL83NzdHS0lLrMMzMBhVJ90VEc6V9tR4sNjOzGnMiMDMrOCcCM7OCcyIwMys4\nJwIzs4JzIjAzKzgnAjOzgnMiMDMrOCeCfujYvY91W3bQsXtfrUMxMxswhViqciDcvnYrC1esp7Gh\ngc6uLpbMm8mcWeWzapuZDT5uEWTQsXsfC1esZ29nF7v27WdvZxdXrljvloGZDQlOBBm0bd9DY8OB\nl6qxoYG27XtqFJGZ2cBxIshg0thRdHZ1HVDW2dXFpLGjahSRmdnAcSLIYNzoESyZN5ORjQ2MGXEY\nIxsbWDJvJuNGj6h1aGZmh8yDxRnNmTWRU6eNp237HiaNHeUkYGZDhhNBP4wbPcIJwMyGnFy7hiTN\nlrRJUqukRRX2T5H0E0m/lLRe0rl5xmNmZs+VWyKQNAxYCpwDzAAulDSjrNonSZawfBXJmsb/nlc8\nZmZWWZ4tghOB1ojYHBHPAMuBuWV1Ajgiff584Lc5xmNmZhXkmQgmAltKttvSslJXAxdJagNWAX9b\n6UCS5ktqkdTS3t6eR6xmZoVV69tHLwS+HhGTgHOBmyQ9J6aIWBYRzRHR3NTUVPUgzcyGsjwTwVZg\ncsn2pLSs1CXALQARcQ8wEhifY0xmZlYmz0SwBpguaaqk4SSDwSvL6jwOnAkg6X+RJAL3/ZiZVVFu\niSAi9gMLgNXAgyR3B22QtFjSnLTaR4DLJK0Dvg28JyIir5jMzOy5cv1CWUSsIhkELi27quT5RuDU\nPGPo9unvbWDjb3dW41TWT3NnTeSdJ02pdRhmhVXrwWIruI1P7OT2teVDR2ZWTYWZYuJTb355rUOw\nCt7x1XtqHYJZ4blFYGZWcE4EZmYF50RgZlZwTgRV1rF7H+u27PB6x2ZWNwozWFwPbl+7lYUr1tPY\n0EBnVxdL5s1kzqzy6ZfMzKrLLYIq6di9j4Ur1rO3s4td+/azt7OLK1esd8vAzGrOiaBK2rbvobHh\nwMvd2NBA2/Y9NYrIzCzhRFAlk8aOorOr64Cyzq4uJo0dVaOIzMwSTgRVMm70CJbMm8nIxgbGjDiM\nkY0NLJk302sgm1nNebC4iubMmsip08bTtn0Pk8aOchIws7rgRFBl40aPcAIws7ririEzs4JzIjAz\nK7hcE4Gk2ZI2SWqVtKjC/n+RtDZ9PCRpR57xmJnZc+U2RiBpGLAUOAtoA9ZIWpkuRgNARFxRUv9v\ngVflFY+ZmVWWZ4vgRKA1IjZHxDPAcmBuL/UvJFmu0szMqijPRDAR2FKy3ZaWPYekFwNTgR/3sH++\npBZJLe3tXtvezGwg1ctg8QXArRHxp0o7I2JZRDRHRHNTU1OVQzMzG9ryTARbgckl25PSskouwN1C\nZmY1kWciWANMlzRV0nCSD/uV5ZUkvQwYC3jxWjOzGsgtEUTEfmABsBp4ELglIjZIWixpTknVC4Dl\nERF5xWJmZj3r8/ZRSZcDNwC7gOtIbvFcFBF39vXaiFgFrCoru6ps++p+xGtmZgMsS4vgfRGxEzib\npAvnr4Frco3KzMyqJksiUPrzXOCmiNhQUmZmZoNclkRwn6Q7SRLBakljgK4+XmNmZoNElikmLgFm\nAZsj4o+SjgLem29YZmZWLVlaBKcAmyJih6SLgE8Cv883LDMzq5YsieDLwB8lHQ98BPgNcGOuUZmZ\nWdVkSQT703v85wL/FhFLgTH5hmVmZtWSZYxgl6SPkdw2epqkBqAx37DMzKxasrQI3gHsI/k+wZMk\ncwZ9LteozMysavpMBOmH/wqge8X1p4Hv5hmUmZlVT5+JQNJlwK3AV9OiicBteQZlZmbVk6Vr6IPA\nqcBOgIh4GHhBnkGZmVn1ZEkE+9KlJgGQdBjgmULNzIaILIng/0n6ODBK0lnAd4Dv5RuWmZlVS5ZE\nsAhoBx4A3k8yrfQn8wzKzMyqJ0siGAVcHxFvi4jzgevTsj5Jmi1pk6RWSYt6qPN2SRslbZD0reyh\nm5nZQMiSCO7iwA/+UcCP+nqRpGHAUuAcYAZwoaQZZXWmAx8DTo2IlwMfyhi3mZkNkCyJYGRE7O7e\nSJ8/L8PrTgRaI2JzOti8nGSailKXAUsjYnt67KeyhW1mZgMlSyL4g6QTujck/QWwJ8PrJgJbSrbb\n0rJSLwVeKul/JN0raXalA0maL6lFUkt7e3uGU5uZWVZZ5hr6EPAdSb8lWZnshSTTTgzU+acDZ5BM\nXXG3pFdGxI7SShGxDFgG0Nzc7FtXzcwGUJ+JICLWSHoZcFxatCkiOjMceyswuWR7UlpWqg34RXq8\nRyQ9RJIY1mQ4vpmZDYAsU0x8EDg8In4VEb8CRkv63xmOvQaYLmmqpOHABcDKsjq3kbQGkDSepKto\ncz/iNzOzQ5RljOCy0q6adGD3sr5eFBH7gQXAauBB4JaI2CBpsaQ5abXVQIekjcBPgL+PiI7+/hJm\nZnbwsowRDJOkdHGa7ttCh2c5eESsIvkCWmnZVSXPA/hw+jAzsxrIkgjuAG6W1D376PvTMjMzGwKy\nJIKFJB/+f5Nu/xC4LreIzMysqrLcNdRFsoD9l/MPx8zMqq3PRCDpESpMOx0RL8klIjMzq6osXUPN\nJc9HAm8DjsonHDMzq7YsaxZ3lDy2RsS/Am+qQmxmZlYFWbqGTijZbCBpIWRpSZiZ2SCQ5QP98yXP\n9wOPAm/PJRozM6u6LHcNvb4agdjg07ptF2u37GDW5COZNmFMrcMxs4OUpWvocuAGYBfwNeAEYFFE\n3JlzbFbHrrrtAW689/Fnty8+ZQqL576yhhGZ2cHKMtfQ+yJiJ3A2MA74a+CaXKOyuta6bdcBSQDg\nxnsep3XbrhpFZGaHIksiUPrzXODGiNhQUmYFtHbLjn6Vm1l9y5II7pN0J0kiWC1pDNCVb1hWz2ZN\nPrJf5WZW37IkgkuARcCrI+KPJDOPvjfXqKyuTZswhotPmXJA2cWnTPGAsdkglXWuoftLtjsArxlQ\ncIvnvpKLTz7Gdw2ZDQFZWgQHTdJsSZsktUpaVGH/eyS1S1qbPi7NMx4bWNMmjOH85slOAmaDXI8t\nAklTI+KRgz1wuoDNUuAskrWJ10haGREby6reHBELDvY8ZmZ2aHprEdwKIOmugzz2iUBrRGyOiGeA\n5cDcgzyWmZnlpLcxggZJHwdeKuk5S0lGxLV9HHsisKVkuw04qUK9eZJOBx4CroiILeUVJM0H5gNM\nmTKlfLeZmR2C3loEFwB/IkkWYyo8BsL3gGMiYibJymffqFQpIpZFRHNENDc1NQ3Qqc3MDHppEUTE\nJuCzktZHxA8O4thbgckl25PSstJzlN59dB2w5CDOY2ZmhyDLXUM/l3StpJb08XlJz8/wujXAdElT\nJQ0naWGsLK0g6eiSzTnAg5kjNzOzAZElEVxPMuHc29PHTpJJ6HoVEfuBBcBqkg/4WyJig6TFkuak\n1f5O0gZJ64C/A97T/1/BzMwORZb1CI6NiHkl25+WtDbLwSNiFbCqrOyqkucfAz6W5VhmZpaPLC2C\nPZJe270h6VRgT34hmZlZNWVpEXwAuLFkXGA78O78QjIzs2rKMtfQOuB4SUek2ztzj8rMzKom8yL0\nTgBmZkNTrpPOmZlZ/XMiMDMruD4TgaTnSfoHSV9Lt6dL+qv8QzMzs2rI0iK4AdgHnJJubwU+k1tE\nZmZWVVkSwbERsQToBEiXq/Ti9WZmQ0SWRPCMpFFAAEg6lqSFYGZmQ0CW20evBu4AJkv6JnAqXrze\nzGzIyPKFsjsl3QecTNIldHlEPJ17ZGZmVhVZ7hq6KyI6IuK/IuL7EfH0ISxfaWZmdaa3xetHAs8D\nxksay58HiI8gWYbSzMyGgN66ht4PfAh4EXAff04EO4F/yzkuMzOrkh67hiLiCxExFfhoRLwkIqam\nj+MjIlMikDRb0iZJrZIW9VJvnqSQ1HwQv4OZmR2CLIPFX5L0CmAGMLKk/MbeXidpGLAUOAtoA9ZI\nWhkRG8vqjQEuB37R//DNzOxQZRks/hTwpfTxepIF5uf0+qLEiUBrRGyOiGeA5cDcCvX+D/BZYG/W\noM3MbOBk+ULZ+cCZwJMR8V7geCDL4vUTgS0l222UDTJLOgGYHBH/lS1cMzMbaJmWqoyILmB/ujjN\nU8DkQz2xpAbgWuAjGerOl9QiqaW9vf1QT21mZiWyJIIWSUcCXyO5e+h+4J4Mr9vKgQljUlrWbQzw\nCuCnkh4l+cLaykoDxhGxLCKaI6K5qakpw6nNzCyrXgeLJQn4p4jYAXxF0h3AERGxPsOx1wDTJU0l\nSQAXAO/s3hkRvwfGl5zrpyR3KLX0+7cwM7OD1muLICICWFWy/WjGJEBE7AcWAKuBB4FbImKDpMWS\nsgw2m5lZFWSZdO5+Sa+OiDX9PXhErKIkkaRlV/VQ94z+Ht/MzA5dlkRwEvAuSY8BfyD5hnFExMxc\nIzMzs6rIkgjemHsUZmZWM1m+WfxYNQIxM7PayHL7qJmZDWFOBGZmBedEYGZWcE4EZmYF50RgBnTs\n3se6LTvo2L2v1qGYVV2W20fNhrTb125l4Yr1NDY00NnVxZJ5M5kzy6uxWnG4RWCF1rF7HwtXrGdv\nZxe79u1nb2cXV65Y75aBFYoTgRVa2/Y9NDYc+N+gsaGBtu17ahSRWfU5Edigdyj9+5PGjqKzq+uA\nss6uLiaNHTVQ4ZnVPY8R2KB2qP3740aPYMm8mVxZdoxxo0fkGLVZfXEisEGrtH9/L8lf9VeuWM+p\n08b364N8zqyJnDptPG3b9zBp7KjCJ4GO3ft8LQrGicAGre7+/e4kAH/u3+/vB9i40SP8oYfvoCoq\njxHYoOX+/YHlO6iKK9dEIGm2pE2SWiUtqrD/A5IekLRW0s8kzcgzHhtauvv3RzY2MGbEYYxsbHD/\n/iHwHVTFlVvXkKRhwFLgLKANWCNpZURsLKn2rYj4Slp/DnAtMDuvmGzocf/+wHELq7jybBGcCLRG\nxOaIeAZYDswtrRARO0s2Dwcix3hsiBo3egTHTz7SSeAQuYVVXHkOFk8EtpRst5Ese3kASR8EPgwM\nB/6y0oEkzQfmA0yZMmXAAzWzhFtYxVTzweKIWBoRxwILgU/2UGdZRDRHRHNTU1N1AzQrGLewiifP\nRLAVmFyyPSkt68ly4Lwc4zEzswryTARrgOmSpkoaDlwArCytIGl6yeabgIdzjMfMzCrIbYwgIvZL\nWgCsBoYB10fEBkmLgZaIWAkskPQGoBPYDrw7r3jMzKyyXL9ZHBGrgFVlZVeVPL88z/ObmVnfaj5Y\nbGZmteVEYFYnvFym1YonnTOrA57szWrJLQKzGvNkb1ZrTgRmNebJ3qzWnAjMasyTvVmtORGY1Zgn\ne7Na82CxWR3wZG9WS04EZnXCy2VarbhryMys4JwIzMwKzonAzKzgnAjMzArOicDMrOCcCMzMCi7X\n20clzQa+QLIwzXURcU3Z/g8DlwL7gXbgfRHxWJ4xWf3Z+MRO3vHVe2odhlndm/GiI/jUm18+4MfN\nrUUgaRiwFDgHmAFcKGlGWbVfAs0RMRO4FViSVzxWn+bOmsiMo4+odRhmhZZni+BEoDUiNgNIWg7M\nBTZ2V4iIn5TUvxe4KMd4rA6986QpvPOkKbUOw6zQ8hwjmAhsKdluS8t6cgnwg0o7JM2X1CKppb29\nfQBDNDOzuhgslnQR0Ax8rtL+iFgWEc0R0dzU1FTd4MzMhrg8u4a2ApNLtielZQeQ9AbgE8DrIsIr\ncZiZVVmeLYI1wHRJUyUNBy4AVpZWkPQq4KvAnIh4KsdYzMysB7klgojYDywAVgMPArdExAZJiyXN\nSat9DhgNfEfSWkkrezicmVlN3LXxSRbeuo67Nj5Z61Byo4iodQz90tzcHC0tLbUOw8x60bF735BY\nW+Hsf/kpD237w7Pbx004nNVXnFG7gA6BpPsiornSPq9HYGYD6va1W1m4Yj2NDQ10dnWxZN5M5szq\n7YbB+nTXxicPSAIAm7b9gbs2PsmZM15Yo6jyURd3DZnZ0NCxex8LV6xnb2cXu/btZ29nF1euWE/H\n7sF3H8idG7f1qzxvHbv3sW7LjlyupVsEZjZg2rbvobGhgb10PVvW2NBA2/Y9g66L6OwZE7i5pa1i\nebXl3cpyi8DMBsyksaPo7Oo6oKyzq4tJY0fVKKKDd+aMF3LchMMPKDtuwuFV7xaqRivLLQIzGzDj\nRo9gybyZXFn21+tgaw10W33FGdy18Unu3LiNs2dMqMnYQDVaWU4EZjag5syayKnTxg+Ju4YgaRnU\ncnC4Gq0sdw2Z2YAbN3oEx08+ctAngYHSum0Xt7ZsoXXbrn6/truVNbKxgTEjDmNkY8OAt7LcIjAz\ny9FVtz3Ajfc+/uz2xadMYfHcV/brGHm3stwiMDPLSeu2XQckAYAb73n8oFsGebWynAjMzHKydsuO\nfpXXihOBmVlOZk0+sl/lteJEYGaWk2kTxnDxKQeuwHfxKVOYNmFMjSKqzIPFZmY5Wjz3lVx88jGs\n3bKDWZOPrLskAE4EZma5mzZhTF0mgG7uGjIzK7hcE4Gk2ZI2SWqVtKjC/tMl3S9pv6Tz84zFzMwq\nyy0RSBoGLAXOAWYAF0qaUVbtceA9wLfyisPMzHqX5xjBiUBrRGwGkLQcmAts7K4QEY+m+7oqHcDM\nzPKXZ9fQRGBLyXZbWtZvkuZLapHU0t7ePiDBmZlZYlAMFkfEsohojojmpqamWodjZjak5JkItgKT\nS7YnpWVmZlZH8kwEa4DpkqZKGg5cAKzM8XxmZnYQFBH5HVw6F/hXYBhwfUT8o6TFQEtErJT0auC7\nwFhgL/BkRLy8j2O2A4/lFjSMB57O8fgDxXEOvMESq+McWIMlTji0WF8cERX71nNNBIORpJaIaK51\nHH1xnANvsMTqOAfWYIkT8ot1UAwWm5lZfpwIzMwKzonguZbVOoCMHOfAGyyxOs6BNVjihJxi9RiB\nmVnBuUVgZlZwTgRmZgVXyEQgabKkn0jaKGmDpMsr1DlD0u8lrU0fV9Uo1kclPZDG0FJhvyR9MZ3q\ne72kE2oQ43El12mtpJ2SPlRWp2bXU9L1kp6S9KuSsqMk/VDSw+nPsT289t1pnYclvbsGcX5O0q/T\nf9vvSqq42G1f75MqxHm1pK0l/77n9vDaXqemr0KcN5fE+KiktT28tprXs+LnUVXfoxFRuAdwNHBC\n+nwM8BAwo6zOGcD36yDWR4Hxvew/F/gBIOBk4Bc1jncY8CTJl1fq4noCpwMnAL8qKVsCLEqfLwI+\nW+F1RwGb059j0+djqxzn2cBh6fPPVoozy/ukCnFeDXw0w3vjN8BLgOHAuvL/d3nHWbb/88BVdXA9\nK34eVfM9WsgWQUQ8ERH3p893AQ9ykDOj1oG5wI2RuBc4UtLRNYznTOA3EZHnt7/7JSLuBn5XVjwX\n+Eb6/BvAeRVe+kbghxHxu4jYDvwQmF3NOCPizojYn27eSzJnV031cD2zeHZq+oh4Buiemj4XvcUp\nScDbgW/ndf6sevk8qtp7tJCJoJSkY4BXAb+osPsUSesk/UBSr1Nf5CiAOyXdJ2l+hf0DNt33ALmA\nnv9z1cP17DYhIp5Inz8JTKhQp96u7ftIWn+V9PU+qYYFaRfW9T10Y9TT9TwN2BYRD/ewvybXs+zz\nqGrv0UInAkmjgRXAhyJiZ9nu+0m6N44HvgTcVu34Uq+NiBNIVnr7oKTTaxRHn5RMLjgH+E6F3fVy\nPZ8jkjZ2Xd9HLekTwH7gmz1UqfX75MvAscAs4AmSbpd6diG9twaqfj17+zzK+z1a2EQgqZHkon8z\nIv6zfH9E7IyI3enzVUCjpPFVDpOI2Jr+fIpkgr4Ty6rU03Tf5wD3R8S28h31cj1LbOvuQkt/PlWh\nTl1cW0nvAf4KeFf6gfAcGd4nuYqIbRHxp4joAr7Ww/nr5XoeBrwVuLmnOtW+nj18HlXtPVrIRJD2\nD/4H8GBEXNtDnRem9ZB0Ism16qhelCDpcEljup+TDBz+qqzaSuDi9O6hk4HflzQnq63Hv7Lq4XqW\nWQl032HxbuD2CnVWA2dLGpt2dZydllWNpNnAlcCciPhjD3WyvE9yVTYu9ZYezl8vU9O/Afh1RLRV\n2lnt69nL51H13qPVGBWvtwfwWpJm1npgbfo4F/gA8IG0zgJgA8mdDfcCr6lBnC9Jz78ujeUTaXlp\nnAKWktyN8QDQXKNrejjJB/vzS8rq4nqSJKcngE6SPtRLgHHAXcDDwI+Ao9K6zcB1Ja99H9CaPt5b\ngzhbSfqAu9+nX0nrvghY1dv7pMpx3pS+/9aTfIAdXR5nun0uyV0xv6lFnGn517vflyV1a3k9e/o8\nqtp71FNMmJkVXCG7hszM7M+cCMzMCs6JwMys4JwIzMwKzonAzKzgDqt1AGb1QtLVwG7gCODuiPhR\nD/XOAx6KiI1VDM8sN24RmJWJiKt6SgKp80hmhzQbEpwIrNAkfULSQ5J+BhyXln1d0vnp82vSeeLX\nS/pnSa8hmU/pc+lc9cdKukzSmnRCvRWSnldynC9K+rmkzd3HTPctTOe7XyfpmrTsWEl3pBOd/bek\nl1X9glghuWvICkvSX5BMczCL5P/C/cB9JfvHkUyX8LKICElHRsQOSStJ1la4Na23IyK+lj7/DMk3\nbb+UHuZokm+OvozkG7e3SjqHZIrhkyLij5KOSusuI/nG68OSTgL+HfjLHC+BGeBEYMV2GvDdSOfw\nST/gS/0e2Av8h6TvA9/v4TivSBPAkcBoDpzr5bZIJmLbKKl7GuE3ADd0nzcifpfOPPka4DvplEwA\nIw7ptzPLyInArAcRsT+dIO9M4HyS+ZIq/YX+deC8iFiXzhR6Rsm+fSXPRc8agB0RMetQYjY7GB4j\nsCK7GzhP0qh0tsk3l+5M/0p/fiTTZl8BHJ/u2kWypGC3McAT6VTC78pw3h8C7y0ZSzgqkvnnH5H0\ntrRMko7v7SBmA8WJwAorkuUBbyaZZfIHJNMklxoDfF/SeuBnwIfT8uXA30v6paRjgX8gWVHqf4Bf\nZzjvHSTjBS1KFk//aLrrXcAlkrpnvcxtGUezUp591Mys4NwiMDMrOCcCM7OCcyIwMys4JwIzs4Jz\nIjAzKzgnAjOzgnMiMDMruP8PNW5N2a7f5B0AAAAASUVORK5CYII=\n",
                "text/plain": "<Figure size 432x288 with 1 Axes>"
              },
              {
                "output_type": "display_data",
                "metadata": {
                  "tags": []
                },
                "image/png": "iVBORw0KGgoAAAANSUhEUgAAAYIAAAEWCAYAAABrDZDcAAAABHNCSVQICAgIfAhkiAAAAAlwSFlz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\nRU5ErkJggg==\n",
                "text/plain": "<Figure size 432x288 with 1 Axes>"
              }
            ],
            "_view_module": "@jupyter-widgets/output",
            "_model_module_version": "1.0.0",
            "_view_count": null,
            "_view_module_version": "1.0.0",
            "layout": "IPY_MODEL_38eb7f1d060941f8b7aa0c8871a4e649",
            "_model_module": "@jupyter-widgets/output"
          }
        },
        "e59cc857a2824045a8484fe8d3786683": {
          "model_module": "@jupyter-widgets/controls",
          "model_name": "SliderStyleModel",
          "state": {
            "_view_name": "StyleView",
            "handle_color": null,
            "_model_name": "SliderStyleModel",
            "description_width": "",
            "_view_module": "@jupyter-widgets/base",
            "_model_module_version": "1.5.0",
            "_view_count": null,
            "_view_module_version": "1.2.0",
            "_model_module": "@jupyter-widgets/controls"
          }
        },
        "39c090fb181f4cbab1d2a238d2523f62": {
          "model_module": "@jupyter-widgets/base",
          "model_name": "LayoutModel",
          "state": {
            "_view_name": "LayoutView",
            "grid_template_rows": null,
            "right": null,
            "justify_content": null,
            "_view_module": "@jupyter-widgets/base",
            "overflow": null,
            "_model_module_version": "1.2.0",
            "_view_count": null,
            "flex_flow": null,
            "width": null,
            "min_width": null,
            "border": null,
            "align_items": null,
            "bottom": null,
            "_model_module": "@jupyter-widgets/base",
            "top": null,
            "grid_column": null,
            "overflow_y": null,
            "overflow_x": null,
            "grid_auto_flow": null,
            "grid_area": null,
            "grid_template_columns": null,
            "flex": null,
            "_model_name": "LayoutModel",
            "justify_items": null,
            "grid_row": null,
            "max_height": null,
            "align_content": null,
            "visibility": null,
            "align_self": null,
            "height": null,
            "min_height": null,
            "padding": null,
            "grid_auto_rows": null,
            "grid_gap": null,
            "max_width": null,
            "order": null,
            "_view_module_version": "1.2.0",
            "grid_template_areas": null,
            "object_position": null,
            "object_fit": null,
            "grid_auto_columns": null,
            "margin": null,
            "display": null,
            "left": null
          }
        },
        "465853d6e2884995966812dc013171ac": {
          "model_module": "@jupyter-widgets/controls",
          "model_name": "SliderStyleModel",
          "state": {
            "_view_name": "StyleView",
            "handle_color": null,
            "_model_name": "SliderStyleModel",
            "description_width": "",
            "_view_module": "@jupyter-widgets/base",
            "_model_module_version": "1.5.0",
            "_view_count": null,
            "_view_module_version": "1.2.0",
            "_model_module": "@jupyter-widgets/controls"
          }
        },
        "3e4717ddf25e41feb128a106c5aaa8fb": {
          "model_module": "@jupyter-widgets/base",
          "model_name": "LayoutModel",
          "state": {
            "_view_name": "LayoutView",
            "grid_template_rows": null,
            "right": null,
            "justify_content": null,
            "_view_module": "@jupyter-widgets/base",
            "overflow": null,
            "_model_module_version": "1.2.0",
            "_view_count": null,
            "flex_flow": null,
            "width": null,
            "min_width": null,
            "border": null,
            "align_items": null,
            "bottom": null,
            "_model_module": "@jupyter-widgets/base",
            "top": null,
            "grid_column": null,
            "overflow_y": null,
            "overflow_x": null,
            "grid_auto_flow": null,
            "grid_area": null,
            "grid_template_columns": null,
            "flex": null,
            "_model_name": "LayoutModel",
            "justify_items": null,
            "grid_row": null,
            "max_height": null,
            "align_content": null,
            "visibility": null,
            "align_self": null,
            "height": null,
            "min_height": null,
            "padding": null,
            "grid_auto_rows": null,
            "grid_gap": null,
            "max_width": null,
            "order": null,
            "_view_module_version": "1.2.0",
            "grid_template_areas": null,
            "object_position": null,
            "object_fit": null,
            "grid_auto_columns": null,
            "margin": null,
            "display": null,
            "left": null
          }
        },
        "651c5710e37e4341a4d4ec71af74e51a": {
          "model_module": "@jupyter-widgets/controls",
          "model_name": "VBoxModel",
          "state": {
            "_view_name": "VBoxView",
            "_dom_classes": [
              "widget-interact"
            ],
            "_model_name": "VBoxModel",
            "_view_module": "@jupyter-widgets/controls",
            "_model_module_version": "1.5.0",
            "_view_count": null,
            "_view_module_version": "1.5.0",
            "box_style": "",
            "layout": "IPY_MODEL_b176572b7756415fa208150033d2d2e7",
            "_model_module": "@jupyter-widgets/controls",
            "children": [
              "IPY_MODEL_74c32a60e99c4bcdbf66179cf9c0fc22",
              "IPY_MODEL_1ed6acf398c348feaa229a59e85320ee",
              "IPY_MODEL_cc5e179e71e34cef854b9b2856c94203"
            ]
          }
        },
        "b176572b7756415fa208150033d2d2e7": {
          "model_module": "@jupyter-widgets/base",
          "model_name": "LayoutModel",
          "state": {
            "_view_name": "LayoutView",
            "grid_template_rows": null,
            "right": null,
            "justify_content": null,
            "_view_module": "@jupyter-widgets/base",
            "overflow": null,
            "_model_module_version": "1.2.0",
            "_view_count": null,
            "flex_flow": null,
            "width": null,
            "min_width": null,
            "border": null,
            "align_items": null,
            "bottom": null,
            "_model_module": "@jupyter-widgets/base",
            "top": null,
            "grid_column": null,
            "overflow_y": null,
            "overflow_x": null,
            "grid_auto_flow": null,
            "grid_area": null,
            "grid_template_columns": null,
            "flex": null,
            "_model_name": "LayoutModel",
            "justify_items": null,
            "grid_row": null,
            "max_height": null,
            "align_content": null,
            "visibility": null,
            "align_self": null,
            "height": null,
            "min_height": null,
            "padding": null,
            "grid_auto_rows": null,
            "grid_gap": null,
            "max_width": null,
            "order": null,
            "_view_module_version": "1.2.0",
            "grid_template_areas": null,
            "object_position": null,
            "object_fit": null,
            "grid_auto_columns": null,
            "margin": null,
            "display": null,
            "left": null
          }
        },
        "74c32a60e99c4bcdbf66179cf9c0fc22": {
          "model_module": "@jupyter-widgets/controls",
          "model_name": "IntSliderModel",
          "state": {
            "_view_name": "IntSliderView",
            "style": "IPY_MODEL_baec861b903548e2bcf7ad12be7a11de",
            "_dom_classes": [],
            "description": "max_depth",
            "step": 1,
            "_model_name": "IntSliderModel",
            "orientation": "horizontal",
            "max": 6,
            "_view_module": "@jupyter-widgets/controls",
            "_model_module_version": "1.5.0",
            "value": 1,
            "_view_count": null,
            "disabled": false,
            "_view_module_version": "1.5.0",
            "min": 1,
            "continuous_update": true,
            "readout_format": "d",
            "description_tooltip": null,
            "readout": true,
            "_model_module": "@jupyter-widgets/controls",
            "layout": "IPY_MODEL_9f5fdf3f622d4150bcbcc7f6fcbcfcdc"
          }
        },
        "1ed6acf398c348feaa229a59e85320ee": {
          "model_module": "@jupyter-widgets/controls",
          "model_name": "IntSliderModel",
          "state": {
            "_view_name": "IntSliderView",
            "style": "IPY_MODEL_6b46f4034b1b4437b74695185f80f8f2",
            "_dom_classes": [],
            "description": "n_estimators",
            "step": 10,
            "_model_name": "IntSliderModel",
            "orientation": "horizontal",
            "max": 40,
            "_view_module": "@jupyter-widgets/controls",
            "_model_module_version": "1.5.0",
            "value": 10,
            "_view_count": null,
            "disabled": false,
            "_view_module_version": "1.5.0",
            "min": 10,
            "continuous_update": true,
            "readout_format": "d",
            "description_tooltip": null,
            "readout": true,
            "_model_module": "@jupyter-widgets/controls",
            "layout": "IPY_MODEL_48e175ad8c4043dfa4d74acad38b5ee5"
          }
        },
        "cc5e179e71e34cef854b9b2856c94203": {
          "model_module": "@jupyter-widgets/output",
          "model_name": "OutputModel",
          "state": {
            "_view_name": "OutputView",
            "msg_id": "",
            "_dom_classes": [],
            "_model_name": "OutputModel",
            "outputs": [
              {
                "output_type": "display_data",
                "metadata": {
                  "tags": []
                },
                "image/png": "iVBORw0KGgoAAAANSUhEUgAAAVoAAAEFCAYAAACiiS9UAAAABHNCSVQICAgIfAhkiAAAAAlwSFlz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\nrkJggg==\n",
                "text/plain": "<Figure size 432x288 with 2 Axes>"
              },
              {
                "output_type": "display_data",
                "metadata": {
                  "tags": []
                },
                "image/png": "iVBORw0KGgoAAAANSUhEUgAAAVoAAAEFCAYAAACiiS9UAAAABHNCSVQICAgIfAhkiAAAAAlwSFlz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\naCMiCvv/w0AkhhqDy74AAAAASUVORK5CYII=\n",
                "text/plain": "<Figure size 432x288 with 2 Axes>"
              },
              {
                "output_type": "display_data",
                "metadata": {
                  "tags": []
                },
                "image/png": "iVBORw0KGgoAAAANSUhEUgAAAVoAAAEFCAYAAACiiS9UAAAABHNCSVQICAgIfAhkiAAAAAlwSFlz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\nAAAAAElFTkSuQmCC\n",
                "text/plain": "<Figure size 432x288 with 2 Axes>"
              }
            ],
            "_view_module": "@jupyter-widgets/output",
            "_model_module_version": "1.0.0",
            "_view_count": null,
            "_view_module_version": "1.0.0",
            "layout": "IPY_MODEL_181319a3683246b496e6473cde99f33f",
            "_model_module": "@jupyter-widgets/output"
          }
        },
        "baec861b903548e2bcf7ad12be7a11de": {
          "model_module": "@jupyter-widgets/controls",
          "model_name": "SliderStyleModel",
          "state": {
            "_view_name": "StyleView",
            "handle_color": null,
            "_model_name": "SliderStyleModel",
            "description_width": "",
            "_view_module": "@jupyter-widgets/base",
            "_model_module_version": "1.5.0",
            "_view_count": null,
            "_view_module_version": "1.2.0",
            "_model_module": "@jupyter-widgets/controls"
          }
        },
        "9f5fdf3f622d4150bcbcc7f6fcbcfcdc": {
          "model_module": "@jupyter-widgets/base",
          "model_name": "LayoutModel",
          "state": {
            "_view_name": "LayoutView",
            "grid_template_rows": null,
            "right": null,
            "justify_content": null,
            "_view_module": "@jupyter-widgets/base",
            "overflow": null,
            "_model_module_version": "1.2.0",
            "_view_count": null,
            "flex_flow": null,
            "width": null,
            "min_width": null,
            "border": null,
            "align_items": null,
            "bottom": null,
            "_model_module": "@jupyter-widgets/base",
            "top": null,
            "grid_column": null,
            "overflow_y": null,
            "overflow_x": null,
            "grid_auto_flow": null,
            "grid_area": null,
            "grid_template_columns": null,
            "flex": null,
            "_model_name": "LayoutModel",
            "justify_items": null,
            "grid_row": null,
            "max_height": null,
            "align_content": null,
            "visibility": null,
            "align_self": null,
            "height": null,
            "min_height": null,
            "padding": null,
            "grid_auto_rows": null,
            "grid_gap": null,
            "max_width": null,
            "order": null,
            "_view_module_version": "1.2.0",
            "grid_template_areas": null,
            "object_position": null,
            "object_fit": null,
            "grid_auto_columns": null,
            "margin": null,
            "display": null,
            "left": null
          }
        },
        "6b46f4034b1b4437b74695185f80f8f2": {
          "model_module": "@jupyter-widgets/controls",
          "model_name": "SliderStyleModel",
          "state": {
            "_view_name": "StyleView",
            "handle_color": null,
            "_model_name": "SliderStyleModel",
            "description_width": "",
            "_view_module": "@jupyter-widgets/base",
            "_model_module_version": "1.5.0",
            "_view_count": null,
            "_view_module_version": "1.2.0",
            "_model_module": "@jupyter-widgets/controls"
          }
        },
        "48e175ad8c4043dfa4d74acad38b5ee5": {
          "model_module": "@jupyter-widgets/base",
          "model_name": "LayoutModel",
          "state": {
            "_view_name": "LayoutView",
            "grid_template_rows": null,
            "right": null,
            "justify_content": null,
            "_view_module": "@jupyter-widgets/base",
            "overflow": null,
            "_model_module_version": "1.2.0",
            "_view_count": null,
            "flex_flow": null,
            "width": null,
            "min_width": null,
            "border": null,
            "align_items": null,
            "bottom": null,
            "_model_module": "@jupyter-widgets/base",
            "top": null,
            "grid_column": null,
            "overflow_y": null,
            "overflow_x": null,
            "grid_auto_flow": null,
            "grid_area": null,
            "grid_template_columns": null,
            "flex": null,
            "_model_name": "LayoutModel",
            "justify_items": null,
            "grid_row": null,
            "max_height": null,
            "align_content": null,
            "visibility": null,
            "align_self": null,
            "height": null,
            "min_height": null,
            "padding": null,
            "grid_auto_rows": null,
            "grid_gap": null,
            "max_width": null,
            "order": null,
            "_view_module_version": "1.2.0",
            "grid_template_areas": null,
            "object_position": null,
            "object_fit": null,
            "grid_auto_columns": null,
            "margin": null,
            "display": null,
            "left": null
          }
        },
        "08362138756c4cd79ee86c66f1730976": {
          "model_module": "@jupyter-widgets/controls",
          "model_name": "VBoxModel",
          "state": {
            "_view_name": "VBoxView",
            "_dom_classes": [
              "widget-interact"
            ],
            "_model_name": "VBoxModel",
            "_view_module": "@jupyter-widgets/controls",
            "_model_module_version": "1.5.0",
            "_view_count": null,
            "_view_module_version": "1.5.0",
            "box_style": "",
            "layout": "IPY_MODEL_b5e664a09b914a1f974a12b3ead8e70b",
            "_model_module": "@jupyter-widgets/controls",
            "children": [
              "IPY_MODEL_cc8321322e754c6b96b9aa4393656484",
              "IPY_MODEL_83a9b285d0624cd593ce9f3e54d74f99",
              "IPY_MODEL_3dd5c8a6f3af440bb961a981fc153eff"
            ]
          }
        },
        "b5e664a09b914a1f974a12b3ead8e70b": {
          "model_module": "@jupyter-widgets/base",
          "model_name": "LayoutModel",
          "state": {
            "_view_name": "LayoutView",
            "grid_template_rows": null,
            "right": null,
            "justify_content": null,
            "_view_module": "@jupyter-widgets/base",
            "overflow": null,
            "_model_module_version": "1.2.0",
            "_view_count": null,
            "flex_flow": null,
            "width": null,
            "min_width": null,
            "border": null,
            "align_items": null,
            "bottom": null,
            "_model_module": "@jupyter-widgets/base",
            "top": null,
            "grid_column": null,
            "overflow_y": null,
            "overflow_x": null,
            "grid_auto_flow": null,
            "grid_area": null,
            "grid_template_columns": null,
            "flex": null,
            "_model_name": "LayoutModel",
            "justify_items": null,
            "grid_row": null,
            "max_height": null,
            "align_content": null,
            "visibility": null,
            "align_self": null,
            "height": null,
            "min_height": null,
            "padding": null,
            "grid_auto_rows": null,
            "grid_gap": null,
            "max_width": null,
            "order": null,
            "_view_module_version": "1.2.0",
            "grid_template_areas": null,
            "object_position": null,
            "object_fit": null,
            "grid_auto_columns": null,
            "margin": null,
            "display": null,
            "left": null
          }
        },
        "cc8321322e754c6b96b9aa4393656484": {
          "model_module": "@jupyter-widgets/controls",
          "model_name": "IntSliderModel",
          "state": {
            "_view_name": "IntSliderView",
            "style": "IPY_MODEL_502f253702d243e0810bef532fc4e6a8",
            "_dom_classes": [],
            "description": "max_depth",
            "step": 1,
            "_model_name": "IntSliderModel",
            "orientation": "horizontal",
            "max": 6,
            "_view_module": "@jupyter-widgets/controls",
            "_model_module_version": "1.5.0",
            "value": 1,
            "_view_count": null,
            "disabled": false,
            "_view_module_version": "1.5.0",
            "min": 1,
            "continuous_update": true,
            "readout_format": "d",
            "description_tooltip": null,
            "readout": true,
            "_model_module": "@jupyter-widgets/controls",
            "layout": "IPY_MODEL_2f10149f0a9a4154a1efe9252fb98eba"
          }
        },
        "83a9b285d0624cd593ce9f3e54d74f99": {
          "model_module": "@jupyter-widgets/controls",
          "model_name": "IntSliderModel",
          "state": {
            "_view_name": "IntSliderView",
            "style": "IPY_MODEL_6fa98a85322d4ed4b8550f66a34a9413",
            "_dom_classes": [],
            "description": "n_estimators",
            "step": 1,
            "_model_name": "IntSliderModel",
            "orientation": "horizontal",
            "max": 5,
            "_view_module": "@jupyter-widgets/controls",
            "_model_module_version": "1.5.0",
            "value": 2,
            "_view_count": null,
            "disabled": false,
            "_view_module_version": "1.5.0",
            "min": 2,
            "continuous_update": true,
            "readout_format": "d",
            "description_tooltip": null,
            "readout": true,
            "_model_module": "@jupyter-widgets/controls",
            "layout": "IPY_MODEL_6e5ab5a35b2c46a78cc7e87a77be769d"
          }
        },
        "3dd5c8a6f3af440bb961a981fc153eff": {
          "model_module": "@jupyter-widgets/output",
          "model_name": "OutputModel",
          "state": {
            "_view_name": "OutputView",
            "msg_id": "",
            "_dom_classes": [],
            "_model_name": "OutputModel",
            "outputs": [
              {
                "output_type": "display_data",
                "metadata": {
                  "tags": []
                },
                "image/png": "iVBORw0KGgoAAAANSUhEUgAAAVoAAAEFCAYAAACiiS9UAAAABHNCSVQICAgIfAhkiAAAAAlwSFlz\nAAALEgAACxIB0t1+/AAAADh0RVh0U29mdHdhcmUAbWF0cGxvdGxpYiB2ZXJzaW9uMy4xLjIsIGh0\ndHA6Ly9tYXRwbG90bGliLm9yZy8li6FKAAAR0klEQVR4nO3df9ClZV3H8fdnFwkTNBPtB4uKCCoi\nJSFaltqItlCClj+AHMMxt1Qax1+FZmZkpVk6w8Soa5E/RlmFoh5lhcpflIrsIkqytrouBLuagCKB\norDP8+2Pc1YOT/s85xz2XHvOvb5fO9fsua/7eq77emae+c53vvd13ydVhSSpnRXTXoAk7e0MtJLU\nmIFWkhoz0EpSYwZaSWrMQCtJjRloJakxA62WleTWgbaQ5LaB49/cA9d/aZLLk9ye5G9bX09qYZ9p\nL0Czrar23/k5yTXAb1fVvy01Psk+VbVjgkvYDpwJ/ComBuoo/3C1W5K8IckHkpyb5BbguUlWJHlN\nkq8muTHJuiT3HfiZxye5NMm3k3w+yROWmr+qzq+qfwa+tSd+H6kFA60m4RnA+4H7AB8AXkYvA30C\nsAq4FTgLIMnBwBzwx8CPA2cA/5jkfnt+2dKeYaDVJPxHVX2oqhaq6jbgd4HXVNX2qvoe8CfAs5Ks\nAJ4HzFXVxf3xFwFfAFZPb/lSW9ZoNQnXLTp+IPChJAuL+h8APAg4JckzBvrvAVzUcH3SVBloNQmL\nXwG3DTi1qj67eGCS64C/r6oX7ZGVSTPA0oFaeDvw50keCJDkAUlO7J97L/CMJE9JsjLJfkl+OclP\n72qiJPsk2Q9YCewcv3KP/BbShBho1cJb6JUCPtrfifBp4DEAVXUNvZtnfwTcAFwLvIKl/xZfD9wG\nvBI4rf/51c1WLjUQX/wtSW2Z0UpSYwZaSRqQ5Jwk1yf54hLnk+SsJFuSXJnk6GFzGmgl6a7exfL7\nuo8HDuu3NcDbhk1ooJWkAVV1Ccs/8n0S8J7quRT4sSQ/tdycTfbRfvXIX/EOm7QHbL7hvsMHzbgT\nvrEuuzvHHTduHTnm7Hv/Q3+HXia609qqWjvG5Q7irg/pbOv3fX2pH/CBBUk/VPpBdZzAutsMtJK6\nb2F+T15tO3DwwPGqft+SrNFK6r75HaO33TcHPK+/++BxwM1VtWTZAMxoJe0Fqha/v+juS3Iu8CTg\nwCTb6L3S8x6969TbgfXACcAW4LvA84fNaaCV1H0Lkwu0VXXKkPMFvGScOQ20krpvghltCwZaSd23\nZ2+Gjc1AK6n7zGglqa2azG6CZgy0krpvgjfDWjDQSuo+SweS1Jg3wySpMTNaSWrMm2GS1Jg3wySp\nrSprtJLUljVaSWrM0oEkNWZGK0mNzd8x7RUsy0ArqfssHUhSY5YOJKkxM1pJasxAK0ltlTfDJKkx\na7SS1JilA0lqzIxWkhozo5WkxsxoJamxHb74W5LaMqOVpMas0UpSY2a0ktSYGa0kNWZGK0mNuetA\nkhqrmvYKlmWgldR91mglqbEZD7Qrpr0ASdpttTB6GyLJ6iSbk2xJcsYuzj8wyceTXJHkyiQnDJvT\njFZS983PT2SaJCuBs4GnANuADUnmqmrTwLDXAh+sqrclOQJYDzx4uXkNtJK6b3Klg2OBLVW1FSDJ\nOuAkYDDQFnDv/uf7AF8bNqmBVlL3jRFok6wB1gx0ra2qtf3PBwHXDZzbBjx20RSvB/4lye8B9wKO\nG3ZNA62k7hvjgYV+UF07dODSTgHeVVV/neTngfcmObJq6UUYaCV1Xi1MbB/tduDggeNV/b5BLwBW\nA1TVZ5LsBxwIXL/UpO46kNR9Cwujt+VtAA5LckiSfYGTgblFY64FngyQ5BHAfsANy01qRiup+ya0\n66CqdiQ5HbgYWAmcU1VXJTkT2FhVc8ArgHcmeRm9G2OnVS3/aJqBVlL3TfCBhapaT2/L1mDf6wY+\nbwIeP86cBlpJ3TfjT4YZaCV1ny+VkaTGzGglqbHJbe9qwkArqfsmtOugFQOtpM4rSweS1JilA0lq\nzC9nlKTGzGglqbEd3gyTpLYsHUhSY5YOJKktt3dJUmtmtJLUmIFWkhrzEVxJamuC3xnWhIFWUvcZ\naCWpMXcdSFJjZrSS1JiBVpLaqnlLB5LUlhmtJLXl9i5Jas1AK0mNzXaJ1kArqftqx2xHWgOtpO6b\n7ThroJXUfd4Mk6TWzGglqS0zWklqbcYz2hXTXoCku+9h979p2kuYCbVj9DYNZrRSh22+4b7TXsJM\nmPFvGzejlbQXWBijDZFkdZLNSbYkOWOJMc9OsinJVUneP2xOM1pJnTepjDbJSuBs4CnANmBDkrmq\n2jQw5jDg1cDjq+qmJA8YNq8ZraTOq4XR2xDHAluqamtV3Q6sA05aNOaFwNlVdRNAVV0/bFIDraTO\nq/mM3JKsSbJxoK0ZmOog4LqB4239vkGHA4cn+VSSS5OsHrY+SweSOm+c0kFVrQXW7sbl9gEOA54E\nrAIuSfKoqvr2cj8gSZ1WC5nUVNuBgweOV/X7Bm0DPltVdwBXJ/kyvcC7YalJLR1I6rwJ1mg3AIcl\nOSTJvsDJwNyiMf9EL5slyYH0Sglbl5vUjFZS51VNJqOtqh1JTgcuBlYC51TVVUnOBDZW1Vz/3FOT\nbALmgVdV1TeXm9dAK6nzJvnAQlWtB9Yv6nvdwOcCXt5vIxmpdJDk8CQfTfLF/vFRSV476kUkqaWF\n+YzcpmHUGu076W3QvQOgqq6kV7uQpKmrhYzcpmHU0sGPVtVlyV0WOaXXM0jSXU0rgI5q1EB7Y5JD\ngQJI8kzg681WJUljqNl+He3IgfYl9Db4PjzJduBq4LnNViVJY9grMtqq2gocl+RewIqquqXtsiRp\ndJPa3tXKsoE2yS63L+ys1VbVWxqsSZLGMj+l3QSjGpbRHtD//2HAY7jzCYmnAZe1WpQkjaPTGW1V\n/QlAkkuAo3eWDJK8Hriw+eokaQR7RY0W+Ang9oHj2/t9kjR1e8uug/cAlyW5oH/8dODdbZYkSePZ\nKzLaqvqzJB8Bfqnf9fyquqLdsiRpdPMLs/0iwpECbZIHAjcCFwz2VdW1rRYmSaPaW0oHF9J/Kgy4\nJ3AIsBl4ZItFSdI4Frq862CnqnrU4HGSo4EXN1mRJI2p09u7llJVn0vy2EkvRpLujr2idLDoCbEV\nwNHA15qsSJLGtFeUDrjzCTHovR7xQuAfJr8cSRrfXrHrANhUVecNdiR5FnDeEuMlaY+Z8crByN+w\n8OoR+yRpj1uojNymYdjbu44HTgAOSnLWwKl74zcsSJoRXd918DVgI3AicPlA/y3Ay1otSpLGMcEv\nwW1i2Nu7vgB8Icn7qsoMVtJMKjqc0Sb5YFU9G7giyf+rN1fVUc1WJkkj2tHx0sFL+///WuuFSNLd\nNesZ7bK7Dqpq5zfdvriq/nuw4SO4kmbEwhhtGkbd3vWUXfQdP8mFSNLdVWTkNg3DarQvope5PiTJ\nlQOnDgA+1XJhkjSqTu86AN4PfAT4C+CMgf5bqupbzVYlSWOYn/Ea7bDtXTcDNwOnACR5ALAfsH+S\n/X3xt6RZMOPfZDNajTbJ05J8Bbga+CRwDb1MV5KmboGM3KZh1JthbwAeB3y5qg4Bngxc2mxVkjSG\nGqNNw6iB9o6q+iawIsmKqvo4cEzDdUnSyGZ9e9eor0n8dpL9gUuA9yW5HvhOu2VJ0ugWMttF2lEz\n2pOA2+i9SOYi4KvA01otSpLGMT9Gm4aRAm1Vfaeq5qtqR1W9u6rO6pcSJGnqFjJ6GybJ6iSbk2xJ\ncsYy434jSSUZWkYd9sDCLey6fhygqureQ1ctSY1NajdBkpXA2fSeht0GbEgyV1WbFo07gN67YD47\nyrzD3nVwQFXdexftAIOspFkxwV0HxwJbqmprVd0OrKNXOl3sT4E3Ad8bZX2z/Y1mkjSCcUoHSdYk\n2TjQ1gxMdRBw3cDxtn7fDyQ5Gji4qi4cdX2j7jqQpJk1zratqloLrL0710myAngLcNo4P2egldR5\n85Pb3bUdOHjgeFW/b6cDgCOBT6S3pewngbkkJ1bVxqUmNdBK6rwJPoiwATgsySH0AuzJwKk7T/bf\n/3LgzuMknwBeuVyQBWu0kvYCk3oyrP/diKcDFwNfAj5YVVclOTPJiXd3fWa0kjpvkl8ZVlXrgfWL\n+l63xNgnjTKngVZS53X9xd+SNPOm9WjtqAy0kjpv1l/8baCV1HmWDiSpMQOtJDU2rW9OGJWBVlLn\nWaOVpMbcdSBJjS3MePHAQCup87wZJkmNzXY+a6CVtBcwo5WkxnZktnNaA62kzpvtMGuglbQXsHQg\nSY25vUuSGpvtMGuglbQXsHQgSY3Nz3hOa6CV1HlmtJLUWJnRSlJbZrSS1JjbuySpsdkOswZaSXuB\nHTMeag20kjrPm2GS1Jg3wySpMTNaSWrMjFaSGpsvM1pJasp9tJLUmDVaSWrMGq0kNTbrpYMV016A\nJO2uGuPfMElWJ9mcZEuSM3Zx/uVJNiW5MslHkzxo2JwGWkmdN181cltOkpXA2cDxwBHAKUmOWDTs\nCuCYqjoKOB/4y2HrM9BK6rwFauQ2xLHAlqraWlW3A+uAkwYHVNXHq+q7/cNLgVXDJjXQSuq8hTFa\nkjVJNg60NQNTHQRcN3C8rd+3lBcAHxm2Pm+GSeq8cbZ3VdVaYO3uXjPJc4FjgCcOG2ugldR5E9x1\nsB04eOB4Vb/vLpIcB/wh8MSq+v6wSQ20kjqvJvcI7gbgsCSH0AuwJwOnDg5I8mjgHcDqqrp+lEkN\ntJI6b1JfN15VO5KcDlwMrATOqaqrkpwJbKyqOeDNwP7AeUkArq2qE5eb10ArqfMm+cBCVa0H1i/q\ne93A5+PGndNAK6nzJlg6aMJAK6nzZv0RXAOtpM7z7V2S1Jgv/pakxiwdSFJjBlpJasxdB5LUmBmt\nJDXmrgNJamy+Zvtbwwy0kjrPGq0kNWaNVpIas0YrSY0tWDqQpLbMaCWpMXcdSFJjlg4kqTFLB5LU\nmBmtJDVmRitJjc3X/LSXsCwDraTO8xFcSWrMR3AlqTEzWklqzF0HktSYuw4kqTEfwZWkxqzRSlJj\n1mglqTEzWklqzH20ktSYGa0kNeauA0lqzJthktTYrJcOVkx7AZK0u2qMf8MkWZ1kc5ItSc7Yxfkf\nSfKB/vnPJnnwsDkNtJI6r6pGbstJshI4GzgeOAI4JckRi4a9ALipqh4KvBV407D1GWgldd5C1cht\niGOBLVW1tapuB9YBJy0acxLw7v7n84EnJ8lykzap0R76xYuXvaikyTh02guYETtu3z5yzEmyBlgz\n0LW2qtb2Px8EXDdwbhvw2EVT/GBMVe1IcjNwP+DGpa7pzTBJP1T6QXXt0IETZOlAku60HTh44HhV\nv2+XY5LsA9wH+OZykxpoJelOG4DDkhySZF/gZGBu0Zg54Lf6n58JfKyG3GWzdCBJff2a6+nAxcBK\n4JyquirJmcDGqpoD/g54b5ItwLfoBeNlZdY3+mrPSnJrVe0/4TlPBI6oqjcmeTrw5araNOYcnwBe\nWVUbJ7k2aU+wdKDmqmquqt7YP3w6vf2J0g8NA612KT1vTvLFJP+Z5Dn9/icl+USS85P8V5L37dxD\nmOSEft/lSc5K8uF+/2lJ/ibJLwAnAm9O8vkkh/bnOqY/7sAk1/Q/3zPJuiRfSnIBcM+BtT01yWeS\nfC7JeUkmmoFLk2aNVkv5deBngZ8BDgQ2JLmkf+7RwCOBrwGfAh6fZCPwDuAJVXV1knMXT1hVn04y\nB3y4qs4HWGaf94uA71bVI5IcBXyuP/5A4LXAcVX1nSR/ALwcOHMSv7TUgoFWS/lF4Nyqmge+keST\nwGOA/wUuq6ptAEk+DzwYuBXYWlVX93/+XO66KXxcTwDOAqiqK5Nc2e9/HL3Sw6f6QXpf4DO7cR2p\nOQOt7o7vD3yeZ/f+jnZwZwlrvxHGB/jXqjplN64p7VHWaLWUfweek2RlkvvTyzAvW2b8ZuAhA28y\nes4S424BDhg4vgb4uf7nZw70XwKcCpDkSOCofv+l9EoVD+2fu1eSw0f4faSpMdBqKRcAVwJfAD4G\n/H5V/c9Sg6vqNuDFwEVJLqcXUG/exdB1wKuSXJHkUOCvgBcluYJeLXintwH7J/kSvfrr5f3r3ACc\nBpzbLyd8Bnj47vyiUmvuo9XEJNm/qm7t70I4G/hKVb112uuSps2MVpP0wv7NsavoPf/9jimvR5oJ\nZrSS1JgZrSQ1ZqCVpMYMtJLUmIFWkhoz0EpSY/8HVEWFhYcQax0AAAAASUVORK5CYII=\n",
                "text/plain": "<Figure size 432x288 with 2 Axes>"
              },
              {
                "output_type": "display_data",
                "metadata": {
                  "tags": []
                },
                "image/png": "iVBORw0KGgoAAAANSUhEUgAAAVoAAAEFCAYAAACiiS9UAAAABHNCSVQICAgIfAhkiAAAAAlwSFlz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\nRK5CYII=\n",
                "text/plain": "<Figure size 432x288 with 2 Axes>"
              },
              {
                "output_type": "display_data",
                "metadata": {
                  "tags": []
                },
                "image/png": "iVBORw0KGgoAAAANSUhEUgAAAVoAAAEFCAYAAACiiS9UAAAABHNCSVQICAgIfAhkiAAAAAlwSFlz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\nrkJggg==\n",
                "text/plain": "<Figure size 432x288 with 2 Axes>"
              }
            ],
            "_view_module": "@jupyter-widgets/output",
            "_model_module_version": "1.0.0",
            "_view_count": null,
            "_view_module_version": "1.0.0",
            "layout": "IPY_MODEL_f415f81e1d73420e9f8d23bc5aaa3934",
            "_model_module": "@jupyter-widgets/output"
          }
        },
        "502f253702d243e0810bef532fc4e6a8": {
          "model_module": "@jupyter-widgets/controls",
          "model_name": "SliderStyleModel",
          "state": {
            "_view_name": "StyleView",
            "handle_color": null,
            "_model_name": "SliderStyleModel",
            "description_width": "",
            "_view_module": "@jupyter-widgets/base",
            "_model_module_version": "1.5.0",
            "_view_count": null,
            "_view_module_version": "1.2.0",
            "_model_module": "@jupyter-widgets/controls"
          }
        },
        "2f10149f0a9a4154a1efe9252fb98eba": {
          "model_module": "@jupyter-widgets/base",
          "model_name": "LayoutModel",
          "state": {
            "_view_name": "LayoutView",
            "grid_template_rows": null,
            "right": null,
            "justify_content": null,
            "_view_module": "@jupyter-widgets/base",
            "overflow": null,
            "_model_module_version": "1.2.0",
            "_view_count": null,
            "flex_flow": null,
            "width": null,
            "min_width": null,
            "border": null,
            "align_items": null,
            "bottom": null,
            "_model_module": "@jupyter-widgets/base",
            "top": null,
            "grid_column": null,
            "overflow_y": null,
            "overflow_x": null,
            "grid_auto_flow": null,
            "grid_area": null,
            "grid_template_columns": null,
            "flex": null,
            "_model_name": "LayoutModel",
            "justify_items": null,
            "grid_row": null,
            "max_height": null,
            "align_content": null,
            "visibility": null,
            "align_self": null,
            "height": null,
            "min_height": null,
            "padding": null,
            "grid_auto_rows": null,
            "grid_gap": null,
            "max_width": null,
            "order": null,
            "_view_module_version": "1.2.0",
            "grid_template_areas": null,
            "object_position": null,
            "object_fit": null,
            "grid_auto_columns": null,
            "margin": null,
            "display": null,
            "left": null
          }
        },
        "6fa98a85322d4ed4b8550f66a34a9413": {
          "model_module": "@jupyter-widgets/controls",
          "model_name": "SliderStyleModel",
          "state": {
            "_view_name": "StyleView",
            "handle_color": null,
            "_model_name": "SliderStyleModel",
            "description_width": "",
            "_view_module": "@jupyter-widgets/base",
            "_model_module_version": "1.5.0",
            "_view_count": null,
            "_view_module_version": "1.2.0",
            "_model_module": "@jupyter-widgets/controls"
          }
        },
        "6e5ab5a35b2c46a78cc7e87a77be769d": {
          "model_module": "@jupyter-widgets/base",
          "model_name": "LayoutModel",
          "state": {
            "_view_name": "LayoutView",
            "grid_template_rows": null,
            "right": null,
            "justify_content": null,
            "_view_module": "@jupyter-widgets/base",
            "overflow": null,
            "_model_module_version": "1.2.0",
            "_view_count": null,
            "flex_flow": null,
            "width": null,
            "min_width": null,
            "border": null,
            "align_items": null,
            "bottom": null,
            "_model_module": "@jupyter-widgets/base",
            "top": null,
            "grid_column": null,
            "overflow_y": null,
            "overflow_x": null,
            "grid_auto_flow": null,
            "grid_area": null,
            "grid_template_columns": null,
            "flex": null,
            "_model_name": "LayoutModel",
            "justify_items": null,
            "grid_row": null,
            "max_height": null,
            "align_content": null,
            "visibility": null,
            "align_self": null,
            "height": null,
            "min_height": null,
            "padding": null,
            "grid_auto_rows": null,
            "grid_gap": null,
            "max_width": null,
            "order": null,
            "_view_module_version": "1.2.0",
            "grid_template_areas": null,
            "object_position": null,
            "object_fit": null,
            "grid_auto_columns": null,
            "margin": null,
            "display": null,
            "left": null
          }
        }
      }
    }
  },
  "cells": [
    {
      "cell_type": "markdown",
      "metadata": {
        "id": "view-in-github",
        "colab_type": "text"
      },
      "source": [
        "<a href=\"https://colab.research.google.com/github/ericaburdett/DS-Unit-2-Kaggle-Challenge/blob/master/module1-decision-trees/Lecture_222.ipynb\" target=\"_parent\"><img src=\"https://colab.research.google.com/assets/colab-badge.svg\" alt=\"Open In Colab\"/></a>"
      ]
    },
    {
      "cell_type": "markdown",
      "metadata": {
        "colab_type": "text",
        "id": "UEHyIgGaaSEJ"
      },
      "source": [
        "Lambda School Data Science\n",
        "\n",
        "*Unit 2, Sprint 2, Module 2*\n",
        "\n",
        "---"
      ]
    },
    {
      "cell_type": "markdown",
      "metadata": {
        "colab_type": "text",
        "id": "mRfPLX4WgLVJ"
      },
      "source": [
        "# Random Forests"
      ]
    },
    {
      "cell_type": "markdown",
      "metadata": {
        "colab_type": "text",
        "id": "jRRNhkxcgLVK"
      },
      "source": [
        "- use scikit-learn for **random forests**\n",
        "- do **ordinal encoding** with high-cardinality categoricals\n",
        "- understand how categorical encodings affect trees differently compared to linear models\n",
        "- understand how tree ensembles reduce overfitting compared to a single decision tree with unlimited depth"
      ]
    },
    {
      "cell_type": "markdown",
      "metadata": {
        "colab_type": "text",
        "id": "-3TH11e1gLVL"
      },
      "source": [
        "Today's lesson has two take-away messages:\n",
        "\n",
        "#### Try Tree Ensembles when you do machine learning with labeled, tabular data\n",
        "- \"Tree Ensembles\" means Random Forest or Gradient Boosting models. \n",
        "- [Tree Ensembles often have the best predictive accuracy](https://arxiv.org/abs/1708.05070) with labeled, tabular data.\n",
        "- Why? Because trees can fit non-linear, non-[monotonic](https://en.wikipedia.org/wiki/Monotonic_function) relationships, and [interactions](https://christophm.github.io/interpretable-ml-book/interaction.html) between features.\n",
        "- A single decision tree, grown to unlimited depth, will [overfit](http://www.r2d3.us/visual-intro-to-machine-learning-part-1/). We solve this problem by ensembling trees, with bagging (Random Forest) or boosting (Gradient Boosting).\n",
        "- Random Forest's advantage: may be less sensitive to hyperparameters. Gradient Boosting's advantage: may get better predictive accuracy.\n",
        "\n",
        "#### One-hot encoding isn’t the only way, and may not be the best way, of categorical encoding for tree ensembles.\n",
        "- For example, tree ensembles can work with arbitrary \"ordinal\" encoding! (Randomly assigning an integer to each category.) Compared to one-hot encoding, the dimensionality will be lower, and the predictive accuracy may be just as good or even better.\n"
      ]
    },
    {
      "cell_type": "markdown",
      "metadata": {
        "colab_type": "text",
        "id": "r5PbOFEuFfGF"
      },
      "source": [
        "### Setup\n",
        "\n",
        "Run the code cell below. You can work locally (follow the [local setup instructions](https://lambdaschool.github.io/ds/unit2/local/)) or on Colab.\n",
        "\n",
        "Libraries\n",
        "\n",
        "- **category_encoders** \n",
        "- **graphviz**\n",
        "- ipywidgets\n",
        "- matplotlib\n",
        "- numpy\n",
        "- pandas\n",
        "- seaborn\n",
        "- scikit-learn"
      ]
    },
    {
      "cell_type": "code",
      "metadata": {
        "colab_type": "code",
        "id": "FStAplyRFoEu",
        "colab": {}
      },
      "source": [
        "%%capture\n",
        "import sys\n",
        "\n",
        "# If you're on Colab:\n",
        "if 'google.colab' in sys.modules:\n",
        "    DATA_PATH = 'https://raw.githubusercontent.com/LambdaSchool/DS-Unit-2-Kaggle-Challenge/master/data/'\n",
        "    !pip install category_encoders==2.*\n",
        "\n",
        "# If you're working locally:\n",
        "else:\n",
        "    DATA_PATH = '../data/'"
      ],
      "execution_count": 0,
      "outputs": []
    },
    {
      "cell_type": "markdown",
      "metadata": {
        "colab_type": "text",
        "id": "ZL-yK8B7gLVW"
      },
      "source": [
        "# Use scikit-learn for random forests"
      ]
    },
    {
      "cell_type": "markdown",
      "metadata": {
        "id": "vI0CU6c6SMda",
        "colab_type": "text"
      },
      "source": [
        "## Overview\n",
        "\n",
        "Let's fit a Random Forest!\n",
        "\n",
        "![](https://pbs.twimg.com/media/EGSvKA0UUAEzUZi?format=png)\n",
        "\n",
        "[Chris Albon, MachineLearningFlashcards.com](https://twitter.com/chrisalbon/status/1181261589887909889)"
      ]
    },
    {
      "cell_type": "markdown",
      "metadata": {
        "colab_type": "text",
        "id": "gHFxMCPSgLVM"
      },
      "source": [
        "### Solution example\n",
        "\n",
        "First, read & wrangle the data.\n",
        "\n",
        "> Define a function to wrangle train, validate, and test sets in the same way. Clean outliers and engineer features. (For example, [what other columns have zeros and shouldn't?](https://github.com/Quartz/bad-data-guide#zeros-replace-missing-values) What other columns are duplicates, or nearly duplicates? Can you extract the year from date_recorded? Can you engineer new features, such as the number of years from waterpump construction to waterpump inspection?)"
      ]
    },
    {
      "cell_type": "code",
      "metadata": {
        "colab_type": "code",
        "id": "YTLm-rDagLVM",
        "colab": {}
      },
      "source": [
        "import numpy as np\n",
        "import pandas as pd\n",
        "from sklearn.model_selection import train_test_split\n",
        "\n",
        "# Merge train_features.csv & train_labels.csv\n",
        "train = pd.merge(pd.read_csv(DATA_PATH+'waterpumps/train_features.csv'), \n",
        "                 pd.read_csv(DATA_PATH+'waterpumps/train_labels.csv'))\n",
        "\n",
        "# Read test_features.csv & sample_submission.csv\n",
        "test = pd.read_csv(DATA_PATH+'waterpumps/test_features.csv')\n",
        "sample_submission = pd.read_csv(DATA_PATH+'waterpumps/sample_submission.csv')\n",
        "\n",
        "# Split train into train & val\n",
        "train, val = train_test_split(train, train_size=0.80, test_size=0.20, \n",
        "                              stratify=train['status_group'], random_state=42)\n",
        "\n",
        "\n",
        "def wrangle(X):\n",
        "    \"\"\"Wrangle train, validate, and test sets in the same way\"\"\"\n",
        "    \n",
        "    # Prevent SettingWithCopyWarning\n",
        "    X = X.copy()\n",
        "    \n",
        "    # About 3% of the time, latitude has small values near zero,\n",
        "    # outside Tanzania, so we'll treat these values like zero.\n",
        "    X['latitude'] = X['latitude'].replace(-2e-08, 0)\n",
        "    \n",
        "    # When columns have zeros and shouldn't, they are like null values.\n",
        "    # So we will replace the zeros with nulls, and impute missing values later.\n",
        "    # Also create a \"missing indicator\" column, because the fact that\n",
        "    # values are missing may be a predictive signal.\n",
        "    cols_with_zeros = ['longitude', 'latitude', 'construction_year', \n",
        "                       'gps_height', 'population']\n",
        "    for col in cols_with_zeros:\n",
        "        X[col] = X[col].replace(0, np.nan)\n",
        "        X[col+'_MISSING'] = X[col].isnull()\n",
        "            \n",
        "    # Drop duplicate columns\n",
        "    duplicates = ['quantity_group', 'payment_type']\n",
        "    X = X.drop(columns=duplicates)\n",
        "    \n",
        "    # Drop recorded_by (never varies) and id (always varies, random)\n",
        "    unusable_variance = ['recorded_by', 'id']\n",
        "    X = X.drop(columns=unusable_variance)\n",
        "    \n",
        "    # Convert date_recorded to datetime\n",
        "    X['date_recorded'] = pd.to_datetime(X['date_recorded'], infer_datetime_format=True)\n",
        "    \n",
        "    # Extract components from date_recorded, then drop the original column\n",
        "    X['year_recorded'] = X['date_recorded'].dt.year\n",
        "    X['month_recorded'] = X['date_recorded'].dt.month\n",
        "    X['day_recorded'] = X['date_recorded'].dt.day\n",
        "    X = X.drop(columns='date_recorded')\n",
        "    \n",
        "    # Engineer feature: how many years from construction_year to date_recorded\n",
        "    X['years'] = X['year_recorded'] - X['construction_year']\n",
        "    X['years_MISSING'] = X['years'].isnull()\n",
        "    \n",
        "    # return the wrangled dataframe\n",
        "    return X\n",
        "\n",
        "train = wrangle(train)\n",
        "val = wrangle(val)\n",
        "test = wrangle(test)"
      ],
      "execution_count": 0,
      "outputs": []
    },
    {
      "cell_type": "code",
      "metadata": {
        "colab_type": "code",
        "id": "m2HppBvZgLVP",
        "colab": {}
      },
      "source": [
        "# The status_group column is the target\n",
        "target = 'status_group'\n",
        "\n",
        "# Get a dataframe with all train columns except the target\n",
        "train_features = train.drop(columns=[target])\n",
        "\n",
        "# Get a list of the numeric features\n",
        "numeric_features = train_features.select_dtypes(include='number').columns.tolist()\n",
        "\n",
        "# Get a series with the cardinality of the nonnumeric features\n",
        "cardinality = train_features.select_dtypes(exclude='number').nunique()\n",
        "\n",
        "# Get a list of all categorical features with cardinality <= 50\n",
        "categorical_features = cardinality[cardinality <= 50].index.tolist()\n",
        "\n",
        "# Combine the lists \n",
        "features = numeric_features + categorical_features"
      ],
      "execution_count": 0,
      "outputs": []
    },
    {
      "cell_type": "code",
      "metadata": {
        "colab_type": "code",
        "id": "aXmK2brXgLVR",
        "outputId": "bb1175cf-16d6-407e-bc20-d316ce456f8c",
        "colab": {
          "base_uri": "https://localhost:8080/",
          "height": 34
        }
      },
      "source": [
        "# Arrange data into X features matrix and y target vector \n",
        "X_train = train[features]\n",
        "y_train = train[target]\n",
        "X_val = val[features]\n",
        "y_val = val[target]\n",
        "X_test = test[features]\n",
        "\n",
        "print(X_train.shape, X_val.shape)"
      ],
      "execution_count": 0,
      "outputs": [
        {
          "output_type": "stream",
          "text": [
            "(47520, 38) (11880, 38)\n"
          ],
          "name": "stdout"
        }
      ]
    },
    {
      "cell_type": "markdown",
      "metadata": {
        "id": "327tVpejSMdm",
        "colab_type": "text"
      },
      "source": [
        "## Follow Along\n",
        "\n",
        "[Scikit-Learn User Guide: Random Forests](https://scikit-learn.org/stable/modules/ensemble.html#random-forests) "
      ]
    },
    {
      "cell_type": "code",
      "metadata": {
        "colab_type": "code",
        "id": "57yyygsdgLVW",
        "outputId": "e21b01cf-2036-4327-a70f-cad3985f88f5",
        "colab": {
          "base_uri": "https://localhost:8080/",
          "height": 68
        }
      },
      "source": [
        "%%time\n",
        "import category_encoders as ce \n",
        "from sklearn.impute import SimpleImputer\n",
        "from sklearn.ensemble import RandomForestClassifier\n",
        "from sklearn.pipeline import make_pipeline\n",
        "\n",
        "pipeline = make_pipeline(\n",
        "    ce.OneHotEncoder(use_cat_names=True),\n",
        "    SimpleImputer(strategy='mean'),\n",
        "    RandomForestClassifier(n_jobs=-1, random_state=42)\n",
        ")\n",
        "\n",
        "# Fit on train and score on val\n",
        "pipeline.fit(X_train, y_train)\n",
        "print('Validation Accuracy:', pipeline.score(X_val, y_val))"
      ],
      "execution_count": 0,
      "outputs": [
        {
          "output_type": "stream",
          "text": [
            "Validation Accuracy: 0.8080808080808081\n",
            "CPU times: user 25.6 s, sys: 443 ms, total: 26 s\n",
            "Wall time: 15.7 s\n"
          ],
          "name": "stdout"
        }
      ]
    },
    {
      "cell_type": "code",
      "metadata": {
        "id": "A5Qp3tbap9Bm",
        "colab_type": "code",
        "outputId": "1830b6c3-1281-48ae-818d-ae7fe65cbdbb",
        "colab": {
          "base_uri": "https://localhost:8080/",
          "height": 51
        }
      },
      "source": [
        "print('X_train shape before encoding', X_train.shape)\n",
        "\n",
        "encoder = pipeline.named_steps['onehotencoder']\n",
        "encoded_df = encoder.transform(X_train)\n",
        "\n",
        "print('X_train shape after encoding', encoded_df.shape)"
      ],
      "execution_count": 0,
      "outputs": [
        {
          "output_type": "stream",
          "text": [
            "X_train shape before encoding (47520, 38)\n",
            "X_train shape after encoding (47520, 182)\n"
          ],
          "name": "stdout"
        }
      ]
    },
    {
      "cell_type": "code",
      "metadata": {
        "id": "tlNwkXEXtZ_V",
        "colab_type": "code",
        "outputId": "a53b6b0f-4fe4-4309-c408-4d33e2b5bb71",
        "colab": {
          "base_uri": "https://localhost:8080/",
          "height": 119
        }
      },
      "source": [
        "X_train.quantity.value_counts()"
      ],
      "execution_count": 0,
      "outputs": [
        {
          "output_type": "execute_result",
          "data": {
            "text/plain": [
              "enough          26567\n",
              "insufficient    12153\n",
              "dry              4921\n",
              "seasonal         3244\n",
              "unknown           635\n",
              "Name: quantity, dtype: int64"
            ]
          },
          "metadata": {
            "tags": []
          },
          "execution_count": 7
        }
      ]
    },
    {
      "cell_type": "code",
      "metadata": {
        "id": "kP2JyWXcqtj8",
        "colab_type": "code",
        "outputId": "0a2cd0b2-d4c6-4709-9a11-3e3c6cb3e02c",
        "colab": {
          "base_uri": "https://localhost:8080/",
          "height": 607
        }
      },
      "source": [
        "%matplotlib inline\n",
        "import matplotlib.pyplot as plt\n",
        "\n",
        "# Get feature importances\n",
        "rf = pipeline.named_steps['randomforestclassifier']\n",
        "importances = pd.Series(rf.feature_importances_, encoded_df.columns)\n",
        "\n",
        "# Plot top n feature importances\n",
        "n = 20\n",
        "plt.figure(figsize=(10, n/2))\n",
        "plt.title(f'Top {n} Features')\n",
        "importances.sort_values()[-n:].plot.barh(color='grey');"
      ],
      "execution_count": 0,
      "outputs": [
        {
          "output_type": "display_data",
          "data": {
            "image/png": "[encoded data removed]",
            "text/plain": [
              "<Figure size 720x720 with 1 Axes>"
            ]
          },
          "metadata": {
            "tags": []
          }
        }
      ]
    },
    {
      "cell_type": "markdown",
      "metadata": {
        "colab_type": "text",
        "id": "yfyk_aa5gLVY"
      },
      "source": [
        "# Do ordinal encoding with high-cardinality categoricals"
      ]
    },
    {
      "cell_type": "markdown",
      "metadata": {
        "id": "CIC3bJcYSMds",
        "colab_type": "text"
      },
      "source": [
        "## Overview\n",
        "\n",
        "http://contrib.scikit-learn.org/categorical-encoding/ordinal.html"
      ]
    },
    {
      "cell_type": "markdown",
      "metadata": {
        "id": "IWLeUQrFSMds",
        "colab_type": "text"
      },
      "source": [
        "## Follow Along"
      ]
    },
    {
      "cell_type": "code",
      "metadata": {
        "colab_type": "code",
        "id": "b8d_WJtcgLVZ",
        "outputId": "63f3c009-6a0a-439b-abd8-880fc7c06800",
        "colab": {
          "base_uri": "https://localhost:8080/",
          "height": 34
        }
      },
      "source": [
        "# Arrange data into X features matrix and y target vector \n",
        "X_train = train.drop(columns=target)\n",
        "y_train = train[target]\n",
        "X_val = val.drop(columns=target)\n",
        "y_val = val[target]\n",
        "X_test = test\n",
        "\n",
        "print(X_train.shape, X_val.shape)"
      ],
      "execution_count": 0,
      "outputs": [
        {
          "output_type": "stream",
          "text": [
            "(47520, 45) (11880, 45)\n"
          ],
          "name": "stdout"
        }
      ]
    },
    {
      "cell_type": "code",
      "metadata": {
        "id": "UTp5Sbg7vrdK",
        "colab_type": "code",
        "outputId": "3f7d395d-14de-4f87-b774-ebb03b473059",
        "colab": {
          "base_uri": "https://localhost:8080/",
          "height": 216
        }
      },
      "source": [
        "X_train.head(2)"
      ],
      "execution_count": 0,
      "outputs": [
        {
          "output_type": "execute_result",
          "data": {
            "text/html": [
              "<div>\n",
              "<style scoped>\n",
              "    .dataframe tbody tr th:only-of-type {\n",
              "        vertical-align: middle;\n",
              "    }\n",
              "\n",
              "    .dataframe tbody tr th {\n",
              "        vertical-align: top;\n",
              "    }\n",
              "\n",
              "    .dataframe thead th {\n",
              "        text-align: right;\n",
              "    }\n",
              "</style>\n",
              "<table border=\"1\" class=\"dataframe\">\n",
              "  <thead>\n",
              "    <tr style=\"text-align: right;\">\n",
              "      <th></th>\n",
              "      <th>amount_tsh</th>\n",
              "      <th>funder</th>\n",
              "      <th>gps_height</th>\n",
              "      <th>installer</th>\n",
              "      <th>longitude</th>\n",
              "      <th>latitude</th>\n",
              "      <th>wpt_name</th>\n",
              "      <th>num_private</th>\n",
              "      <th>basin</th>\n",
              "      <th>subvillage</th>\n",
              "      <th>region</th>\n",
              "      <th>region_code</th>\n",
              "      <th>district_code</th>\n",
              "      <th>lga</th>\n",
              "      <th>ward</th>\n",
              "      <th>population</th>\n",
              "      <th>public_meeting</th>\n",
              "      <th>scheme_management</th>\n",
              "      <th>scheme_name</th>\n",
              "      <th>permit</th>\n",
              "      <th>construction_year</th>\n",
              "      <th>extraction_type</th>\n",
              "      <th>extraction_type_group</th>\n",
              "      <th>extraction_type_class</th>\n",
              "      <th>management</th>\n",
              "      <th>management_group</th>\n",
              "      <th>payment</th>\n",
              "      <th>water_quality</th>\n",
              "      <th>quality_group</th>\n",
              "      <th>quantity</th>\n",
              "      <th>source</th>\n",
              "      <th>source_type</th>\n",
              "      <th>source_class</th>\n",
              "      <th>waterpoint_type</th>\n",
              "      <th>waterpoint_type_group</th>\n",
              "      <th>longitude_MISSING</th>\n",
              "      <th>latitude_MISSING</th>\n",
              "      <th>construction_year_MISSING</th>\n",
              "      <th>gps_height_MISSING</th>\n",
              "      <th>population_MISSING</th>\n",
              "      <th>year_recorded</th>\n",
              "      <th>month_recorded</th>\n",
              "      <th>day_recorded</th>\n",
              "      <th>years</th>\n",
              "      <th>years_MISSING</th>\n",
              "    </tr>\n",
              "  </thead>\n",
              "  <tbody>\n",
              "    <tr>\n",
              "      <th>43360</th>\n",
              "      <td>0.0</td>\n",
              "      <td>NaN</td>\n",
              "      <td>NaN</td>\n",
              "      <td>NaN</td>\n",
              "      <td>33.542898</td>\n",
              "      <td>-9.174777</td>\n",
              "      <td>Kwa Mzee Noa</td>\n",
              "      <td>0</td>\n",
              "      <td>Lake Nyasa</td>\n",
              "      <td>Mpandapanda</td>\n",
              "      <td>Mbeya</td>\n",
              "      <td>12</td>\n",
              "      <td>4</td>\n",
              "      <td>Rungwe</td>\n",
              "      <td>Kiwira</td>\n",
              "      <td>NaN</td>\n",
              "      <td>True</td>\n",
              "      <td>VWC</td>\n",
              "      <td>K</td>\n",
              "      <td>NaN</td>\n",
              "      <td>NaN</td>\n",
              "      <td>gravity</td>\n",
              "      <td>gravity</td>\n",
              "      <td>gravity</td>\n",
              "      <td>vwc</td>\n",
              "      <td>user-group</td>\n",
              "      <td>never pay</td>\n",
              "      <td>soft</td>\n",
              "      <td>good</td>\n",
              "      <td>insufficient</td>\n",
              "      <td>spring</td>\n",
              "      <td>spring</td>\n",
              "      <td>groundwater</td>\n",
              "      <td>communal standpipe</td>\n",
              "      <td>communal standpipe</td>\n",
              "      <td>False</td>\n",
              "      <td>False</td>\n",
              "      <td>True</td>\n",
              "      <td>True</td>\n",
              "      <td>True</td>\n",
              "      <td>2011</td>\n",
              "      <td>7</td>\n",
              "      <td>27</td>\n",
              "      <td>NaN</td>\n",
              "      <td>True</td>\n",
              "    </tr>\n",
              "    <tr>\n",
              "      <th>7263</th>\n",
              "      <td>500.0</td>\n",
              "      <td>Rc Church</td>\n",
              "      <td>2049.0</td>\n",
              "      <td>ACRA</td>\n",
              "      <td>34.665760</td>\n",
              "      <td>-9.308548</td>\n",
              "      <td>Kwa Yasinta Ng'Ande</td>\n",
              "      <td>0</td>\n",
              "      <td>Rufiji</td>\n",
              "      <td>Kitichi</td>\n",
              "      <td>Iringa</td>\n",
              "      <td>11</td>\n",
              "      <td>4</td>\n",
              "      <td>Njombe</td>\n",
              "      <td>Imalinyi</td>\n",
              "      <td>175.0</td>\n",
              "      <td>True</td>\n",
              "      <td>WUA</td>\n",
              "      <td>Tove Mtwango gravity Scheme</td>\n",
              "      <td>True</td>\n",
              "      <td>2008.0</td>\n",
              "      <td>gravity</td>\n",
              "      <td>gravity</td>\n",
              "      <td>gravity</td>\n",
              "      <td>wua</td>\n",
              "      <td>user-group</td>\n",
              "      <td>pay monthly</td>\n",
              "      <td>soft</td>\n",
              "      <td>good</td>\n",
              "      <td>enough</td>\n",
              "      <td>spring</td>\n",
              "      <td>spring</td>\n",
              "      <td>groundwater</td>\n",
              "      <td>communal standpipe</td>\n",
              "      <td>communal standpipe</td>\n",
              "      <td>False</td>\n",
              "      <td>False</td>\n",
              "      <td>False</td>\n",
              "      <td>False</td>\n",
              "      <td>False</td>\n",
              "      <td>2011</td>\n",
              "      <td>3</td>\n",
              "      <td>23</td>\n",
              "      <td>3.0</td>\n",
              "      <td>False</td>\n",
              "    </tr>\n",
              "  </tbody>\n",
              "</table>\n",
              "</div>"
            ],
            "text/plain": [
              "       amount_tsh     funder  gps_height  ... day_recorded  years  years_MISSING\n",
              "43360         0.0        NaN         NaN  ...           27    NaN           True\n",
              "7263        500.0  Rc Church      2049.0  ...           23    3.0          False\n",
              "\n",
              "[2 rows x 45 columns]"
            ]
          },
          "metadata": {
            "tags": []
          },
          "execution_count": 10
        }
      ]
    },
    {
      "cell_type": "code",
      "metadata": {
        "id": "I-sD1yNuvRIv",
        "colab_type": "code",
        "outputId": "da533886-0cfb-45d2-8620-d86e7ee7f691",
        "colab": {
          "base_uri": "https://localhost:8080/",
          "height": 68
        }
      },
      "source": [
        "%%time\n",
        "pipeline = make_pipeline(\n",
        "    ce.OrdinalEncoder(),\n",
        "    SimpleImputer(strategy='mean'),\n",
        "    RandomForestClassifier(n_jobs=-1, random_state=42)\n",
        ")\n",
        "\n",
        "# Fit on train and score on val\n",
        "pipeline.fit(X_train, y_train)\n",
        "print('Validation Accuracy:', pipeline.score(X_val, y_val))"
      ],
      "execution_count": 0,
      "outputs": [
        {
          "output_type": "stream",
          "text": [
            "Validation Accuracy: 0.8103535353535354\n",
            "CPU times: user 19.4 s, sys: 195 ms, total: 19.6 s\n",
            "Wall time: 10.7 s\n"
          ],
          "name": "stdout"
        }
      ]
    },
    {
      "cell_type": "code",
      "metadata": {
        "id": "ZkwK-8q-wc5B",
        "colab_type": "code",
        "outputId": "5570c427-a9ee-4424-c137-ae39a0e9dbba",
        "colab": {
          "base_uri": "https://localhost:8080/",
          "height": 51
        }
      },
      "source": [
        "print('X_train shape before encoding', X_train.shape)\n",
        "\n",
        "encoder = pipeline.named_steps['ordinalencoder']\n",
        "encoded_df = encoder.transform(X_train)\n",
        "\n",
        "print('X_train shape after encoding', encoded_df.shape)"
      ],
      "execution_count": 0,
      "outputs": [
        {
          "output_type": "stream",
          "text": [
            "X_train shape before encoding (47520, 45)\n",
            "X_train shape after encoding (47520, 45)\n"
          ],
          "name": "stdout"
        }
      ]
    },
    {
      "cell_type": "code",
      "metadata": {
        "id": "PN2V2vVcwg6n",
        "colab_type": "code",
        "outputId": "67b27ecc-9f03-4165-887f-a17d457d1def",
        "colab": {
          "base_uri": "https://localhost:8080/",
          "height": 131
        }
      },
      "source": [
        "encoded_df.head(2)"
      ],
      "execution_count": 0,
      "outputs": [
        {
          "output_type": "execute_result",
          "data": {
            "text/html": [
              "<div>\n",
              "<style scoped>\n",
              "    .dataframe tbody tr th:only-of-type {\n",
              "        vertical-align: middle;\n",
              "    }\n",
              "\n",
              "    .dataframe tbody tr th {\n",
              "        vertical-align: top;\n",
              "    }\n",
              "\n",
              "    .dataframe thead th {\n",
              "        text-align: right;\n",
              "    }\n",
              "</style>\n",
              "<table border=\"1\" class=\"dataframe\">\n",
              "  <thead>\n",
              "    <tr style=\"text-align: right;\">\n",
              "      <th></th>\n",
              "      <th>amount_tsh</th>\n",
              "      <th>funder</th>\n",
              "      <th>gps_height</th>\n",
              "      <th>installer</th>\n",
              "      <th>longitude</th>\n",
              "      <th>latitude</th>\n",
              "      <th>wpt_name</th>\n",
              "      <th>num_private</th>\n",
              "      <th>basin</th>\n",
              "      <th>subvillage</th>\n",
              "      <th>region</th>\n",
              "      <th>region_code</th>\n",
              "      <th>district_code</th>\n",
              "      <th>lga</th>\n",
              "      <th>ward</th>\n",
              "      <th>population</th>\n",
              "      <th>public_meeting</th>\n",
              "      <th>scheme_management</th>\n",
              "      <th>scheme_name</th>\n",
              "      <th>permit</th>\n",
              "      <th>construction_year</th>\n",
              "      <th>extraction_type</th>\n",
              "      <th>extraction_type_group</th>\n",
              "      <th>extraction_type_class</th>\n",
              "      <th>management</th>\n",
              "      <th>management_group</th>\n",
              "      <th>payment</th>\n",
              "      <th>water_quality</th>\n",
              "      <th>quality_group</th>\n",
              "      <th>quantity</th>\n",
              "      <th>source</th>\n",
              "      <th>source_type</th>\n",
              "      <th>source_class</th>\n",
              "      <th>waterpoint_type</th>\n",
              "      <th>waterpoint_type_group</th>\n",
              "      <th>longitude_MISSING</th>\n",
              "      <th>latitude_MISSING</th>\n",
              "      <th>construction_year_MISSING</th>\n",
              "      <th>gps_height_MISSING</th>\n",
              "      <th>population_MISSING</th>\n",
              "      <th>year_recorded</th>\n",
              "      <th>month_recorded</th>\n",
              "      <th>day_recorded</th>\n",
              "      <th>years</th>\n",
              "      <th>years_MISSING</th>\n",
              "    </tr>\n",
              "  </thead>\n",
              "  <tbody>\n",
              "    <tr>\n",
              "      <th>43360</th>\n",
              "      <td>0.0</td>\n",
              "      <td>1</td>\n",
              "      <td>NaN</td>\n",
              "      <td>1</td>\n",
              "      <td>33.542898</td>\n",
              "      <td>-9.174777</td>\n",
              "      <td>1</td>\n",
              "      <td>0</td>\n",
              "      <td>1</td>\n",
              "      <td>1</td>\n",
              "      <td>1</td>\n",
              "      <td>12</td>\n",
              "      <td>4</td>\n",
              "      <td>1</td>\n",
              "      <td>1</td>\n",
              "      <td>NaN</td>\n",
              "      <td>1</td>\n",
              "      <td>1</td>\n",
              "      <td>1</td>\n",
              "      <td>1</td>\n",
              "      <td>NaN</td>\n",
              "      <td>1</td>\n",
              "      <td>1</td>\n",
              "      <td>1</td>\n",
              "      <td>1</td>\n",
              "      <td>1</td>\n",
              "      <td>1</td>\n",
              "      <td>1</td>\n",
              "      <td>1</td>\n",
              "      <td>1</td>\n",
              "      <td>1</td>\n",
              "      <td>1</td>\n",
              "      <td>1</td>\n",
              "      <td>1</td>\n",
              "      <td>1</td>\n",
              "      <td>False</td>\n",
              "      <td>False</td>\n",
              "      <td>True</td>\n",
              "      <td>True</td>\n",
              "      <td>True</td>\n",
              "      <td>2011</td>\n",
              "      <td>7</td>\n",
              "      <td>27</td>\n",
              "      <td>NaN</td>\n",
              "      <td>True</td>\n",
              "    </tr>\n",
              "    <tr>\n",
              "      <th>7263</th>\n",
              "      <td>500.0</td>\n",
              "      <td>2</td>\n",
              "      <td>2049.0</td>\n",
              "      <td>2</td>\n",
              "      <td>34.665760</td>\n",
              "      <td>-9.308548</td>\n",
              "      <td>2</td>\n",
              "      <td>0</td>\n",
              "      <td>2</td>\n",
              "      <td>2</td>\n",
              "      <td>2</td>\n",
              "      <td>11</td>\n",
              "      <td>4</td>\n",
              "      <td>2</td>\n",
              "      <td>2</td>\n",
              "      <td>175.0</td>\n",
              "      <td>1</td>\n",
              "      <td>2</td>\n",
              "      <td>2</td>\n",
              "      <td>2</td>\n",
              "      <td>2008.0</td>\n",
              "      <td>1</td>\n",
              "      <td>1</td>\n",
              "      <td>1</td>\n",
              "      <td>2</td>\n",
              "      <td>1</td>\n",
              "      <td>2</td>\n",
              "      <td>1</td>\n",
              "      <td>1</td>\n",
              "      <td>2</td>\n",
              "      <td>1</td>\n",
              "      <td>1</td>\n",
              "      <td>1</td>\n",
              "      <td>1</td>\n",
              "      <td>1</td>\n",
              "      <td>False</td>\n",
              "      <td>False</td>\n",
              "      <td>False</td>\n",
              "      <td>False</td>\n",
              "      <td>False</td>\n",
              "      <td>2011</td>\n",
              "      <td>3</td>\n",
              "      <td>23</td>\n",
              "      <td>3.0</td>\n",
              "      <td>False</td>\n",
              "    </tr>\n",
              "  </tbody>\n",
              "</table>\n",
              "</div>"
            ],
            "text/plain": [
              "       amount_tsh  funder  gps_height  ...  day_recorded  years  years_MISSING\n",
              "43360         0.0       1         NaN  ...            27    NaN           True\n",
              "7263        500.0       2      2049.0  ...            23    3.0          False\n",
              "\n",
              "[2 rows x 45 columns]"
            ]
          },
          "metadata": {
            "tags": []
          },
          "execution_count": 13
        }
      ]
    },
    {
      "cell_type": "code",
      "metadata": {
        "id": "tHr94MxnwtnR",
        "colab_type": "code",
        "outputId": "e087976d-771c-4626-8e54-825d0976ef06",
        "colab": {
          "base_uri": "https://localhost:8080/",
          "height": 607
        }
      },
      "source": [
        "# Get feature importances\n",
        "rf = pipeline.named_steps['randomforestclassifier']\n",
        "importances = pd.Series(rf.feature_importances_, encoded_df.columns)\n",
        "\n",
        "# Plot top n feature importances\n",
        "n = 20\n",
        "plt.figure(figsize=(10, n/2))\n",
        "plt.title(f'Top {n} Features')\n",
        "importances.sort_values()[-n:].plot.barh(color='grey');"
      ],
      "execution_count": 0,
      "outputs": [
        {
          "output_type": "display_data",
          "data": {
            "image/png": "[encoded data removed]",
            "text/plain": [
              "<Figure size 720x720 with 1 Axes>"
            ]
          },
          "metadata": {
            "tags": []
          }
        }
      ]
    },
    {
      "cell_type": "code",
      "metadata": {
        "id": "XpFkbq2OxebK",
        "colab_type": "code",
        "outputId": "d0fa2817-5249-4347-8175-d62cdaec77c5",
        "colab": {
          "base_uri": "https://localhost:8080/",
          "height": 102
        }
      },
      "source": [
        "X_train.wpt_name.describe()"
      ],
      "execution_count": 0,
      "outputs": [
        {
          "output_type": "execute_result",
          "data": {
            "text/plain": [
              "count     47520\n",
              "unique    30661\n",
              "top        none\n",
              "freq       2879\n",
              "Name: wpt_name, dtype: object"
            ]
          },
          "metadata": {
            "tags": []
          },
          "execution_count": 15
        }
      ]
    },
    {
      "cell_type": "code",
      "metadata": {
        "id": "YdWowXXrxk3r",
        "colab_type": "code",
        "outputId": "102dd7aa-5134-4f70-de74-f1d383b90543",
        "colab": {
          "base_uri": "https://localhost:8080/",
          "height": 221
        }
      },
      "source": [
        "X_train.wpt_name.value_counts()"
      ],
      "execution_count": 0,
      "outputs": [
        {
          "output_type": "execute_result",
          "data": {
            "text/plain": [
              "none                         2879\n",
              "Shuleni                      1416\n",
              "Zahanati                      675\n",
              "Msikitini                     424\n",
              "Kanisani                      253\n",
              "                             ... \n",
              "No 6                            1\n",
              "Shule Ya Sekondari Katazi       1\n",
              "Kwa Omar Rafael                 1\n",
              "Kwa Issa Kinanja                1\n",
              "Exoud Ngwale                    1\n",
              "Name: wpt_name, Length: 30661, dtype: int64"
            ]
          },
          "metadata": {
            "tags": []
          },
          "execution_count": 16
        }
      ]
    },
    {
      "cell_type": "code",
      "metadata": {
        "id": "tEGQ7T4kxwa8",
        "colab_type": "code",
        "outputId": "1acfa632-4095-4c05-f086-c7a60ad5def3",
        "colab": {
          "base_uri": "https://localhost:8080/",
          "height": 221
        }
      },
      "source": [
        "encoded_df.wpt_name.value_counts()"
      ],
      "execution_count": 0,
      "outputs": [
        {
          "output_type": "execute_result",
          "data": {
            "text/plain": [
              "27       2879\n",
              "73       1416\n",
              "8         675\n",
              "69        424\n",
              "46        253\n",
              "         ... \n",
              "2162        1\n",
              "115         1\n",
              "14452       1\n",
              "12405       1\n",
              "2047        1\n",
              "Name: wpt_name, Length: 30661, dtype: int64"
            ]
          },
          "metadata": {
            "tags": []
          },
          "execution_count": 17
        }
      ]
    },
    {
      "cell_type": "code",
      "metadata": {
        "id": "Oq1ybSGdx848",
        "colab_type": "code",
        "outputId": "902a63ff-00cf-46fa-afca-4b39cbe418b1",
        "colab": {
          "base_uri": "https://localhost:8080/",
          "height": 119
        }
      },
      "source": [
        "X_train.quantity.value_counts()"
      ],
      "execution_count": 0,
      "outputs": [
        {
          "output_type": "execute_result",
          "data": {
            "text/plain": [
              "enough          26567\n",
              "insufficient    12153\n",
              "dry              4921\n",
              "seasonal         3244\n",
              "unknown           635\n",
              "Name: quantity, dtype: int64"
            ]
          },
          "metadata": {
            "tags": []
          },
          "execution_count": 18
        }
      ]
    },
    {
      "cell_type": "code",
      "metadata": {
        "id": "jG9no0ApyAVf",
        "colab_type": "code",
        "outputId": "6abe6eaf-4549-474d-af89-ff5653f0f96f",
        "colab": {
          "base_uri": "https://localhost:8080/",
          "height": 119
        }
      },
      "source": [
        "encoded_df.quantity.value_counts()"
      ],
      "execution_count": 0,
      "outputs": [
        {
          "output_type": "execute_result",
          "data": {
            "text/plain": [
              "2    26567\n",
              "1    12153\n",
              "3     4921\n",
              "4     3244\n",
              "5      635\n",
              "Name: quantity, dtype: int64"
            ]
          },
          "metadata": {
            "tags": []
          },
          "execution_count": 19
        }
      ]
    },
    {
      "cell_type": "markdown",
      "metadata": {
        "colab_type": "text",
        "id": "xs2UPoVdgLVp"
      },
      "source": [
        "# Understand how categorical encodings affect trees differently compared to linear models"
      ]
    },
    {
      "cell_type": "markdown",
      "metadata": {
        "id": "sHixk2lUSMdx",
        "colab_type": "text"
      },
      "source": [
        "## Follow Along"
      ]
    },
    {
      "cell_type": "markdown",
      "metadata": {
        "colab_type": "text",
        "id": "z8V-A92mgLVp"
      },
      "source": [
        "### Categorical exploration, 1 feature at a time\n",
        "\n",
        "Change `feature`, then re-run these cells!"
      ]
    },
    {
      "cell_type": "code",
      "metadata": {
        "colab_type": "code",
        "id": "G35RAzVdgLVq",
        "colab": {}
      },
      "source": [
        "feature = 'extraction_type_class'"
      ],
      "execution_count": 0,
      "outputs": []
    },
    {
      "cell_type": "code",
      "metadata": {
        "colab_type": "code",
        "id": "OuxHWiH8gLVr",
        "outputId": "0cf3a7cf-4e80-4d47-d838-b1566aba8fb4",
        "colab": {
          "base_uri": "https://localhost:8080/",
          "height": 153
        }
      },
      "source": [
        "X_train[feature].value_counts()"
      ],
      "execution_count": 0,
      "outputs": [
        {
          "output_type": "execute_result",
          "data": {
            "text/plain": [
              "gravity         21448\n",
              "handpump        13184\n",
              "other            5193\n",
              "submersible      4894\n",
              "motorpump        2355\n",
              "rope pump         353\n",
              "wind-powered       93\n",
              "Name: extraction_type_class, dtype: int64"
            ]
          },
          "metadata": {
            "tags": []
          },
          "execution_count": 21
        }
      ]
    },
    {
      "cell_type": "code",
      "metadata": {
        "colab_type": "code",
        "id": "pVxoC4NngLVt",
        "outputId": "d0510f4d-81da-4257-8385-8d2c45940784",
        "colab": {
          "base_uri": "https://localhost:8080/",
          "height": 572
        }
      },
      "source": [
        "import seaborn as sns\n",
        "plt.figure(figsize=(16,9))\n",
        "sns.barplot(\n",
        "    x=train[feature], \n",
        "    y=train['status_group']=='functional', \n",
        "    color='grey'\n",
        ");"
      ],
      "execution_count": 0,
      "outputs": [
        {
          "output_type": "display_data",
          "data": {
            "image/png": "[encoded data removed]",
            "text/plain": [
              "<Figure size 1152x648 with 1 Axes>"
            ]
          },
          "metadata": {
            "tags": []
          }
        }
      ]
    },
    {
      "cell_type": "code",
      "metadata": {
        "colab_type": "code",
        "id": "w99mek14gLVv",
        "outputId": "cb4cd09b-3e90-4a98-8200-939df32f8b92",
        "colab": {
          "base_uri": "https://localhost:8080/",
          "height": 374
        }
      },
      "source": [
        "X_train[feature].head(20)"
      ],
      "execution_count": 0,
      "outputs": [
        {
          "output_type": "execute_result",
          "data": {
            "text/plain": [
              "43360        gravity\n",
              "7263         gravity\n",
              "2486        handpump\n",
              "313            other\n",
              "52726      motorpump\n",
              "8558         gravity\n",
              "2559         gravity\n",
              "54735      motorpump\n",
              "25763       handpump\n",
              "44540    submersible\n",
              "28603          other\n",
              "4372     submersible\n",
              "30666        gravity\n",
              "6431     submersible\n",
              "57420          other\n",
              "1373         gravity\n",
              "2026         gravity\n",
              "58977       handpump\n",
              "41101        gravity\n",
              "10019        gravity\n",
              "Name: extraction_type_class, dtype: object"
            ]
          },
          "metadata": {
            "tags": []
          },
          "execution_count": 23
        }
      ]
    },
    {
      "cell_type": "markdown",
      "metadata": {
        "colab_type": "text",
        "id": "ezzK2IdbgLVx"
      },
      "source": [
        "### [One Hot Encoding](http://contrib.scikit-learn.org/categorical-encoding/onehot.html)\n",
        "\n",
        "> Onehot (or dummy) coding for categorical features, produces one feature per category, each binary.\n",
        "\n",
        "Warning: May run slow, or run out of memory, with high cardinality categoricals!"
      ]
    },
    {
      "cell_type": "code",
      "metadata": {
        "colab_type": "code",
        "id": "HDQZtV6GgLVy",
        "outputId": "a2c15081-f3fd-4e61-88c0-13b0312295b9",
        "colab": {
          "base_uri": "https://localhost:8080/",
          "height": 723
        }
      },
      "source": [
        "encoder = ce.OneHotEncoder(use_cat_names=True)\n",
        "encoded = encoder.fit_transform(X_train[[feature]])\n",
        "print(f'{len(encoded.columns)} columns')\n",
        "encoded.head(20)"
      ],
      "execution_count": 0,
      "outputs": [
        {
          "output_type": "stream",
          "text": [
            "7 columns\n"
          ],
          "name": "stdout"
        },
        {
          "output_type": "execute_result",
          "data": {
            "text/html": [
              "<div>\n",
              "<style scoped>\n",
              "    .dataframe tbody tr th:only-of-type {\n",
              "        vertical-align: middle;\n",
              "    }\n",
              "\n",
              "    .dataframe tbody tr th {\n",
              "        vertical-align: top;\n",
              "    }\n",
              "\n",
              "    .dataframe thead th {\n",
              "        text-align: right;\n",
              "    }\n",
              "</style>\n",
              "<table border=\"1\" class=\"dataframe\">\n",
              "  <thead>\n",
              "    <tr style=\"text-align: right;\">\n",
              "      <th></th>\n",
              "      <th>extraction_type_class_gravity</th>\n",
              "      <th>extraction_type_class_handpump</th>\n",
              "      <th>extraction_type_class_other</th>\n",
              "      <th>extraction_type_class_motorpump</th>\n",
              "      <th>extraction_type_class_submersible</th>\n",
              "      <th>extraction_type_class_rope pump</th>\n",
              "      <th>extraction_type_class_wind-powered</th>\n",
              "    </tr>\n",
              "  </thead>\n",
              "  <tbody>\n",
              "    <tr>\n",
              "      <th>43360</th>\n",
              "      <td>1</td>\n",
              "      <td>0</td>\n",
              "      <td>0</td>\n",
              "      <td>0</td>\n",
              "      <td>0</td>\n",
              "      <td>0</td>\n",
              "      <td>0</td>\n",
              "    </tr>\n",
              "    <tr>\n",
              "      <th>7263</th>\n",
              "      <td>1</td>\n",
              "      <td>0</td>\n",
              "      <td>0</td>\n",
              "      <td>0</td>\n",
              "      <td>0</td>\n",
              "      <td>0</td>\n",
              "      <td>0</td>\n",
              "    </tr>\n",
              "    <tr>\n",
              "      <th>2486</th>\n",
              "      <td>0</td>\n",
              "      <td>1</td>\n",
              "      <td>0</td>\n",
              "      <td>0</td>\n",
              "      <td>0</td>\n",
              "      <td>0</td>\n",
              "      <td>0</td>\n",
              "    </tr>\n",
              "    <tr>\n",
              "      <th>313</th>\n",
              "      <td>0</td>\n",
              "      <td>0</td>\n",
              "      <td>1</td>\n",
              "      <td>0</td>\n",
              "      <td>0</td>\n",
              "      <td>0</td>\n",
              "      <td>0</td>\n",
              "    </tr>\n",
              "    <tr>\n",
              "      <th>52726</th>\n",
              "      <td>0</td>\n",
              "      <td>0</td>\n",
              "      <td>0</td>\n",
              "      <td>1</td>\n",
              "      <td>0</td>\n",
              "      <td>0</td>\n",
              "      <td>0</td>\n",
              "    </tr>\n",
              "    <tr>\n",
              "      <th>8558</th>\n",
              "      <td>1</td>\n",
              "      <td>0</td>\n",
              "      <td>0</td>\n",
              "      <td>0</td>\n",
              "      <td>0</td>\n",
              "      <td>0</td>\n",
              "      <td>0</td>\n",
              "    </tr>\n",
              "    <tr>\n",
              "      <th>2559</th>\n",
              "      <td>1</td>\n",
              "      <td>0</td>\n",
              "      <td>0</td>\n",
              "      <td>0</td>\n",
              "      <td>0</td>\n",
              "      <td>0</td>\n",
              "      <td>0</td>\n",
              "    </tr>\n",
              "    <tr>\n",
              "      <th>54735</th>\n",
              "      <td>0</td>\n",
              "      <td>0</td>\n",
              "      <td>0</td>\n",
              "      <td>1</td>\n",
              "      <td>0</td>\n",
              "      <td>0</td>\n",
              "      <td>0</td>\n",
              "    </tr>\n",
              "    <tr>\n",
              "      <th>25763</th>\n",
              "      <td>0</td>\n",
              "      <td>1</td>\n",
              "      <td>0</td>\n",
              "      <td>0</td>\n",
              "      <td>0</td>\n",
              "      <td>0</td>\n",
              "      <td>0</td>\n",
              "    </tr>\n",
              "    <tr>\n",
              "      <th>44540</th>\n",
              "      <td>0</td>\n",
              "      <td>0</td>\n",
              "      <td>0</td>\n",
              "      <td>0</td>\n",
              "      <td>1</td>\n",
              "      <td>0</td>\n",
              "      <td>0</td>\n",
              "    </tr>\n",
              "    <tr>\n",
              "      <th>28603</th>\n",
              "      <td>0</td>\n",
              "      <td>0</td>\n",
              "      <td>1</td>\n",
              "      <td>0</td>\n",
              "      <td>0</td>\n",
              "      <td>0</td>\n",
              "      <td>0</td>\n",
              "    </tr>\n",
              "    <tr>\n",
              "      <th>4372</th>\n",
              "      <td>0</td>\n",
              "      <td>0</td>\n",
              "      <td>0</td>\n",
              "      <td>0</td>\n",
              "      <td>1</td>\n",
              "      <td>0</td>\n",
              "      <td>0</td>\n",
              "    </tr>\n",
              "    <tr>\n",
              "      <th>30666</th>\n",
              "      <td>1</td>\n",
              "      <td>0</td>\n",
              "      <td>0</td>\n",
              "      <td>0</td>\n",
              "      <td>0</td>\n",
              "      <td>0</td>\n",
              "      <td>0</td>\n",
              "    </tr>\n",
              "    <tr>\n",
              "      <th>6431</th>\n",
              "      <td>0</td>\n",
              "      <td>0</td>\n",
              "      <td>0</td>\n",
              "      <td>0</td>\n",
              "      <td>1</td>\n",
              "      <td>0</td>\n",
              "      <td>0</td>\n",
              "    </tr>\n",
              "    <tr>\n",
              "      <th>57420</th>\n",
              "      <td>0</td>\n",
              "      <td>0</td>\n",
              "      <td>1</td>\n",
              "      <td>0</td>\n",
              "      <td>0</td>\n",
              "      <td>0</td>\n",
              "      <td>0</td>\n",
              "    </tr>\n",
              "    <tr>\n",
              "      <th>1373</th>\n",
              "      <td>1</td>\n",
              "      <td>0</td>\n",
              "      <td>0</td>\n",
              "      <td>0</td>\n",
              "      <td>0</td>\n",
              "      <td>0</td>\n",
              "      <td>0</td>\n",
              "    </tr>\n",
              "    <tr>\n",
              "      <th>2026</th>\n",
              "      <td>1</td>\n",
              "      <td>0</td>\n",
              "      <td>0</td>\n",
              "      <td>0</td>\n",
              "      <td>0</td>\n",
              "      <td>0</td>\n",
              "      <td>0</td>\n",
              "    </tr>\n",
              "    <tr>\n",
              "      <th>58977</th>\n",
              "      <td>0</td>\n",
              "      <td>1</td>\n",
              "      <td>0</td>\n",
              "      <td>0</td>\n",
              "      <td>0</td>\n",
              "      <td>0</td>\n",
              "      <td>0</td>\n",
              "    </tr>\n",
              "    <tr>\n",
              "      <th>41101</th>\n",
              "      <td>1</td>\n",
              "      <td>0</td>\n",
              "      <td>0</td>\n",
              "      <td>0</td>\n",
              "      <td>0</td>\n",
              "      <td>0</td>\n",
              "      <td>0</td>\n",
              "    </tr>\n",
              "    <tr>\n",
              "      <th>10019</th>\n",
              "      <td>1</td>\n",
              "      <td>0</td>\n",
              "      <td>0</td>\n",
              "      <td>0</td>\n",
              "      <td>0</td>\n",
              "      <td>0</td>\n",
              "      <td>0</td>\n",
              "    </tr>\n",
              "  </tbody>\n",
              "</table>\n",
              "</div>"
            ],
            "text/plain": [
              "       extraction_type_class_gravity  ...  extraction_type_class_wind-powered\n",
              "43360                              1  ...                                   0\n",
              "7263                               1  ...                                   0\n",
              "2486                               0  ...                                   0\n",
              "313                                0  ...                                   0\n",
              "52726                              0  ...                                   0\n",
              "8558                               1  ...                                   0\n",
              "2559                               1  ...                                   0\n",
              "54735                              0  ...                                   0\n",
              "25763                              0  ...                                   0\n",
              "44540                              0  ...                                   0\n",
              "28603                              0  ...                                   0\n",
              "4372                               0  ...                                   0\n",
              "30666                              1  ...                                   0\n",
              "6431                               0  ...                                   0\n",
              "57420                              0  ...                                   0\n",
              "1373                               1  ...                                   0\n",
              "2026                               1  ...                                   0\n",
              "58977                              0  ...                                   0\n",
              "41101                              1  ...                                   0\n",
              "10019                              1  ...                                   0\n",
              "\n",
              "[20 rows x 7 columns]"
            ]
          },
          "metadata": {
            "tags": []
          },
          "execution_count": 24
        }
      ]
    },
    {
      "cell_type": "markdown",
      "metadata": {
        "colab_type": "text",
        "id": "1Ql9Qmw3sNJ7"
      },
      "source": [
        "#### One-Hot Encoding, Logistic Regression, Validation Accuracy"
      ]
    },
    {
      "cell_type": "code",
      "metadata": {
        "colab_type": "code",
        "id": "mT4A-oDGpOss",
        "outputId": "2a9176d8-a2e2-44f9-dad7-2c619638da6d",
        "colab": {
          "base_uri": "https://localhost:8080/",
          "height": 34
        }
      },
      "source": [
        "from sklearn.linear_model import LogisticRegressionCV\n",
        "from sklearn.preprocessing import StandardScaler\n",
        "\n",
        "lr = make_pipeline(\n",
        "    ce.OneHotEncoder(use_cat_names=True), \n",
        "    SimpleImputer(), \n",
        "    StandardScaler(), \n",
        "    LogisticRegressionCV(multi_class='auto', solver='lbfgs', cv=5, n_jobs=-1)\n",
        ")\n",
        "\n",
        "lr.fit(X_train[[feature]], y_train)\n",
        "score = lr.score(X_val[[feature]], y_val)\n",
        "print('Logistic Regression, Validation Accuracy', score)"
      ],
      "execution_count": 0,
      "outputs": [
        {
          "output_type": "stream",
          "text": [
            "Logistic Regression, Validation Accuracy 0.6202861952861953\n"
          ],
          "name": "stdout"
        }
      ]
    },
    {
      "cell_type": "markdown",
      "metadata": {
        "colab_type": "text",
        "id": "EbH6wivpsRuV"
      },
      "source": [
        "#### One-Hot Encoding, Decision Tree, Validation Accuracy"
      ]
    },
    {
      "cell_type": "code",
      "metadata": {
        "colab_type": "code",
        "id": "b6KUluFOqIdK",
        "outputId": "a5613d5b-0364-465a-da36-c0419a23f9c1",
        "colab": {
          "base_uri": "https://localhost:8080/",
          "height": 34
        }
      },
      "source": [
        "from sklearn.tree import DecisionTreeClassifier\n",
        "\n",
        "dt = make_pipeline(\n",
        "    ce.OneHotEncoder(use_cat_names=True), \n",
        "    SimpleImputer(), \n",
        "    DecisionTreeClassifier(random_state=42)\n",
        ")\n",
        "\n",
        "dt.fit(X_train[[feature]], y_train)\n",
        "score = dt.score(X_val[[feature]], y_val)\n",
        "print('Decision Tree, Validation Accuracy', score)"
      ],
      "execution_count": 0,
      "outputs": [
        {
          "output_type": "stream",
          "text": [
            "Decision Tree, Validation Accuracy 0.6202861952861953\n"
          ],
          "name": "stdout"
        }
      ]
    },
    {
      "cell_type": "markdown",
      "metadata": {
        "colab_type": "text",
        "id": "8yg11_gTsUu6"
      },
      "source": [
        "#### One-Hot Encoding, Logistic Regression, Model Interpretation"
      ]
    },
    {
      "cell_type": "code",
      "metadata": {
        "colab_type": "code",
        "id": "IxHwXGRornNI",
        "outputId": "ac69fde6-7348-4239-d677-5447efd1d273",
        "colab": {
          "base_uri": "https://localhost:8080/",
          "height": 265
        }
      },
      "source": [
        "model = lr.named_steps['logisticregressioncv']\n",
        "encoder = lr.named_steps['onehotencoder']\n",
        "encoded_columns = encoder.transform(X_val[[feature]]).columns\n",
        "coefficients = pd.Series(model.coef_[0], encoded_columns)\n",
        "coefficients.sort_values().plot.barh(color='grey');"
      ],
      "execution_count": 0,
      "outputs": [
        {
          "output_type": "display_data",
          "data": {
            "image/png": "[encoded data removed]",
            "text/plain": [
              "<Figure size 432x288 with 1 Axes>"
            ]
          },
          "metadata": {
            "tags": []
          }
        }
      ]
    },
    {
      "cell_type": "markdown",
      "metadata": {
        "colab_type": "text",
        "id": "0REZ8HdpsccR"
      },
      "source": [
        "#### One-Hot Encoding, Decision Tree, Model Interpretation"
      ]
    },
    {
      "cell_type": "code",
      "metadata": {
        "colab_type": "code",
        "id": "gV-grmYKpDp9",
        "outputId": "a0f1b7fe-71fd-47f6-dcaf-4edf869e21a0",
        "colab": {
          "base_uri": "https://localhost:8080/",
          "height": 954
        }
      },
      "source": [
        "# Plot tree\n",
        "# https://scikit-learn.org/stable/modules/generated/sklearn.tree.export_graphviz.html\n",
        "import graphviz\n",
        "from sklearn.tree import export_graphviz\n",
        "\n",
        "model = dt.named_steps['decisiontreeclassifier']\n",
        "encoder = dt.named_steps['onehotencoder']\n",
        "encoded_columns = encoder.transform(X_val[[feature]]).columns\n",
        "\n",
        "dot_data = export_graphviz(model, \n",
        "                           out_file=None, \n",
        "                           max_depth=7, \n",
        "                           feature_names=encoded_columns,\n",
        "                           class_names=model.classes_, \n",
        "                           impurity=False, \n",
        "                           filled=True, \n",
        "                           proportion=True, \n",
        "                           rounded=True)   \n",
        "display(graphviz.Source(dot_data))"
      ],
      "execution_count": 0,
      "outputs": [
        {
          "output_type": "display_data",
          "data": {
            "text/plain": [
              "<graphviz.files.Source at 0x7f99bf8bf0f0>"
            ],
            "image/svg+xml": "<?xml version=\"1.0\" encoding=\"UTF-8\" standalone=\"no\"?>\n<!DOCTYPE svg PUBLIC \"-//W3C//DTD SVG 1.1//EN\"\n \"http://www.w3.org/Graphics/SVG/1.1/DTD/svg11.dtd\">\n<!-- Generated by graphviz version 2.40.1 (20161225.0304)\n -->\n<!-- Title: Tree Pages: 1 -->\n<svg width=\"1067pt\" height=\"685pt\"\n viewBox=\"0.00 0.00 1067.00 685.00\" xmlns=\"http://www.w3.org/2000/svg\" xmlns:xlink=\"http://www.w3.org/1999/xlink\">\n<g id=\"graph0\" class=\"graph\" transform=\"scale(1 1) rotate(0) translate(4 681)\">\n<title>Tree</title>\n<polygon fill=\"#ffffff\" stroke=\"transparent\" points=\"-4,4 -4,-681 1063,-681 1063,4 -4,4\"/>\n<!-- 0 -->\n<g id=\"node1\" class=\"node\">\n<title>0</title>\n<path fill=\"#f8decc\" stroke=\"#000000\" d=\"M944.5,-677C944.5,-677 725.5,-677 725.5,-677 719.5,-677 713.5,-671 713.5,-665 713.5,-665 713.5,-621 713.5,-621 713.5,-615 719.5,-609 725.5,-609 725.5,-609 944.5,-609 944.5,-609 950.5,-609 956.5,-615 956.5,-621 956.5,-621 956.5,-665 956.5,-665 956.5,-671 950.5,-677 944.5,-677\"/>\n<text text-anchor=\"middle\" x=\"835\" y=\"-661.8\" font-family=\"Helvetica,sans-Serif\" font-size=\"14.00\" fill=\"#000000\">extraction_type_class_other &lt;= 0.5</text>\n<text text-anchor=\"middle\" x=\"835\" y=\"-646.8\" font-family=\"Helvetica,sans-Serif\" font-size=\"14.00\" fill=\"#000000\">samples = 100.0%</text>\n<text text-anchor=\"middle\" x=\"835\" y=\"-631.8\" font-family=\"Helvetica,sans-Serif\" font-size=\"14.00\" fill=\"#000000\">value = [0.543, 0.073, 0.384]</text>\n<text text-anchor=\"middle\" x=\"835\" y=\"-616.8\" font-family=\"Helvetica,sans-Serif\" font-size=\"14.00\" fill=\"#000000\">class = functional</text>\n</g>\n<!-- 1 -->\n<g id=\"node2\" class=\"node\">\n<title>1</title>\n<path fill=\"#f5ceb2\" stroke=\"#000000\" d=\"M837,-573C837,-573 577,-573 577,-573 571,-573 565,-567 565,-561 565,-561 565,-517 565,-517 565,-511 571,-505 577,-505 577,-505 837,-505 837,-505 843,-505 849,-511 849,-517 849,-517 849,-561 849,-561 849,-567 843,-573 837,-573\"/>\n<text text-anchor=\"middle\" x=\"707\" y=\"-557.8\" font-family=\"Helvetica,sans-Serif\" font-size=\"14.00\" fill=\"#000000\">extraction_type_class_motorpump &lt;= 0.5</text>\n<text text-anchor=\"middle\" x=\"707\" y=\"-542.8\" font-family=\"Helvetica,sans-Serif\" font-size=\"14.00\" fill=\"#000000\">samples = 89.1%</text>\n<text text-anchor=\"middle\" x=\"707\" y=\"-527.8\" font-family=\"Helvetica,sans-Serif\" font-size=\"14.00\" fill=\"#000000\">value = [0.59, 0.078, 0.332]</text>\n<text text-anchor=\"middle\" x=\"707\" y=\"-512.8\" font-family=\"Helvetica,sans-Serif\" font-size=\"14.00\" fill=\"#000000\">class = functional</text>\n</g>\n<!-- 0&#45;&gt;1 -->\n<g id=\"edge1\" class=\"edge\">\n<title>0&#45;&gt;1</title>\n<path fill=\"none\" stroke=\"#000000\" d=\"M793.088,-608.9465C781.485,-599.519 768.7779,-589.1946 756.7741,-579.4415\"/>\n<polygon fill=\"#000000\" stroke=\"#000000\" points=\"758.9744,-576.7196 749.0061,-573.13 754.5602,-582.1524 758.9744,-576.7196\"/>\n<text text-anchor=\"middle\" x=\"751.5786\" y=\"-594.2973\" font-family=\"Helvetica,sans-Serif\" font-size=\"14.00\" fill=\"#000000\">True</text>\n</g>\n<!-- 12 -->\n<g id=\"node13\" class=\"node\">\n<title>12</title>\n<path fill=\"#9d66eb\" stroke=\"#000000\" d=\"M1047,-565.5C1047,-565.5 879,-565.5 879,-565.5 873,-565.5 867,-559.5 867,-553.5 867,-553.5 867,-524.5 867,-524.5 867,-518.5 873,-512.5 879,-512.5 879,-512.5 1047,-512.5 1047,-512.5 1053,-512.5 1059,-518.5 1059,-524.5 1059,-524.5 1059,-553.5 1059,-553.5 1059,-559.5 1053,-565.5 1047,-565.5\"/>\n<text text-anchor=\"middle\" x=\"963\" y=\"-550.3\" font-family=\"Helvetica,sans-Serif\" font-size=\"14.00\" fill=\"#000000\">samples = 10.9%</text>\n<text text-anchor=\"middle\" x=\"963\" y=\"-535.3\" font-family=\"Helvetica,sans-Serif\" font-size=\"14.00\" fill=\"#000000\">value = [0.159, 0.031, 0.81]</text>\n<text text-anchor=\"middle\" x=\"963\" y=\"-520.3\" font-family=\"Helvetica,sans-Serif\" font-size=\"14.00\" fill=\"#000000\">class = non functional</text>\n</g>\n<!-- 0&#45;&gt;12 -->\n<g id=\"edge12\" class=\"edge\">\n<title>0&#45;&gt;12</title>\n<path fill=\"none\" stroke=\"#000000\" d=\"M876.912,-608.9465C891.5533,-597.0504 907.9526,-583.726 922.4785,-571.9237\"/>\n<polygon fill=\"#000000\" stroke=\"#000000\" points=\"924.7786,-574.5645 930.3327,-565.5422 920.3645,-569.1317 924.7786,-574.5645\"/>\n<text text-anchor=\"middle\" x=\"927.7602\" y=\"-586.7095\" font-family=\"Helvetica,sans-Serif\" font-size=\"14.00\" fill=\"#000000\">False</text>\n</g>\n<!-- 2 -->\n<g id=\"node3\" class=\"node\">\n<title>2</title>\n<path fill=\"#f4caac\" stroke=\"#000000\" d=\"M708.5,-469C708.5,-469 443.5,-469 443.5,-469 437.5,-469 431.5,-463 431.5,-457 431.5,-457 431.5,-413 431.5,-413 431.5,-407 437.5,-401 443.5,-401 443.5,-401 708.5,-401 708.5,-401 714.5,-401 720.5,-407 720.5,-413 720.5,-413 720.5,-457 720.5,-457 720.5,-463 714.5,-469 708.5,-469\"/>\n<text text-anchor=\"middle\" x=\"576\" y=\"-453.8\" font-family=\"Helvetica,sans-Serif\" font-size=\"14.00\" fill=\"#000000\">extraction_type_class_submersible &lt;= 0.5</text>\n<text text-anchor=\"middle\" x=\"576\" y=\"-438.8\" font-family=\"Helvetica,sans-Serif\" font-size=\"14.00\" fill=\"#000000\">samples = 84.1%</text>\n<text text-anchor=\"middle\" x=\"576\" y=\"-423.8\" font-family=\"Helvetica,sans-Serif\" font-size=\"14.00\" fill=\"#000000\">value = [0.603, 0.08, 0.318]</text>\n<text text-anchor=\"middle\" x=\"576\" y=\"-408.8\" font-family=\"Helvetica,sans-Serif\" font-size=\"14.00\" fill=\"#000000\">class = functional</text>\n</g>\n<!-- 1&#45;&gt;2 -->\n<g id=\"edge2\" class=\"edge\">\n<title>1&#45;&gt;2</title>\n<path fill=\"none\" stroke=\"#000000\" d=\"M664.1057,-504.9465C652.2307,-495.519 639.2259,-485.1946 626.9407,-475.4415\"/>\n<polygon fill=\"#000000\" stroke=\"#000000\" points=\"628.9989,-472.6066 618.9907,-469.13 624.6464,-478.089 628.9989,-472.6066\"/>\n</g>\n<!-- 11 -->\n<g id=\"node12\" class=\"node\">\n<title>11</title>\n<path fill=\"#d8c1f7\" stroke=\"#000000\" d=\"M927,-461.5C927,-461.5 751,-461.5 751,-461.5 745,-461.5 739,-455.5 739,-449.5 739,-449.5 739,-420.5 739,-420.5 739,-414.5 745,-408.5 751,-408.5 751,-408.5 927,-408.5 927,-408.5 933,-408.5 939,-414.5 939,-420.5 939,-420.5 939,-449.5 939,-449.5 939,-455.5 933,-461.5 927,-461.5\"/>\n<text text-anchor=\"middle\" x=\"839\" y=\"-446.3\" font-family=\"Helvetica,sans-Serif\" font-size=\"14.00\" fill=\"#000000\">samples = 5.0%</text>\n<text text-anchor=\"middle\" x=\"839\" y=\"-431.3\" font-family=\"Helvetica,sans-Serif\" font-size=\"14.00\" fill=\"#000000\">value = [0.381, 0.045, 0.574]</text>\n<text text-anchor=\"middle\" x=\"839\" y=\"-416.3\" font-family=\"Helvetica,sans-Serif\" font-size=\"14.00\" fill=\"#000000\">class = non functional</text>\n</g>\n<!-- 1&#45;&gt;11 -->\n<g id=\"edge11\" class=\"edge\">\n<title>1&#45;&gt;11</title>\n<path fill=\"none\" stroke=\"#000000\" d=\"M750.2217,-504.9465C765.3206,-493.0504 782.2324,-479.726 797.2122,-467.9237\"/>\n<polygon fill=\"#000000\" stroke=\"#000000\" points=\"799.623,-470.4802 805.3119,-461.5422 795.2909,-464.9817 799.623,-470.4802\"/>\n</g>\n<!-- 3 -->\n<g id=\"node4\" class=\"node\">\n<title>3</title>\n<path fill=\"#f4c7a8\" stroke=\"#000000\" d=\"M568.5,-365C568.5,-365 339.5,-365 339.5,-365 333.5,-365 327.5,-359 327.5,-353 327.5,-353 327.5,-309 327.5,-309 327.5,-303 333.5,-297 339.5,-297 339.5,-297 568.5,-297 568.5,-297 574.5,-297 580.5,-303 580.5,-309 580.5,-309 580.5,-353 580.5,-353 580.5,-359 574.5,-365 568.5,-365\"/>\n<text text-anchor=\"middle\" x=\"454\" y=\"-349.8\" font-family=\"Helvetica,sans-Serif\" font-size=\"14.00\" fill=\"#000000\">extraction_type_class_gravity &lt;= 0.5</text>\n<text text-anchor=\"middle\" x=\"454\" y=\"-334.8\" font-family=\"Helvetica,sans-Serif\" font-size=\"14.00\" fill=\"#000000\">samples = 73.8%</text>\n<text text-anchor=\"middle\" x=\"454\" y=\"-319.8\" font-family=\"Helvetica,sans-Serif\" font-size=\"14.00\" fill=\"#000000\">value = [0.611, 0.085, 0.304]</text>\n<text text-anchor=\"middle\" x=\"454\" y=\"-304.8\" font-family=\"Helvetica,sans-Serif\" font-size=\"14.00\" fill=\"#000000\">class = functional</text>\n</g>\n<!-- 2&#45;&gt;3 -->\n<g id=\"edge3\" class=\"edge\">\n<title>2&#45;&gt;3</title>\n<path fill=\"none\" stroke=\"#000000\" d=\"M536.0526,-400.9465C525.0988,-391.6088 513.1127,-381.3911 501.768,-371.7203\"/>\n<polygon fill=\"#000000\" stroke=\"#000000\" points=\"503.9179,-368.9538 494.0371,-365.13 499.3767,-374.2809 503.9179,-368.9538\"/>\n</g>\n<!-- 10 -->\n<g id=\"node11\" class=\"node\">\n<title>10</title>\n<path fill=\"#f9e4d5\" stroke=\"#000000\" d=\"M787,-357.5C787,-357.5 611,-357.5 611,-357.5 605,-357.5 599,-351.5 599,-345.5 599,-345.5 599,-316.5 599,-316.5 599,-310.5 605,-304.5 611,-304.5 611,-304.5 787,-304.5 787,-304.5 793,-304.5 799,-310.5 799,-316.5 799,-316.5 799,-345.5 799,-345.5 799,-351.5 793,-357.5 787,-357.5\"/>\n<text text-anchor=\"middle\" x=\"699\" y=\"-342.3\" font-family=\"Helvetica,sans-Serif\" font-size=\"14.00\" fill=\"#000000\">samples = 10.3%</text>\n<text text-anchor=\"middle\" x=\"699\" y=\"-327.3\" font-family=\"Helvetica,sans-Serif\" font-size=\"14.00\" fill=\"#000000\">value = [0.541, 0.042, 0.416]</text>\n<text text-anchor=\"middle\" x=\"699\" y=\"-312.3\" font-family=\"Helvetica,sans-Serif\" font-size=\"14.00\" fill=\"#000000\">class = functional</text>\n</g>\n<!-- 2&#45;&gt;10 -->\n<g id=\"edge10\" class=\"edge\">\n<title>2&#45;&gt;10</title>\n<path fill=\"none\" stroke=\"#000000\" d=\"M616.2748,-400.9465C630.2139,-389.1606 645.8112,-375.9726 659.6732,-364.2519\"/>\n<polygon fill=\"#000000\" stroke=\"#000000\" points=\"662.2324,-366.6715 667.6088,-357.5422 657.7127,-361.3262 662.2324,-366.6715\"/>\n</g>\n<!-- 4 -->\n<g id=\"node5\" class=\"node\">\n<title>4</title>\n<path fill=\"#f3c5a4\" stroke=\"#000000\" d=\"M458.5,-261C458.5,-261 181.5,-261 181.5,-261 175.5,-261 169.5,-255 169.5,-249 169.5,-249 169.5,-205 169.5,-205 169.5,-199 175.5,-193 181.5,-193 181.5,-193 458.5,-193 458.5,-193 464.5,-193 470.5,-199 470.5,-205 470.5,-205 470.5,-249 470.5,-249 470.5,-255 464.5,-261 458.5,-261\"/>\n<text text-anchor=\"middle\" x=\"320\" y=\"-245.8\" font-family=\"Helvetica,sans-Serif\" font-size=\"14.00\" fill=\"#000000\">extraction_type_class_wind&#45;powered &lt;= 0.5</text>\n<text text-anchor=\"middle\" x=\"320\" y=\"-230.8\" font-family=\"Helvetica,sans-Serif\" font-size=\"14.00\" fill=\"#000000\">samples = 28.7%</text>\n<text text-anchor=\"middle\" x=\"320\" y=\"-215.8\" font-family=\"Helvetica,sans-Serif\" font-size=\"14.00\" fill=\"#000000\">value = [0.629, 0.059, 0.311]</text>\n<text text-anchor=\"middle\" x=\"320\" y=\"-200.8\" font-family=\"Helvetica,sans-Serif\" font-size=\"14.00\" fill=\"#000000\">class = functional</text>\n</g>\n<!-- 3&#45;&gt;4 -->\n<g id=\"edge4\" class=\"edge\">\n<title>3&#45;&gt;4</title>\n<path fill=\"none\" stroke=\"#000000\" d=\"M410.1234,-296.9465C397.9765,-287.519 384.6738,-277.1946 372.1073,-267.4415\"/>\n<polygon fill=\"#000000\" stroke=\"#000000\" points=\"374.021,-264.4963 363.9752,-261.13 369.7291,-270.0262 374.021,-264.4963\"/>\n</g>\n<!-- 9 -->\n<g id=\"node10\" class=\"node\">\n<title>9</title>\n<path fill=\"#f4c9aa\" stroke=\"#000000\" d=\"M677,-253.5C677,-253.5 501,-253.5 501,-253.5 495,-253.5 489,-247.5 489,-241.5 489,-241.5 489,-212.5 489,-212.5 489,-206.5 495,-200.5 501,-200.5 501,-200.5 677,-200.5 677,-200.5 683,-200.5 689,-206.5 689,-212.5 689,-212.5 689,-241.5 689,-241.5 689,-247.5 683,-253.5 677,-253.5\"/>\n<text text-anchor=\"middle\" x=\"589\" y=\"-238.3\" font-family=\"Helvetica,sans-Serif\" font-size=\"14.00\" fill=\"#000000\">samples = 45.1%</text>\n<text text-anchor=\"middle\" x=\"589\" y=\"-223.3\" font-family=\"Helvetica,sans-Serif\" font-size=\"14.00\" fill=\"#000000\">value = [0.599, 0.101, 0.299]</text>\n<text text-anchor=\"middle\" x=\"589\" y=\"-208.3\" font-family=\"Helvetica,sans-Serif\" font-size=\"14.00\" fill=\"#000000\">class = functional</text>\n</g>\n<!-- 3&#45;&gt;9 -->\n<g id=\"edge9\" class=\"edge\">\n<title>3&#45;&gt;9</title>\n<path fill=\"none\" stroke=\"#000000\" d=\"M498.204,-296.9465C513.6461,-285.0504 530.9422,-271.726 546.2625,-259.9237\"/>\n<polygon fill=\"#000000\" stroke=\"#000000\" points=\"548.7603,-262.4176 554.5462,-253.5422 544.4883,-256.8723 548.7603,-262.4176\"/>\n</g>\n<!-- 5 -->\n<g id=\"node6\" class=\"node\">\n<title>5</title>\n<path fill=\"#f3c4a3\" stroke=\"#000000\" d=\"M319,-157C319,-157 63,-157 63,-157 57,-157 51,-151 51,-145 51,-145 51,-101 51,-101 51,-95 57,-89 63,-89 63,-89 319,-89 319,-89 325,-89 331,-95 331,-101 331,-101 331,-145 331,-145 331,-151 325,-157 319,-157\"/>\n<text text-anchor=\"middle\" x=\"191\" y=\"-141.8\" font-family=\"Helvetica,sans-Serif\" font-size=\"14.00\" fill=\"#000000\">extraction_type_class_rope pump &lt;= 0.5</text>\n<text text-anchor=\"middle\" x=\"191\" y=\"-126.8\" font-family=\"Helvetica,sans-Serif\" font-size=\"14.00\" fill=\"#000000\">samples = 28.5%</text>\n<text text-anchor=\"middle\" x=\"191\" y=\"-111.8\" font-family=\"Helvetica,sans-Serif\" font-size=\"14.00\" fill=\"#000000\">value = [0.631, 0.059, 0.31]</text>\n<text text-anchor=\"middle\" x=\"191\" y=\"-96.8\" font-family=\"Helvetica,sans-Serif\" font-size=\"14.00\" fill=\"#000000\">class = functional</text>\n</g>\n<!-- 4&#45;&gt;5 -->\n<g id=\"edge5\" class=\"edge\">\n<title>4&#45;&gt;5</title>\n<path fill=\"none\" stroke=\"#000000\" d=\"M277.7606,-192.9465C266.0669,-183.519 253.2606,-173.1946 241.163,-163.4415\"/>\n<polygon fill=\"#000000\" stroke=\"#000000\" points=\"243.3162,-160.6816 233.3343,-157.13 238.9227,-166.1312 243.3162,-160.6816\"/>\n</g>\n<!-- 8 -->\n<g id=\"node9\" class=\"node\">\n<title>8</title>\n<path fill=\"#f8f3fd\" stroke=\"#000000\" d=\"M537,-149.5C537,-149.5 361,-149.5 361,-149.5 355,-149.5 349,-143.5 349,-137.5 349,-137.5 349,-108.5 349,-108.5 349,-102.5 355,-96.5 361,-96.5 361,-96.5 537,-96.5 537,-96.5 543,-96.5 549,-102.5 549,-108.5 549,-108.5 549,-137.5 549,-137.5 549,-143.5 543,-149.5 537,-149.5\"/>\n<text text-anchor=\"middle\" x=\"449\" y=\"-134.3\" font-family=\"Helvetica,sans-Serif\" font-size=\"14.00\" fill=\"#000000\">samples = 0.2%</text>\n<text text-anchor=\"middle\" x=\"449\" y=\"-119.3\" font-family=\"Helvetica,sans-Serif\" font-size=\"14.00\" fill=\"#000000\">value = [0.452, 0.065, 0.484]</text>\n<text text-anchor=\"middle\" x=\"449\" y=\"-104.3\" font-family=\"Helvetica,sans-Serif\" font-size=\"14.00\" fill=\"#000000\">class = non functional</text>\n</g>\n<!-- 4&#45;&gt;8 -->\n<g id=\"edge8\" class=\"edge\">\n<title>4&#45;&gt;8</title>\n<path fill=\"none\" stroke=\"#000000\" d=\"M362.2394,-192.9465C376.9952,-181.0504 393.5225,-167.726 408.162,-155.9237\"/>\n<polygon fill=\"#000000\" stroke=\"#000000\" points=\"410.4891,-158.5433 416.0775,-149.5422 406.0957,-153.0938 410.4891,-158.5433\"/>\n</g>\n<!-- 6 -->\n<g id=\"node7\" class=\"node\">\n<title>6</title>\n<path fill=\"#f3c5a3\" stroke=\"#000000\" d=\"M164,-53C164,-53 12,-53 12,-53 6,-53 0,-47 0,-41 0,-41 0,-12 0,-12 0,-6 6,0 12,0 12,0 164,0 164,0 170,0 176,-6 176,-12 176,-12 176,-41 176,-41 176,-47 170,-53 164,-53\"/>\n<text text-anchor=\"middle\" x=\"88\" y=\"-37.8\" font-family=\"Helvetica,sans-Serif\" font-size=\"14.00\" fill=\"#000000\">samples = 27.7%</text>\n<text text-anchor=\"middle\" x=\"88\" y=\"-22.8\" font-family=\"Helvetica,sans-Serif\" font-size=\"14.00\" fill=\"#000000\">value = [0.63, 0.06, 0.31]</text>\n<text text-anchor=\"middle\" x=\"88\" y=\"-7.8\" font-family=\"Helvetica,sans-Serif\" font-size=\"14.00\" fill=\"#000000\">class = functional</text>\n</g>\n<!-- 5&#45;&gt;6 -->\n<g id=\"edge6\" class=\"edge\">\n<title>5&#45;&gt;6</title>\n<path fill=\"none\" stroke=\"#000000\" d=\"M154.6861,-88.9777C144.7168,-79.6376 133.9138,-69.5163 123.9643,-60.1947\"/>\n<polygon fill=\"#000000\" stroke=\"#000000\" points=\"126.2408,-57.5314 116.5502,-53.2485 121.4548,-62.6397 126.2408,-57.5314\"/>\n</g>\n<!-- 7 -->\n<g id=\"node8\" class=\"node\">\n<title>7</title>\n<path fill=\"#f2bf9b\" stroke=\"#000000\" d=\"M382,-53C382,-53 206,-53 206,-53 200,-53 194,-47 194,-41 194,-41 194,-12 194,-12 194,-6 200,0 206,0 206,0 382,0 382,0 388,0 394,-6 394,-12 394,-12 394,-41 394,-41 394,-47 388,-53 382,-53\"/>\n<text text-anchor=\"middle\" x=\"294\" y=\"-37.8\" font-family=\"Helvetica,sans-Serif\" font-size=\"14.00\" fill=\"#000000\">samples = 0.7%</text>\n<text text-anchor=\"middle\" x=\"294\" y=\"-22.8\" font-family=\"Helvetica,sans-Serif\" font-size=\"14.00\" fill=\"#000000\">value = [0.657, 0.037, 0.306]</text>\n<text text-anchor=\"middle\" x=\"294\" y=\"-7.8\" font-family=\"Helvetica,sans-Serif\" font-size=\"14.00\" fill=\"#000000\">class = functional</text>\n</g>\n<!-- 5&#45;&gt;7 -->\n<g id=\"edge7\" class=\"edge\">\n<title>5&#45;&gt;7</title>\n<path fill=\"none\" stroke=\"#000000\" d=\"M227.3139,-88.9777C237.2832,-79.6376 248.0862,-69.5163 258.0357,-60.1947\"/>\n<polygon fill=\"#000000\" stroke=\"#000000\" points=\"260.5452,-62.6397 265.4498,-53.2485 255.7592,-57.5314 260.5452,-62.6397\"/>\n</g>\n</g>\n</svg>\n"
          },
          "metadata": {
            "tags": []
          }
        }
      ]
    },
    {
      "cell_type": "markdown",
      "metadata": {
        "colab_type": "text",
        "id": "QUd6gzcZgLVz"
      },
      "source": [
        "### [Ordinal Encoding](http://contrib.scikit-learn.org/categorical-encoding/ordinal.html)\n",
        "\n",
        "> Ordinal encoding uses a single column of integers to represent the classes. An optional mapping dict can be passed in; in this case, we use the knowledge that there is some true order to the classes themselves. Otherwise, the classes are assumed to have no true order and integers are selected at random."
      ]
    },
    {
      "cell_type": "code",
      "metadata": {
        "colab_type": "code",
        "id": "CnBz2RbwgLVz",
        "outputId": "b9fff083-f0ae-4452-a7f9-b21dfd989e0c",
        "colab": {
          "base_uri": "https://localhost:8080/",
          "height": 686
        }
      },
      "source": [
        "encoder = ce.OrdinalEncoder()\n",
        "encoded = encoder.fit_transform(X_train[[feature]])\n",
        "print(f'1 column, {encoded[feature].nunique()} unique values')\n",
        "encoded.head(20)"
      ],
      "execution_count": 0,
      "outputs": [
        {
          "output_type": "stream",
          "text": [
            "1 column, 7 unique values\n"
          ],
          "name": "stdout"
        },
        {
          "output_type": "execute_result",
          "data": {
            "text/html": [
              "<div>\n",
              "<style scoped>\n",
              "    .dataframe tbody tr th:only-of-type {\n",
              "        vertical-align: middle;\n",
              "    }\n",
              "\n",
              "    .dataframe tbody tr th {\n",
              "        vertical-align: top;\n",
              "    }\n",
              "\n",
              "    .dataframe thead th {\n",
              "        text-align: right;\n",
              "    }\n",
              "</style>\n",
              "<table border=\"1\" class=\"dataframe\">\n",
              "  <thead>\n",
              "    <tr style=\"text-align: right;\">\n",
              "      <th></th>\n",
              "      <th>extraction_type_class</th>\n",
              "    </tr>\n",
              "  </thead>\n",
              "  <tbody>\n",
              "    <tr>\n",
              "      <th>43360</th>\n",
              "      <td>1</td>\n",
              "    </tr>\n",
              "    <tr>\n",
              "      <th>7263</th>\n",
              "      <td>1</td>\n",
              "    </tr>\n",
              "    <tr>\n",
              "      <th>2486</th>\n",
              "      <td>2</td>\n",
              "    </tr>\n",
              "    <tr>\n",
              "      <th>313</th>\n",
              "      <td>3</td>\n",
              "    </tr>\n",
              "    <tr>\n",
              "      <th>52726</th>\n",
              "      <td>4</td>\n",
              "    </tr>\n",
              "    <tr>\n",
              "      <th>8558</th>\n",
              "      <td>1</td>\n",
              "    </tr>\n",
              "    <tr>\n",
              "      <th>2559</th>\n",
              "      <td>1</td>\n",
              "    </tr>\n",
              "    <tr>\n",
              "      <th>54735</th>\n",
              "      <td>4</td>\n",
              "    </tr>\n",
              "    <tr>\n",
              "      <th>25763</th>\n",
              "      <td>2</td>\n",
              "    </tr>\n",
              "    <tr>\n",
              "      <th>44540</th>\n",
              "      <td>5</td>\n",
              "    </tr>\n",
              "    <tr>\n",
              "      <th>28603</th>\n",
              "      <td>3</td>\n",
              "    </tr>\n",
              "    <tr>\n",
              "      <th>4372</th>\n",
              "      <td>5</td>\n",
              "    </tr>\n",
              "    <tr>\n",
              "      <th>30666</th>\n",
              "      <td>1</td>\n",
              "    </tr>\n",
              "    <tr>\n",
              "      <th>6431</th>\n",
              "      <td>5</td>\n",
              "    </tr>\n",
              "    <tr>\n",
              "      <th>57420</th>\n",
              "      <td>3</td>\n",
              "    </tr>\n",
              "    <tr>\n",
              "      <th>1373</th>\n",
              "      <td>1</td>\n",
              "    </tr>\n",
              "    <tr>\n",
              "      <th>2026</th>\n",
              "      <td>1</td>\n",
              "    </tr>\n",
              "    <tr>\n",
              "      <th>58977</th>\n",
              "      <td>2</td>\n",
              "    </tr>\n",
              "    <tr>\n",
              "      <th>41101</th>\n",
              "      <td>1</td>\n",
              "    </tr>\n",
              "    <tr>\n",
              "      <th>10019</th>\n",
              "      <td>1</td>\n",
              "    </tr>\n",
              "  </tbody>\n",
              "</table>\n",
              "</div>"
            ],
            "text/plain": [
              "       extraction_type_class\n",
              "43360                      1\n",
              "7263                       1\n",
              "2486                       2\n",
              "313                        3\n",
              "52726                      4\n",
              "8558                       1\n",
              "2559                       1\n",
              "54735                      4\n",
              "25763                      2\n",
              "44540                      5\n",
              "28603                      3\n",
              "4372                       5\n",
              "30666                      1\n",
              "6431                       5\n",
              "57420                      3\n",
              "1373                       1\n",
              "2026                       1\n",
              "58977                      2\n",
              "41101                      1\n",
              "10019                      1"
            ]
          },
          "metadata": {
            "tags": []
          },
          "execution_count": 29
        }
      ]
    },
    {
      "cell_type": "markdown",
      "metadata": {
        "colab_type": "text",
        "id": "Nd-ZWprasqUM"
      },
      "source": [
        "#### Ordinal Encoding, Logistic Regression, Validation Accuracy"
      ]
    },
    {
      "cell_type": "code",
      "metadata": {
        "colab_type": "code",
        "id": "GJ1YpwjvrhfL",
        "outputId": "2cc3d33c-f6ab-4bae-9268-aea4476e663f",
        "colab": {
          "base_uri": "https://localhost:8080/",
          "height": 34
        }
      },
      "source": [
        "lr = make_pipeline(\n",
        "    ce.OrdinalEncoder(), \n",
        "    SimpleImputer(), \n",
        "    StandardScaler(), \n",
        "    LogisticRegressionCV(multi_class='auto', solver='lbfgs', cv=5, n_jobs=-1)\n",
        ")\n",
        "\n",
        "lr.fit(X_train[[feature]], y_train)\n",
        "score = lr.score(X_val[[feature]], y_val)\n",
        "print('Logistic Regression, Validation Accuracy', score)"
      ],
      "execution_count": 0,
      "outputs": [
        {
          "output_type": "stream",
          "text": [
            "Logistic Regression, Validation Accuracy 0.5417508417508418\n"
          ],
          "name": "stdout"
        }
      ]
    },
    {
      "cell_type": "markdown",
      "metadata": {
        "colab_type": "text",
        "id": "9lO_R3SksuHs"
      },
      "source": [
        "#### Ordinal Encoding, Decision Tree, Validation Accuracy"
      ]
    },
    {
      "cell_type": "code",
      "metadata": {
        "colab_type": "code",
        "id": "aOELD_roriVI",
        "outputId": "f2fbd386-cb4e-4822-cfc5-287cd0c2f9d8",
        "colab": {
          "base_uri": "https://localhost:8080/",
          "height": 34
        }
      },
      "source": [
        "dt = make_pipeline(\n",
        "    ce.OrdinalEncoder(), \n",
        "    SimpleImputer(), \n",
        "    DecisionTreeClassifier(random_state=42)\n",
        ")\n",
        "\n",
        "dt.fit(X_train[[feature]], y_train)\n",
        "score = dt.score(X_val[[feature]], y_val)\n",
        "print('Decision Tree, Validation Accuracy', score)"
      ],
      "execution_count": 0,
      "outputs": [
        {
          "output_type": "stream",
          "text": [
            "Decision Tree, Validation Accuracy 0.6202861952861953\n"
          ],
          "name": "stdout"
        }
      ]
    },
    {
      "cell_type": "markdown",
      "metadata": {
        "colab_type": "text",
        "id": "7V2zHjiwswTg"
      },
      "source": [
        "#### Ordinal Encoding, Logistic Regression, Model Interpretation"
      ]
    },
    {
      "cell_type": "code",
      "metadata": {
        "colab_type": "code",
        "id": "S9UPYPois8QR",
        "outputId": "df25143e-6028-480b-e2db-94ca3070c0d6",
        "colab": {
          "base_uri": "https://localhost:8080/",
          "height": 265
        }
      },
      "source": [
        "model = lr.named_steps['logisticregressioncv']\n",
        "encoder = lr.named_steps['ordinalencoder']\n",
        "encoded_columns = encoder.transform(X_val[[feature]]).columns\n",
        "coefficients = pd.Series(model.coef_[0], encoded_columns)\n",
        "coefficients.sort_values().plot.barh(color='grey');"
      ],
      "execution_count": 0,
      "outputs": [
        {
          "output_type": "display_data",
          "data": {
            "image/png": "[encoded data removed]",
            "text/plain": [
              "<Figure size 432x288 with 1 Axes>"
            ]
          },
          "metadata": {
            "tags": []
          }
        }
      ]
    },
    {
      "cell_type": "markdown",
      "metadata": {
        "colab_type": "text",
        "id": "MvmmvE8fsymh"
      },
      "source": [
        "#### Ordinal Encoding, Decision Tree, Model Interpretation"
      ]
    },
    {
      "cell_type": "code",
      "metadata": {
        "colab_type": "code",
        "id": "jCvUu4Oms88b",
        "outputId": "1a25ff20-e118-4631-a8ae-7e8cf5c7e0a4",
        "colab": {
          "base_uri": "https://localhost:8080/",
          "height": 936
        }
      },
      "source": [
        "model = dt.named_steps['decisiontreeclassifier']\n",
        "encoder = dt.named_steps['ordinalencoder']\n",
        "encoded_columns = encoder.transform(X_val[[feature]]).columns\n",
        "\n",
        "dot_data = export_graphviz(model, \n",
        "                           out_file=None, \n",
        "                           max_depth=5, \n",
        "                           feature_names=encoded_columns,\n",
        "                           class_names=model.classes_, \n",
        "                           impurity=True, \n",
        "                           filled=True, \n",
        "                           proportion=True, \n",
        "                           rounded=True)   \n",
        "display(graphviz.Source(dot_data))"
      ],
      "execution_count": 0,
      "outputs": [
        {
          "output_type": "display_data",
          "data": {
            "text/plain": [
              "<graphviz.files.Source at 0x7f99bfcfa400>"
            ],
            "image/svg+xml": "<?xml version=\"1.0\" encoding=\"UTF-8\" standalone=\"no\"?>\n<!DOCTYPE svg PUBLIC \"-//W3C//DTD SVG 1.1//EN\"\n \"http://www.w3.org/Graphics/SVG/1.1/DTD/svg11.dtd\">\n<!-- Generated by graphviz version 2.40.1 (20161225.0304)\n -->\n<!-- Title: Tree Pages: 1 -->\n<svg width=\"1167pt\" height=\"671pt\"\n viewBox=\"0.00 0.00 1167.00 671.00\" xmlns=\"http://www.w3.org/2000/svg\" xmlns:xlink=\"http://www.w3.org/1999/xlink\">\n<g id=\"graph0\" class=\"graph\" transform=\"scale(1 1) rotate(0) translate(4 667)\">\n<title>Tree</title>\n<polygon fill=\"#ffffff\" stroke=\"transparent\" points=\"-4,4 -4,-667 1163,-667 1163,4 -4,4\"/>\n<!-- 0 -->\n<g id=\"node1\" class=\"node\">\n<title>0</title>\n<path fill=\"#f8decc\" stroke=\"#000000\" d=\"M500,-663C500,-663 322,-663 322,-663 316,-663 310,-657 310,-651 310,-651 310,-592 310,-592 310,-586 316,-580 322,-580 322,-580 500,-580 500,-580 506,-580 512,-586 512,-592 512,-592 512,-651 512,-651 512,-657 506,-663 500,-663\"/>\n<text text-anchor=\"middle\" x=\"411\" y=\"-647.8\" font-family=\"Helvetica,sans-Serif\" font-size=\"14.00\" fill=\"#000000\">extraction_type_class &lt;= 2.5</text>\n<text text-anchor=\"middle\" x=\"411\" y=\"-632.8\" font-family=\"Helvetica,sans-Serif\" font-size=\"14.00\" fill=\"#000000\">gini = 0.552</text>\n<text text-anchor=\"middle\" x=\"411\" y=\"-617.8\" font-family=\"Helvetica,sans-Serif\" font-size=\"14.00\" fill=\"#000000\">samples = 100.0%</text>\n<text text-anchor=\"middle\" x=\"411\" y=\"-602.8\" font-family=\"Helvetica,sans-Serif\" font-size=\"14.00\" fill=\"#000000\">value = [0.543, 0.073, 0.384]</text>\n<text text-anchor=\"middle\" x=\"411\" y=\"-587.8\" font-family=\"Helvetica,sans-Serif\" font-size=\"14.00\" fill=\"#000000\">class = functional</text>\n</g>\n<!-- 1 -->\n<g id=\"node2\" class=\"node\">\n<title>1</title>\n<path fill=\"#f4c7a8\" stroke=\"#000000\" d=\"M390,-544C390,-544 212,-544 212,-544 206,-544 200,-538 200,-532 200,-532 200,-473 200,-473 200,-467 206,-461 212,-461 212,-461 390,-461 390,-461 396,-461 402,-467 402,-473 402,-473 402,-532 402,-532 402,-538 396,-544 390,-544\"/>\n<text text-anchor=\"middle\" x=\"301\" y=\"-528.8\" font-family=\"Helvetica,sans-Serif\" font-size=\"14.00\" fill=\"#000000\">extraction_type_class &lt;= 1.5</text>\n<text text-anchor=\"middle\" x=\"301\" y=\"-513.8\" font-family=\"Helvetica,sans-Serif\" font-size=\"14.00\" fill=\"#000000\">gini = 0.527</text>\n<text text-anchor=\"middle\" x=\"301\" y=\"-498.8\" font-family=\"Helvetica,sans-Serif\" font-size=\"14.00\" fill=\"#000000\">samples = 72.9%</text>\n<text text-anchor=\"middle\" x=\"301\" y=\"-483.8\" font-family=\"Helvetica,sans-Serif\" font-size=\"14.00\" fill=\"#000000\">value = [0.611, 0.085, 0.304]</text>\n<text text-anchor=\"middle\" x=\"301\" y=\"-468.8\" font-family=\"Helvetica,sans-Serif\" font-size=\"14.00\" fill=\"#000000\">class = functional</text>\n</g>\n<!-- 0&#45;&gt;1 -->\n<g id=\"edge1\" class=\"edge\">\n<title>0&#45;&gt;1</title>\n<path fill=\"none\" stroke=\"#000000\" d=\"M372.5273,-579.8796C364.1189,-570.7832 355.1424,-561.0722 346.4897,-551.7116\"/>\n<polygon fill=\"#000000\" stroke=\"#000000\" points=\"348.995,-549.2656 339.6369,-544.2981 343.8547,-554.0172 348.995,-549.2656\"/>\n<text text-anchor=\"middle\" x=\"338.6551\" y=\"-565.5788\" font-family=\"Helvetica,sans-Serif\" font-size=\"14.00\" fill=\"#000000\">True</text>\n</g>\n<!-- 4 -->\n<g id=\"node5\" class=\"node\">\n<title>4</title>\n<path fill=\"#d0b4f5\" stroke=\"#000000\" d=\"M610,-544C610,-544 432,-544 432,-544 426,-544 420,-538 420,-532 420,-532 420,-473 420,-473 420,-467 426,-461 432,-461 432,-461 610,-461 610,-461 616,-461 622,-467 622,-473 622,-473 622,-532 622,-532 622,-538 616,-544 610,-544\"/>\n<text text-anchor=\"middle\" x=\"521\" y=\"-528.8\" font-family=\"Helvetica,sans-Serif\" font-size=\"14.00\" fill=\"#000000\">extraction_type_class &lt;= 3.5</text>\n<text text-anchor=\"middle\" x=\"521\" y=\"-513.8\" font-family=\"Helvetica,sans-Serif\" font-size=\"14.00\" fill=\"#000000\">gini = 0.507</text>\n<text text-anchor=\"middle\" x=\"521\" y=\"-498.8\" font-family=\"Helvetica,sans-Serif\" font-size=\"14.00\" fill=\"#000000\">samples = 27.1%</text>\n<text text-anchor=\"middle\" x=\"521\" y=\"-483.8\" font-family=\"Helvetica,sans-Serif\" font-size=\"14.00\" fill=\"#000000\">value = [0.361, 0.038, 0.601]</text>\n<text text-anchor=\"middle\" x=\"521\" y=\"-468.8\" font-family=\"Helvetica,sans-Serif\" font-size=\"14.00\" fill=\"#000000\">class = non functional</text>\n</g>\n<!-- 0&#45;&gt;4 -->\n<g id=\"edge4\" class=\"edge\">\n<title>0&#45;&gt;4</title>\n<path fill=\"none\" stroke=\"#000000\" d=\"M449.4727,-579.8796C457.8811,-570.7832 466.8576,-561.0722 475.5103,-551.7116\"/>\n<polygon fill=\"#000000\" stroke=\"#000000\" points=\"478.1453,-554.0172 482.3631,-544.2981 473.005,-549.2656 478.1453,-554.0172\"/>\n<text text-anchor=\"middle\" x=\"483.3449\" y=\"-565.5788\" font-family=\"Helvetica,sans-Serif\" font-size=\"14.00\" fill=\"#000000\">False</text>\n</g>\n<!-- 2 -->\n<g id=\"node3\" class=\"node\">\n<title>2</title>\n<path fill=\"#f4c9aa\" stroke=\"#000000\" d=\"M188,-417.5C188,-417.5 12,-417.5 12,-417.5 6,-417.5 0,-411.5 0,-405.5 0,-405.5 0,-361.5 0,-361.5 0,-355.5 6,-349.5 12,-349.5 12,-349.5 188,-349.5 188,-349.5 194,-349.5 200,-355.5 200,-361.5 200,-361.5 200,-405.5 200,-405.5 200,-411.5 194,-417.5 188,-417.5\"/>\n<text text-anchor=\"middle\" x=\"100\" y=\"-402.3\" font-family=\"Helvetica,sans-Serif\" font-size=\"14.00\" fill=\"#000000\">gini = 0.541</text>\n<text text-anchor=\"middle\" x=\"100\" y=\"-387.3\" font-family=\"Helvetica,sans-Serif\" font-size=\"14.00\" fill=\"#000000\">samples = 45.1%</text>\n<text text-anchor=\"middle\" x=\"100\" y=\"-372.3\" font-family=\"Helvetica,sans-Serif\" font-size=\"14.00\" fill=\"#000000\">value = [0.599, 0.101, 0.299]</text>\n<text text-anchor=\"middle\" x=\"100\" y=\"-357.3\" font-family=\"Helvetica,sans-Serif\" font-size=\"14.00\" fill=\"#000000\">class = functional</text>\n</g>\n<!-- 1&#45;&gt;2 -->\n<g id=\"edge2\" class=\"edge\">\n<title>1&#45;&gt;2</title>\n<path fill=\"none\" stroke=\"#000000\" d=\"M230.7,-460.8796C209.7989,-448.5053 186.9767,-434.9937 166.3366,-422.7739\"/>\n<polygon fill=\"#000000\" stroke=\"#000000\" points=\"168.0245,-419.7058 157.6364,-417.623 164.4583,-425.7293 168.0245,-419.7058\"/>\n</g>\n<!-- 3 -->\n<g id=\"node4\" class=\"node\">\n<title>3</title>\n<path fill=\"#f3c5a3\" stroke=\"#000000\" d=\"M382,-417.5C382,-417.5 230,-417.5 230,-417.5 224,-417.5 218,-411.5 218,-405.5 218,-405.5 218,-361.5 218,-361.5 218,-355.5 224,-349.5 230,-349.5 230,-349.5 382,-349.5 382,-349.5 388,-349.5 394,-355.5 394,-361.5 394,-361.5 394,-405.5 394,-405.5 394,-411.5 388,-417.5 382,-417.5\"/>\n<text text-anchor=\"middle\" x=\"306\" y=\"-402.3\" font-family=\"Helvetica,sans-Serif\" font-size=\"14.00\" fill=\"#000000\">gini = 0.503</text>\n<text text-anchor=\"middle\" x=\"306\" y=\"-387.3\" font-family=\"Helvetica,sans-Serif\" font-size=\"14.00\" fill=\"#000000\">samples = 27.7%</text>\n<text text-anchor=\"middle\" x=\"306\" y=\"-372.3\" font-family=\"Helvetica,sans-Serif\" font-size=\"14.00\" fill=\"#000000\">value = [0.63, 0.06, 0.31]</text>\n<text text-anchor=\"middle\" x=\"306\" y=\"-357.3\" font-family=\"Helvetica,sans-Serif\" font-size=\"14.00\" fill=\"#000000\">class = functional</text>\n</g>\n<!-- 1&#45;&gt;3 -->\n<g id=\"edge3\" class=\"edge\">\n<title>1&#45;&gt;3</title>\n<path fill=\"none\" stroke=\"#000000\" d=\"M302.7488,-460.8796C303.1969,-450.2134 303.6806,-438.7021 304.1344,-427.9015\"/>\n<polygon fill=\"#000000\" stroke=\"#000000\" points=\"307.6352,-427.9531 304.5582,-417.8149 300.6414,-427.6592 307.6352,-427.9531\"/>\n</g>\n<!-- 5 -->\n<g id=\"node6\" class=\"node\">\n<title>5</title>\n<path fill=\"#9d66eb\" stroke=\"#000000\" d=\"M601,-417.5C601,-417.5 433,-417.5 433,-417.5 427,-417.5 421,-411.5 421,-405.5 421,-405.5 421,-361.5 421,-361.5 421,-355.5 427,-349.5 433,-349.5 433,-349.5 601,-349.5 601,-349.5 607,-349.5 613,-355.5 613,-361.5 613,-361.5 613,-405.5 613,-405.5 613,-411.5 607,-417.5 601,-417.5\"/>\n<text text-anchor=\"middle\" x=\"517\" y=\"-402.3\" font-family=\"Helvetica,sans-Serif\" font-size=\"14.00\" fill=\"#000000\">gini = 0.318</text>\n<text text-anchor=\"middle\" x=\"517\" y=\"-387.3\" font-family=\"Helvetica,sans-Serif\" font-size=\"14.00\" fill=\"#000000\">samples = 10.9%</text>\n<text text-anchor=\"middle\" x=\"517\" y=\"-372.3\" font-family=\"Helvetica,sans-Serif\" font-size=\"14.00\" fill=\"#000000\">value = [0.159, 0.031, 0.81]</text>\n<text text-anchor=\"middle\" x=\"517\" y=\"-357.3\" font-family=\"Helvetica,sans-Serif\" font-size=\"14.00\" fill=\"#000000\">class = non functional</text>\n</g>\n<!-- 4&#45;&gt;5 -->\n<g id=\"edge5\" class=\"edge\">\n<title>4&#45;&gt;5</title>\n<path fill=\"none\" stroke=\"#000000\" d=\"M519.601,-460.8796C519.2425,-450.2134 518.8555,-438.7021 518.4925,-427.9015\"/>\n<polygon fill=\"#000000\" stroke=\"#000000\" points=\"521.9875,-427.6917 518.1534,-417.8149 514.9915,-427.9269 521.9875,-427.6917\"/>\n</g>\n<!-- 6 -->\n<g id=\"node7\" class=\"node\">\n<title>6</title>\n<path fill=\"#fdf7f2\" stroke=\"#000000\" d=\"M821,-425C821,-425 643,-425 643,-425 637,-425 631,-419 631,-413 631,-413 631,-354 631,-354 631,-348 637,-342 643,-342 643,-342 821,-342 821,-342 827,-342 833,-348 833,-354 833,-354 833,-413 833,-413 833,-419 827,-425 821,-425\"/>\n<text text-anchor=\"middle\" x=\"732\" y=\"-409.8\" font-family=\"Helvetica,sans-Serif\" font-size=\"14.00\" fill=\"#000000\">extraction_type_class &lt;= 4.5</text>\n<text text-anchor=\"middle\" x=\"732\" y=\"-394.8\" font-family=\"Helvetica,sans-Serif\" font-size=\"14.00\" fill=\"#000000\">gini = 0.54</text>\n<text text-anchor=\"middle\" x=\"732\" y=\"-379.8\" font-family=\"Helvetica,sans-Serif\" font-size=\"14.00\" fill=\"#000000\">samples = 16.2%</text>\n<text text-anchor=\"middle\" x=\"732\" y=\"-364.8\" font-family=\"Helvetica,sans-Serif\" font-size=\"14.00\" fill=\"#000000\">value = [0.497, 0.043, 0.46]</text>\n<text text-anchor=\"middle\" x=\"732\" y=\"-349.8\" font-family=\"Helvetica,sans-Serif\" font-size=\"14.00\" fill=\"#000000\">class = functional</text>\n</g>\n<!-- 4&#45;&gt;6 -->\n<g id=\"edge6\" class=\"edge\">\n<title>4&#45;&gt;6</title>\n<path fill=\"none\" stroke=\"#000000\" d=\"M594.7976,-460.8796C612.4658,-450.915 631.4418,-440.2129 649.4763,-430.0418\"/>\n<polygon fill=\"#000000\" stroke=\"#000000\" points=\"651.2532,-433.058 658.2441,-425.0969 647.8145,-426.9608 651.2532,-433.058\"/>\n</g>\n<!-- 7 -->\n<g id=\"node8\" class=\"node\">\n<title>7</title>\n<path fill=\"#d8c1f7\" stroke=\"#000000\" d=\"M710,-298.5C710,-298.5 534,-298.5 534,-298.5 528,-298.5 522,-292.5 522,-286.5 522,-286.5 522,-242.5 522,-242.5 522,-236.5 528,-230.5 534,-230.5 534,-230.5 710,-230.5 710,-230.5 716,-230.5 722,-236.5 722,-242.5 722,-242.5 722,-286.5 722,-286.5 722,-292.5 716,-298.5 710,-298.5\"/>\n<text text-anchor=\"middle\" x=\"622\" y=\"-283.3\" font-family=\"Helvetica,sans-Serif\" font-size=\"14.00\" fill=\"#000000\">gini = 0.523</text>\n<text text-anchor=\"middle\" x=\"622\" y=\"-268.3\" font-family=\"Helvetica,sans-Serif\" font-size=\"14.00\" fill=\"#000000\">samples = 5.0%</text>\n<text text-anchor=\"middle\" x=\"622\" y=\"-253.3\" font-family=\"Helvetica,sans-Serif\" font-size=\"14.00\" fill=\"#000000\">value = [0.381, 0.045, 0.574]</text>\n<text text-anchor=\"middle\" x=\"622\" y=\"-238.3\" font-family=\"Helvetica,sans-Serif\" font-size=\"14.00\" fill=\"#000000\">class = non functional</text>\n</g>\n<!-- 6&#45;&gt;7 -->\n<g id=\"edge7\" class=\"edge\">\n<title>6&#45;&gt;7</title>\n<path fill=\"none\" stroke=\"#000000\" d=\"M693.5273,-341.8796C682.8547,-330.3337 671.2667,-317.7976 660.5875,-306.2446\"/>\n<polygon fill=\"#000000\" stroke=\"#000000\" points=\"663.0778,-303.7825 653.7197,-298.8149 657.9375,-308.534 663.0778,-303.7825\"/>\n</g>\n<!-- 8 -->\n<g id=\"node9\" class=\"node\">\n<title>8</title>\n<path fill=\"#f9e2d1\" stroke=\"#000000\" d=\"M930,-306C930,-306 752,-306 752,-306 746,-306 740,-300 740,-294 740,-294 740,-235 740,-235 740,-229 746,-223 752,-223 752,-223 930,-223 930,-223 936,-223 942,-229 942,-235 942,-235 942,-294 942,-294 942,-300 936,-306 930,-306\"/>\n<text text-anchor=\"middle\" x=\"841\" y=\"-290.8\" font-family=\"Helvetica,sans-Serif\" font-size=\"14.00\" fill=\"#000000\">extraction_type_class &lt;= 5.5</text>\n<text text-anchor=\"middle\" x=\"841\" y=\"-275.8\" font-family=\"Helvetica,sans-Serif\" font-size=\"14.00\" fill=\"#000000\">gini = 0.53</text>\n<text text-anchor=\"middle\" x=\"841\" y=\"-260.8\" font-family=\"Helvetica,sans-Serif\" font-size=\"14.00\" fill=\"#000000\">samples = 11.2%</text>\n<text text-anchor=\"middle\" x=\"841\" y=\"-245.8\" font-family=\"Helvetica,sans-Serif\" font-size=\"14.00\" fill=\"#000000\">value = [0.548, 0.042, 0.41]</text>\n<text text-anchor=\"middle\" x=\"841\" y=\"-230.8\" font-family=\"Helvetica,sans-Serif\" font-size=\"14.00\" fill=\"#000000\">class = functional</text>\n</g>\n<!-- 6&#45;&gt;8 -->\n<g id=\"edge8\" class=\"edge\">\n<title>6&#45;&gt;8</title>\n<path fill=\"none\" stroke=\"#000000\" d=\"M770.1229,-341.8796C778.4549,-332.7832 787.3498,-323.0722 795.9239,-313.7116\"/>\n<polygon fill=\"#000000\" stroke=\"#000000\" points=\"798.5408,-316.0363 802.7144,-306.2981 793.3789,-311.3081 798.5408,-316.0363\"/>\n</g>\n<!-- 9 -->\n<g id=\"node10\" class=\"node\">\n<title>9</title>\n<path fill=\"#f9e4d5\" stroke=\"#000000\" d=\"M819,-179.5C819,-179.5 643,-179.5 643,-179.5 637,-179.5 631,-173.5 631,-167.5 631,-167.5 631,-123.5 631,-123.5 631,-117.5 637,-111.5 643,-111.5 643,-111.5 819,-111.5 819,-111.5 825,-111.5 831,-117.5 831,-123.5 831,-123.5 831,-167.5 831,-167.5 831,-173.5 825,-179.5 819,-179.5\"/>\n<text text-anchor=\"middle\" x=\"731\" y=\"-164.3\" font-family=\"Helvetica,sans-Serif\" font-size=\"14.00\" fill=\"#000000\">gini = 0.532</text>\n<text text-anchor=\"middle\" x=\"731\" y=\"-149.3\" font-family=\"Helvetica,sans-Serif\" font-size=\"14.00\" fill=\"#000000\">samples = 10.3%</text>\n<text text-anchor=\"middle\" x=\"731\" y=\"-134.3\" font-family=\"Helvetica,sans-Serif\" font-size=\"14.00\" fill=\"#000000\">value = [0.541, 0.042, 0.416]</text>\n<text text-anchor=\"middle\" x=\"731\" y=\"-119.3\" font-family=\"Helvetica,sans-Serif\" font-size=\"14.00\" fill=\"#000000\">class = functional</text>\n</g>\n<!-- 8&#45;&gt;9 -->\n<g id=\"edge9\" class=\"edge\">\n<title>8&#45;&gt;9</title>\n<path fill=\"none\" stroke=\"#000000\" d=\"M802.5273,-222.8796C791.8547,-211.3337 780.2667,-198.7976 769.5875,-187.2446\"/>\n<polygon fill=\"#000000\" stroke=\"#000000\" points=\"772.0778,-184.7825 762.7197,-179.8149 766.9375,-189.534 772.0778,-184.7825\"/>\n</g>\n<!-- 10 -->\n<g id=\"node11\" class=\"node\">\n<title>10</title>\n<path fill=\"#f4cbad\" stroke=\"#000000\" d=\"M1039,-187C1039,-187 861,-187 861,-187 855,-187 849,-181 849,-175 849,-175 849,-116 849,-116 849,-110 855,-104 861,-104 861,-104 1039,-104 1039,-104 1045,-104 1051,-110 1051,-116 1051,-116 1051,-175 1051,-175 1051,-181 1045,-187 1039,-187\"/>\n<text text-anchor=\"middle\" x=\"950\" y=\"-171.8\" font-family=\"Helvetica,sans-Serif\" font-size=\"14.00\" fill=\"#000000\">extraction_type_class &lt;= 6.5</text>\n<text text-anchor=\"middle\" x=\"950\" y=\"-156.8\" font-family=\"Helvetica,sans-Serif\" font-size=\"14.00\" fill=\"#000000\">gini = 0.503</text>\n<text text-anchor=\"middle\" x=\"950\" y=\"-141.8\" font-family=\"Helvetica,sans-Serif\" font-size=\"14.00\" fill=\"#000000\">samples = 0.9%</text>\n<text text-anchor=\"middle\" x=\"950\" y=\"-126.8\" font-family=\"Helvetica,sans-Serif\" font-size=\"14.00\" fill=\"#000000\">value = [0.614, 0.043, 0.343]</text>\n<text text-anchor=\"middle\" x=\"950\" y=\"-111.8\" font-family=\"Helvetica,sans-Serif\" font-size=\"14.00\" fill=\"#000000\">class = functional</text>\n</g>\n<!-- 8&#45;&gt;10 -->\n<g id=\"edge10\" class=\"edge\">\n<title>8&#45;&gt;10</title>\n<path fill=\"none\" stroke=\"#000000\" d=\"M879.1229,-222.8796C887.4549,-213.7832 896.3498,-204.0722 904.9239,-194.7116\"/>\n<polygon fill=\"#000000\" stroke=\"#000000\" points=\"907.5408,-197.0363 911.7144,-187.2981 902.3789,-192.3081 907.5408,-197.0363\"/>\n</g>\n<!-- 11 -->\n<g id=\"node12\" class=\"node\">\n<title>11</title>\n<path fill=\"#f2bf9b\" stroke=\"#000000\" d=\"M929,-68C929,-68 753,-68 753,-68 747,-68 741,-62 741,-56 741,-56 741,-12 741,-12 741,-6 747,0 753,0 753,0 929,0 929,0 935,0 941,-6 941,-12 941,-12 941,-56 941,-56 941,-62 935,-68 929,-68\"/>\n<text text-anchor=\"middle\" x=\"841\" y=\"-52.8\" font-family=\"Helvetica,sans-Serif\" font-size=\"14.00\" fill=\"#000000\">gini = 0.473</text>\n<text text-anchor=\"middle\" x=\"841\" y=\"-37.8\" font-family=\"Helvetica,sans-Serif\" font-size=\"14.00\" fill=\"#000000\">samples = 0.7%</text>\n<text text-anchor=\"middle\" x=\"841\" y=\"-22.8\" font-family=\"Helvetica,sans-Serif\" font-size=\"14.00\" fill=\"#000000\">value = [0.657, 0.037, 0.306]</text>\n<text text-anchor=\"middle\" x=\"841\" y=\"-7.8\" font-family=\"Helvetica,sans-Serif\" font-size=\"14.00\" fill=\"#000000\">class = functional</text>\n</g>\n<!-- 10&#45;&gt;11 -->\n<g id=\"edge11\" class=\"edge\">\n<title>10&#45;&gt;11</title>\n<path fill=\"none\" stroke=\"#000000\" d=\"M909.4124,-103.9815C900.338,-94.6989 890.7121,-84.8522 881.6357,-75.5677\"/>\n<polygon fill=\"#000000\" stroke=\"#000000\" points=\"883.9887,-72.9678 874.4954,-68.2637 878.9831,-77.8611 883.9887,-72.9678\"/>\n</g>\n<!-- 12 -->\n<g id=\"node13\" class=\"node\">\n<title>12</title>\n<path fill=\"#f8f3fd\" stroke=\"#000000\" d=\"M1147,-68C1147,-68 971,-68 971,-68 965,-68 959,-62 959,-56 959,-56 959,-12 959,-12 959,-6 965,0 971,0 971,0 1147,0 1147,0 1153,0 1159,-6 1159,-12 1159,-12 1159,-56 1159,-56 1159,-62 1153,-68 1147,-68\"/>\n<text text-anchor=\"middle\" x=\"1059\" y=\"-52.8\" font-family=\"Helvetica,sans-Serif\" font-size=\"14.00\" fill=\"#000000\">gini = 0.558</text>\n<text text-anchor=\"middle\" x=\"1059\" y=\"-37.8\" font-family=\"Helvetica,sans-Serif\" font-size=\"14.00\" fill=\"#000000\">samples = 0.2%</text>\n<text text-anchor=\"middle\" x=\"1059\" y=\"-22.8\" font-family=\"Helvetica,sans-Serif\" font-size=\"14.00\" fill=\"#000000\">value = [0.452, 0.065, 0.484]</text>\n<text text-anchor=\"middle\" x=\"1059\" y=\"-7.8\" font-family=\"Helvetica,sans-Serif\" font-size=\"14.00\" fill=\"#000000\">class = non functional</text>\n</g>\n<!-- 10&#45;&gt;12 -->\n<g id=\"edge12\" class=\"edge\">\n<title>10&#45;&gt;12</title>\n<path fill=\"none\" stroke=\"#000000\" d=\"M990.5876,-103.9815C999.662,-94.6989 1009.2879,-84.8522 1018.3643,-75.5677\"/>\n<polygon fill=\"#000000\" stroke=\"#000000\" points=\"1021.0169,-77.8611 1025.5046,-68.2637 1016.0113,-72.9678 1021.0169,-77.8611\"/>\n</g>\n</g>\n</svg>\n"
          },
          "metadata": {
            "tags": []
          }
        }
      ]
    },
    {
      "cell_type": "markdown",
      "metadata": {
        "colab_type": "text",
        "id": "P4EJi2GvgLVa"
      },
      "source": [
        "# Understand how tree ensembles reduce overfitting compared to a single decision tree with unlimited depth"
      ]
    },
    {
      "cell_type": "markdown",
      "metadata": {
        "id": "BUsua5s1SMej",
        "colab_type": "text"
      },
      "source": [
        "## Overview"
      ]
    },
    {
      "cell_type": "markdown",
      "metadata": {
        "colab_type": "text",
        "id": "0nNABF3HgLVg"
      },
      "source": [
        "### What's \"random\" about random forests?\n",
        "1. Each tree trains on a random bootstrap sample of the data. (In scikit-learn, for `RandomForestRegressor` and `RandomForestClassifier`, the `bootstrap` parameter's default is `True`.) This type of ensembling is called Bagging. (Bootstrap AGGregatING.)\n",
        "2. Each split considers a random subset of the features. (In scikit-learn, when the `max_features` parameter is not `None`.) \n",
        "\n",
        "For extra randomness, you can try [\"extremely randomized trees\"](https://scikit-learn.org/stable/modules/ensemble.html#extremely-randomized-trees)!\n",
        "\n",
        ">In extremely randomized trees (see [ExtraTreesClassifier](https://scikit-learn.org/stable/modules/generated/sklearn.ensemble.ExtraTreesClassifier.html) and [ExtraTreesRegressor](https://scikit-learn.org/stable/modules/generated/sklearn.ensemble.ExtraTreesRegressor.html) classes), randomness goes one step further in the way splits are computed. As in random forests, a random subset of candidate features is used, but instead of looking for the most discriminative thresholds, thresholds are drawn at random for each candidate feature and the best of these randomly-generated thresholds is picked as the splitting rule. This usually allows to reduce the variance of the model a bit more, at the expense of a slightly greater increase in bias"
      ]
    },
    {
      "cell_type": "markdown",
      "metadata": {
        "id": "ePlbOHyCSMek",
        "colab_type": "text"
      },
      "source": [
        "## Follow Along"
      ]
    },
    {
      "cell_type": "markdown",
      "metadata": {
        "colab_type": "text",
        "id": "pUYP619CgLVb"
      },
      "source": [
        "### Example: [predicting golf putts](https://statmodeling.stat.columbia.edu/2008/12/04/the_golf_puttin/)\n",
        "(1 feature, non-linear, regression)"
      ]
    },
    {
      "cell_type": "code",
      "metadata": {
        "colab_type": "code",
        "id": "b4640ukxgLVc",
        "colab": {}
      },
      "source": [
        "putts = pd.DataFrame(\n",
        "    columns=['distance', 'tries', 'successes'], \n",
        "    data = [[2, 1443, 1346],\n",
        "            [3, 694, 577],\n",
        "            [4, 455, 337],\n",
        "            [5, 353, 208],\n",
        "            [6, 272, 149],\n",
        "            [7, 256, 136],\n",
        "            [8, 240, 111],\n",
        "            [9, 217, 69],\n",
        "            [10, 200, 67],\n",
        "            [11, 237, 75],\n",
        "            [12, 202, 52],\n",
        "            [13, 192, 46],\n",
        "            [14, 174, 54],\n",
        "            [15, 167, 28],\n",
        "            [16, 201, 27],\n",
        "            [17, 195, 31],\n",
        "            [18, 191, 33],\n",
        "            [19, 147, 20],\n",
        "            [20, 152, 24]]\n",
        ")\n",
        "\n",
        "putts['rate of success'] = putts['successes'] / putts['tries']\n",
        "putts_X = putts[['distance']]\n",
        "putts_y = putts['rate of success']"
      ],
      "execution_count": 0,
      "outputs": []
    },
    {
      "cell_type": "code",
      "metadata": {
        "colab_type": "code",
        "id": "T0IpCcKggLVd",
        "outputId": "9b7699c7-1fa9-4f8f-9fbc-6816e16190c1",
        "colab": {
          "base_uri": "https://localhost:8080/",
          "height": 637,
          "referenced_widgets": [
            "ac3377426de540909a7746b165a8cf8c",
            "20ac7f9102aa4f66bfb8d3fd06df82b2",
            "a13032f7934c41069d3b365b2754c1f3",
            "d569dcfae6494c63ba06685eb68a0075",
            "93be73d4a196409296cfac258462e93d",
            "d85d839691cc42d8aa1a3e1b32d8acff",
            "5f7b00131ade4adaaa1667f8450d36b6",
            "1d586aea5b654db49ba52771498d976e",
            "50be0abab5c84e7bb69c2e406f3ed991"
          ]
        }
      },
      "source": [
        "%matplotlib inline\n",
        "import matplotlib.pyplot as plt\n",
        "from ipywidgets import interact\n",
        "from sklearn.ensemble import RandomForestRegressor\n",
        "from sklearn.tree import DecisionTreeRegressor\n",
        "\n",
        "def putt_trees(max_depth=1, n_estimators=1):\n",
        "    models = [DecisionTreeRegressor(max_depth=max_depth), \n",
        "              RandomForestRegressor(max_depth=max_depth, n_estimators=n_estimators)]\n",
        "    \n",
        "    for model in models:\n",
        "        name = model.__class__.__name__\n",
        "        model.fit(putts_X, putts_y)\n",
        "        ax = putts.plot('distance', 'rate of success', kind='scatter', title=name)\n",
        "        ax.step(putts_X, model.predict(putts_X), where='mid')\n",
        "        plt.show()\n",
        "        \n",
        "interact(putt_trees, max_depth=(1,6,1), n_estimators=(10,40,10));"
      ],
      "execution_count": 0,
      "outputs": [
        {
          "output_type": "display_data",
          "data": {
            "application/vnd.jupyter.widget-view+json": {
              "model_id": "ac3377426de540909a7746b165a8cf8c",
              "version_minor": 0,
              "version_major": 2
            },
            "text/plain": [
              "interactive(children=(IntSlider(value=1, description='max_depth', max=6, min=1), IntSlider(value=10, descripti…"
            ]
          },
          "metadata": {
            "tags": []
          }
        }
      ]
    },
    {
      "cell_type": "markdown",
      "metadata": {
        "colab_type": "text",
        "id": "_KgZK9_9gLVh"
      },
      "source": [
        "### Bagging demo, with golf putts data\n",
        "https://pandas.pydata.org/pandas-docs/stable/reference/api/pandas.DataFrame.sample.html"
      ]
    },
    {
      "cell_type": "code",
      "metadata": {
        "colab_type": "code",
        "id": "vA9mrSTNgLVi",
        "scrolled": false,
        "outputId": "2295d96e-eefa-447d-b862-97f067d7e4b5",
        "colab": {
          "base_uri": "https://localhost:8080/",
          "height": 915,
          "referenced_widgets": [
            "7f76ddf1784247f4bc51e7df5afbd7a0",
            "48b544cf2f734c24ac758c1b698b3bcf",
            "32e8719e48f64737959459524916bd6c",
            "f573e662e4d345c48b43ed5ae600eaf7",
            "41dfdcadf04c441591559674c3945286",
            "e59cc857a2824045a8484fe8d3786683",
            "39c090fb181f4cbab1d2a238d2523f62",
            "465853d6e2884995966812dc013171ac",
            "3e4717ddf25e41feb128a106c5aaa8fb"
          ]
        }
      },
      "source": [
        "# Do-it-yourself Bagging Ensemble of Decision Trees (like a Random Forest)\n",
        "def diy_bagging(max_depth=1, n_estimators=1):\n",
        "    y_preds = []\n",
        "    for i in range(n_estimators):\n",
        "        title = f'Tree {i+1}'\n",
        "        bootstrap_sample = putts.sample(n=len(putts), replace=True).sort_values(by='distance')\n",
        "        bootstrap_X = bootstrap_sample[['distance']]\n",
        "        bootstrap_y = bootstrap_sample['rate of success']\n",
        "        tree = DecisionTreeRegressor(max_depth=max_depth)\n",
        "        tree.fit(bootstrap_X, bootstrap_y)\n",
        "        y_pred = tree.predict(bootstrap_X)\n",
        "        y_preds.append(y_pred)\n",
        "        ax = bootstrap_sample.plot('distance', 'rate of success', kind='scatter', title=title)\n",
        "        ax.step(bootstrap_X, y_pred, where='mid')\n",
        "        plt.show()\n",
        "        \n",
        "    ensembled = np.vstack(y_preds).mean(axis=0)\n",
        "    title = f'Ensemble of {n_estimators} trees, with max_depth={max_depth}'\n",
        "    ax = putts.plot('distance', 'rate of success', kind='scatter', title=title)\n",
        "    ax.step(putts_X, ensembled, where='mid')\n",
        "    plt.show()\n",
        "    \n",
        "interact(diy_bagging, max_depth=(1,6,1), n_estimators=(2,5,1));"
      ],
      "execution_count": 0,
      "outputs": [
        {
          "output_type": "display_data",
          "data": {
            "application/vnd.jupyter.widget-view+json": {
              "model_id": "7f76ddf1784247f4bc51e7df5afbd7a0",
              "version_minor": 0,
              "version_major": 2
            },
            "text/plain": [
              "interactive(children=(IntSlider(value=1, description='max_depth', max=6, min=1), IntSlider(value=2, descriptio…"
            ]
          },
          "metadata": {
            "tags": []
          }
        }
      ]
    },
    {
      "cell_type": "markdown",
      "metadata": {
        "colab_type": "text",
        "id": "rq4Z_wQ_gLVj"
      },
      "source": [
        "### Go back to Tanzania Waterpumps ..."
      ]
    },
    {
      "cell_type": "markdown",
      "metadata": {
        "colab_type": "text",
        "id": "FoSE9iT6YXQz"
      },
      "source": [
        "#### Helper function to visualize predicted probabilities\n",
        "\n"
      ]
    },
    {
      "cell_type": "code",
      "metadata": {
        "colab_type": "code",
        "id": "HzIAjGpJgLVj",
        "colab": {}
      },
      "source": [
        "import itertools\n",
        "import seaborn as sns\n",
        "\n",
        "def pred_heatmap(model, X, features, class_index=-1, title='', num=100):\n",
        "    \"\"\"\n",
        "    Visualize predicted probabilities, for classifier fit on 2 numeric features\n",
        "    \n",
        "    Parameters\n",
        "    ----------\n",
        "    model : scikit-learn classifier, already fit\n",
        "    X : pandas dataframe, which was used to fit model\n",
        "    features : list of strings, column names of the 2 numeric features\n",
        "    class_index : integer, index of class label\n",
        "    title : string, title of plot\n",
        "    num : int, number of grid points for each feature\n",
        "    \n",
        "    Returns\n",
        "    -------\n",
        "    y_pred_proba : numpy array, predicted probabilities for class_index\n",
        "    \"\"\"\n",
        "    feature1, feature2 = features\n",
        "    min1, max1 = X[feature1].min(), X[feature1].max()\n",
        "    min2, max2 = X[feature2].min(), X[feature2].max()\n",
        "    x1 = np.linspace(min1, max1, num)\n",
        "    x2 = np.linspace(max2, min2, num)\n",
        "    combos = list(itertools.product(x1, x2))\n",
        "    y_pred_proba = model.predict_proba(combos)[:, class_index]\n",
        "    pred_grid = y_pred_proba.reshape(num, num).T\n",
        "    table = pd.DataFrame(pred_grid, columns=x1, index=x2)\n",
        "    sns.heatmap(table, vmin=0, vmax=1)\n",
        "    plt.xticks([])\n",
        "    plt.yticks([])\n",
        "    plt.xlabel(feature1)\n",
        "    plt.ylabel(feature2)\n",
        "    plt.title(title)\n",
        "    plt.show()\n",
        "    return y_pred_proba\n"
      ],
      "execution_count": 0,
      "outputs": []
    },
    {
      "cell_type": "markdown",
      "metadata": {
        "colab_type": "text",
        "id": "DiRfPqHjgLVl"
      },
      "source": [
        "### Compare Decision Tree, Random Forest, Logistic Regression"
      ]
    },
    {
      "cell_type": "code",
      "metadata": {
        "colab_type": "code",
        "id": "HKkMLXhMgLVl",
        "outputId": "790a53b4-9e61-4726-93da-526f67fa2ff1",
        "colab": {
          "base_uri": "https://localhost:8080/",
          "height": 864,
          "referenced_widgets": [
            "651c5710e37e4341a4d4ec71af74e51a",
            "b176572b7756415fa208150033d2d2e7",
            "74c32a60e99c4bcdbf66179cf9c0fc22",
            "1ed6acf398c348feaa229a59e85320ee",
            "cc5e179e71e34cef854b9b2856c94203",
            "baec861b903548e2bcf7ad12be7a11de",
            "9f5fdf3f622d4150bcbcc7f6fcbcfcdc",
            "6b46f4034b1b4437b74695185f80f8f2",
            "48e175ad8c4043dfa4d74acad38b5ee5"
          ]
        }
      },
      "source": [
        "# Instructions\n",
        "# 1. Choose two features\n",
        "# 2. Run this code cell\n",
        "# 3. Interact with the widget sliders\n",
        "feature1 = 'longitude'\n",
        "feature2 = 'quantity'\n",
        "\n",
        "from sklearn.linear_model import LogisticRegression\n",
        "from sklearn.tree import DecisionTreeClassifier\n",
        "\n",
        "def get_X_y(df, feature1, feature2, target):\n",
        "    features = [feature1, feature2]\n",
        "    X = df[features]\n",
        "    y = df[target]\n",
        "    X = X.fillna(X.median())\n",
        "    X = ce.OrdinalEncoder().fit_transform(X)\n",
        "    return X, y\n",
        "\n",
        "def compare_models(max_depth=1, n_estimators=1):\n",
        "    models = [DecisionTreeClassifier(max_depth=max_depth), \n",
        "              RandomForestClassifier(max_depth=max_depth, n_estimators=n_estimators), \n",
        "              LogisticRegression(solver='lbfgs', multi_class='auto')]\n",
        "    \n",
        "    for model in models:\n",
        "        name = model.__class__.__name__\n",
        "        model.fit(X, y)\n",
        "        pred_heatmap(model, X, [feature1, feature2], class_index=0, title=name)\n",
        "\n",
        "X, y = get_X_y(train, feature1, feature2, target='status_group')\n",
        "interact(compare_models, max_depth=(1,6,1), n_estimators=(10,40,10));"
      ],
      "execution_count": 0,
      "outputs": [
        {
          "output_type": "display_data",
          "data": {
            "application/vnd.jupyter.widget-view+json": {
              "model_id": "651c5710e37e4341a4d4ec71af74e51a",
              "version_minor": 0,
              "version_major": 2
            },
            "text/plain": [
              "interactive(children=(IntSlider(value=1, description='max_depth', max=6, min=1), IntSlider(value=10, descripti…"
            ]
          },
          "metadata": {
            "tags": []
          }
        }
      ]
    },
    {
      "cell_type": "markdown",
      "metadata": {
        "colab_type": "text",
        "id": "hOQqjLEDgLVn"
      },
      "source": [
        "### Bagging"
      ]
    },
    {
      "cell_type": "code",
      "metadata": {
        "colab_type": "code",
        "id": "Hm4aPgs2gLVn",
        "outputId": "bcab2017-bbaf-4a4d-8d78-eb84d23f6dc6",
        "colab": {
          "base_uri": "https://localhost:8080/",
          "height": 864,
          "referenced_widgets": [
            "08362138756c4cd79ee86c66f1730976",
            "b5e664a09b914a1f974a12b3ead8e70b",
            "cc8321322e754c6b96b9aa4393656484",
            "83a9b285d0624cd593ce9f3e54d74f99",
            "3dd5c8a6f3af440bb961a981fc153eff",
            "502f253702d243e0810bef532fc4e6a8",
            "2f10149f0a9a4154a1efe9252fb98eba",
            "6fa98a85322d4ed4b8550f66a34a9413",
            "6e5ab5a35b2c46a78cc7e87a77be769d"
          ]
        }
      },
      "source": [
        "# Do-it-yourself Bagging Ensemble of Decision Trees (like a Random Forest)\n",
        "\n",
        "# Instructions\n",
        "# 1. Choose two features\n",
        "# 2. Run this code cell\n",
        "# 3. Interact with the widget sliders\n",
        "\n",
        "feature1 = 'longitude'\n",
        "feature2 = 'latitude'\n",
        "\n",
        "def waterpumps_bagging(max_depth=1, n_estimators=1):\n",
        "    predicteds = []\n",
        "    for i in range(n_estimators):\n",
        "        title = f'Tree {i+1}'\n",
        "        bootstrap_sample = train.sample(n=len(train), replace=True)\n",
        "        X, y = get_X_y(bootstrap_sample, feature1, feature2, target='status_group')\n",
        "        tree = DecisionTreeClassifier(max_depth=max_depth)\n",
        "        tree.fit(X, y)\n",
        "        predicted = pred_heatmap(tree, X, [feature1, feature2], class_index=0, title=title)\n",
        "        predicteds.append(predicted)\n",
        "    \n",
        "    ensembled = np.vstack(predicteds).mean(axis=0)\n",
        "    title = f'Ensemble of {n_estimators} trees, with max_depth={max_depth}'\n",
        "    sns.heatmap(ensembled.reshape(100, 100).T, vmin=0, vmax=1)\n",
        "    plt.title(title)\n",
        "    plt.xlabel(feature1)\n",
        "    plt.ylabel(feature2)\n",
        "    plt.xticks([])\n",
        "    plt.yticks([])\n",
        "    plt.show()\n",
        "        \n",
        "interact(waterpumps_bagging, max_depth=(1,6,1), n_estimators=(2,5,1));"
      ],
      "execution_count": 0,
      "outputs": [
        {
          "output_type": "display_data",
          "data": {
            "application/vnd.jupyter.widget-view+json": {
              "model_id": "08362138756c4cd79ee86c66f1730976",
              "version_minor": 0,
              "version_major": 2
            },
            "text/plain": [
              "interactive(children=(IntSlider(value=1, description='max_depth', max=6, min=1), IntSlider(value=2, descriptio…"
            ]
          },
          "metadata": {
            "tags": []
          }
        }
      ]
    },
    {
      "cell_type": "markdown",
      "metadata": {
        "colab_type": "text",
        "id": "wYoSBi15akWP"
      },
      "source": [
        "# Review\n",
        "\n",
        "#### Try Tree Ensembles when you do machine learning with labeled, tabular data\n",
        "- \"Tree Ensembles\" means Random Forest or Gradient Boosting models. \n",
        "- [Tree Ensembles often have the best predictive accuracy](https://arxiv.org/abs/1708.05070) with labeled, tabular data.\n",
        "- Why? Because trees can fit non-linear, non-[monotonic](https://en.wikipedia.org/wiki/Monotonic_function) relationships, and [interactions](https://christophm.github.io/interpretable-ml-book/interaction.html) between features.\n",
        "- A single decision tree, grown to unlimited depth, will [overfit](http://www.r2d3.us/visual-intro-to-machine-learning-part-1/). We solve this problem by ensembling trees, with bagging (Random Forest) or boosting (Gradient Boosting).\n",
        "- Random Forest's advantage: may be less sensitive to hyperparameters. Gradient Boosting's advantage: may get better predictive accuracy.\n",
        "\n",
        "#### One-hot encoding isn’t the only way, and may not be the best way, of categorical encoding for tree ensembles.\n",
        "- For example, tree ensembles can work with arbitrary \"ordinal\" encoding! (Randomly assigning an integer to each category.) Compared to one-hot encoding, the dimensionality will be lower, and the predictive accuracy may be just as good or even better.\n"
      ]
    }
  ]
}